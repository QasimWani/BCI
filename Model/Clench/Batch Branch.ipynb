{
 "cells": [
  {
   "cell_type": "code",
   "execution_count": 1,
   "metadata": {},
   "outputs": [],
   "source": [
    "#Calculates the number of Clenches in individual .csv file of EEG data caused by fluctuations in Electric Potential."
   ]
  },
  {
   "cell_type": "code",
   "execution_count": 2,
   "metadata": {},
   "outputs": [],
   "source": [
    "from scipy import fft, arange, signal\n",
    "from scipy.special import logit, expit\n",
    "import numpy as np\n",
    "import matplotlib.pyplot as plt\n",
    "from scipy.io import wavfile\n",
    "import os\n",
    "import csv\n",
    "import pandas as pd\n",
    "from ttictoc import TicToc\n",
    "#----------------------\n",
    "from sklearn.metrics import accuracy_score, confusion_matrix, precision_score\n",
    "from sklearn.ensemble import RandomForestClassifier\n",
    "from sklearn import svm, tree\n",
    "import xgboost\n",
    "from sklearn.model_selection import train_test_split\n",
    "#---------------------RF HP-f(x) & CV---------------\n",
    "from sklearn.model_selection import RandomizedSearchCV, GridSearchCV\n",
    "from sklearn.model_selection import cross_val_score"
   ]
  },
  {
   "cell_type": "code",
   "execution_count": 3,
   "metadata": {},
   "outputs": [],
   "source": [
    "EEG_FOLDER = \"../../data/Clench/Batch_Tests\""
   ]
  },
  {
   "cell_type": "code",
   "execution_count": 4,
   "metadata": {},
   "outputs": [],
   "source": [
    "def find_files(PATH, ext):\n",
    "    \"\"\"\n",
    "    Finds all the files in a particular directory. Return only .csv files.\n",
    "    \"\"\"\n",
    "    files = []\n",
    "    for r, d, f in os.walk(PATH):\n",
    "        for file in f:\n",
    "            if ext in file:\n",
    "                files.append(os.path.join(r, file).replace(\"\\\\\",\"/\"))\n",
    "    return files"
   ]
  },
  {
   "cell_type": "code",
   "execution_count": 7,
   "metadata": {},
   "outputs": [],
   "source": [
    "def remove_meta_data(PATH):\n",
    "    \"\"\"\n",
    "    Return:\n",
    "    1. Changes in Electric potential based on Unix timestamp from\n",
    "        the 5 channels of the Emotiv headset. 2 channels from the Frontal Lobe, \n",
    "        1 channel from the parietal lobe, and 2 from temporal lobe.\n",
    "    2. Pandas Dataframe of the data reflected from (1).\n",
    "    \"\"\"\n",
    "    reader = csv.reader(open(PATH, \"rt\"), delimiter='\\t')\n",
    "    i = 0\n",
    "    one_file_data = []\n",
    "    for line in reader:\n",
    "        if(i > 0):\n",
    "            one_file_data.append(line)\n",
    "        i += 1\n",
    "    one_file_data = np.array(one_file_data)\n",
    "    columns = one_file_data[0][0].split(\",\")[3:8]\n",
    "    row_data = []\n",
    "    for rows in one_file_data[1:]:\n",
    "        dtx = rows[0].split(\",\")[3:8]\n",
    "        cont = []\n",
    "        for x in dtx:\n",
    "            cont.append(float(x))\n",
    "        row_data.append(cont)\n",
    "    dataframe = pd.DataFrame(row_data, columns=columns)\n",
    "    return np.array(row_data), dataframe"
   ]
  },
  {
   "cell_type": "code",
   "execution_count": 94,
   "metadata": {},
   "outputs": [],
   "source": [
    "def data_DF_dir(list_PATH):\n",
    "    \"\"\"\n",
    "    Returns all the data from a given set of path files and its associated pandas dataframe object.\n",
    "    \"\"\"\n",
    "    raw_data = []\n",
    "    dataframes = []\n",
    "    for file in list_PATH:\n",
    "        rd, dfob = remove_meta_data(file)\n",
    "        raw_data.append(rd)\n",
    "        dataframes.append(dfob)\n",
    "    return raw_data, dataframes"
   ]
  },
  {
   "cell_type": "code",
   "execution_count": 11,
   "metadata": {},
   "outputs": [],
   "source": [
    "def count_peaks_validation(peaks, x, threshold_vertical):\n",
    "    count = 0\n",
    "    for states in peaks:\n",
    "        if(states > threshold_vertical):\n",
    "            count += 1\n",
    "    plt.plot(x)\n",
    "    plt.xlabel(\"Time (sample_rate (128) per second expansion)\")\n",
    "    plt.ylabel(\"Amplitude\")\n",
    "    plt.title(\"Time Domain Chart of Peak count (One-Sided f(x))\", y=1.08)\n",
    "    return count"
   ]
  },
  {
   "cell_type": "code",
   "execution_count": 324,
   "metadata": {},
   "outputs": [],
   "source": [
    "def ease(index, distance, start_index, threshold_vertical, height, width):\n",
    "    dataCV = []\n",
    "    peakCV = []\n",
    "    for i in range(2, 3):\n",
    "        x = bci_data[index].T[i][start_index:]\n",
    "        x = abs(x - np.average(x))  # biasing.\n",
    "        peaks, props = signal.find_peaks(x, distance=distance, height=height, width=width)\n",
    "        count = count_peaks_validation(peaks, x, threshold_vertical)\n",
    "        dataCV.append(count)\n",
    "        peakCV.append(peaks)\n",
    "    count = round(np.array(dataCV).mean())\n",
    "    return friendly_name[index], count, peakCV"
   ]
  },
  {
   "cell_type": "code",
   "execution_count": 325,
   "metadata": {},
   "outputs": [],
   "source": [
    "files = find_files(EEG_FOLDER, \".csv\")"
   ]
  },
  {
   "cell_type": "code",
   "execution_count": 326,
   "metadata": {},
   "outputs": [],
   "source": [
    "bci_data, bci_df = data_DF_dir(files)"
   ]
  },
  {
   "cell_type": "code",
   "execution_count": 327,
   "metadata": {},
   "outputs": [],
   "source": [
    "friendly_name = [x.split(\"/\")[-1].split(\"_\")[0] for x in files]"
   ]
  },
  {
   "cell_type": "code",
   "execution_count": 328,
   "metadata": {},
   "outputs": [],
   "source": [
    "ind = 2"
   ]
  },
  {
   "cell_type": "code",
   "execution_count": 329,
   "metadata": {},
   "outputs": [
    {
     "data": {
      "text/plain": [
       "'../../data/Clench/Batch_Tests/3plus4HARD_test_03.01.20_00.08.56.md.bp.csv'"
      ]
     },
     "execution_count": 329,
     "metadata": {},
     "output_type": "execute_result"
    }
   ],
   "source": [
    "files[ind]"
   ]
  },
  {
   "cell_type": "code",
   "execution_count": 330,
   "metadata": {},
   "outputs": [
    {
     "data": {
      "image/png": "[encoded data removed]",
      "text/plain": [
       "<Figure size 432x288 with 1 Axes>"
      ]
     },
     "metadata": {
      "needs_background": "light"
     },
     "output_type": "display_data"
    }
   ],
   "source": [
    "_,t, prp = ease(ind, 309, 384, 50, 200, 1)"
   ]
  },
  {
   "cell_type": "code",
   "execution_count": 331,
   "metadata": {},
   "outputs": [
    {
     "data": {
      "text/plain": [
       "[array([  73,  530,  948, 1670, 2073, 2418, 2839, 3227, 3600, 4018, 4356,\n",
       "        4778, 5138, 5627, 6011, 6795, 7321, 7798, 8220, 8669, 9000],\n",
       "       dtype=int64)]"
      ]
     },
     "execution_count": 331,
     "metadata": {},
     "output_type": "execute_result"
    }
   ],
   "source": [
    "prp"
   ]
  },
  {
   "cell_type": "code",
   "execution_count": 332,
   "metadata": {},
   "outputs": [],
   "source": [
    "def calc_difference(art):\n",
    "    diar = []\n",
    "    for arr in art:\n",
    "        opA = 0\n",
    "        opB = 0\n",
    "        diff_arr = []\n",
    "        for i in arr:\n",
    "            opB = i\n",
    "            diff_arr.append(opB - opA)\n",
    "            opA = i\n",
    "        diff_arr = np.array(diff_arr)\n",
    "        diar.append(diff_arr)\n",
    "    return diar"
   ]
  },
  {
   "cell_type": "code",
   "execution_count": 333,
   "metadata": {},
   "outputs": [],
   "source": [
    "diff = calc_difference(prp)"
   ]
  },
  {
   "cell_type": "code",
   "execution_count": 334,
   "metadata": {},
   "outputs": [
    {
     "data": {
      "text/plain": [
       "[<matplotlib.lines.Line2D at 0x1f39d48ac18>]"
      ]
     },
     "execution_count": 334,
     "metadata": {},
     "output_type": "execute_result"
    },
    {
     "data": {
      "image/png": "[encoded data removed]",
      "text/plain": [
       "<Figure size 432x288 with 1 Axes>"
      ]
     },
     "metadata": {
      "needs_background": "light"
     },
     "output_type": "display_data"
    }
   ],
   "source": [
    "plt.plot(diff[0])"
   ]
  },
  {
   "cell_type": "code",
   "execution_count": 335,
   "metadata": {},
   "outputs": [
    {
     "data": {
      "text/plain": [
       "[array([ 73, 457, 418, 722, 403, 345, 421, 388, 373, 418, 338, 422, 360,\n",
       "        489, 384, 784, 526, 477, 422, 449, 331], dtype=int64)]"
      ]
     },
     "execution_count": 335,
     "metadata": {},
     "output_type": "execute_result"
    }
   ],
   "source": [
    "diff"
   ]
  },
  {
   "cell_type": "code",
   "execution_count": 338,
   "metadata": {},
   "outputs": [],
   "source": [
    "dex = 0"
   ]
  },
  {
   "cell_type": "code",
   "execution_count": 339,
   "metadata": {},
   "outputs": [],
   "source": [
    "units = 0\n",
    "opcodes = []\n",
    "for i in range(len(diff[dex])):\n",
    "    if(diff[dex][i] <= 600):\n",
    "        units += 1\n",
    "    elif(diff[dex][i] > 600):\n",
    "        opcodes.append(units)\n",
    "        units = 0\n",
    "if(units > 0):    \n",
    "    opcodes.append(units)"
   ]
  },
  {
   "cell_type": "code",
   "execution_count": 340,
   "metadata": {},
   "outputs": [
    {
     "data": {
      "text/plain": [
       "[3, 11, 5]"
      ]
     },
     "execution_count": 340,
     "metadata": {},
     "output_type": "execute_result"
    }
   ],
   "source": [
    "opcodes"
   ]
  },
  {
   "cell_type": "code",
   "execution_count": 312,
   "metadata": {},
   "outputs": [],
   "source": [
    "def get_result(count):\n",
    "    opA = ''\n",
    "    opB = ''\n",
    "    operation = ['+','-','*','/']\n",
    "    result = 0\n",
    "\n",
    "    check = False\n",
    "    for x in count:\n",
    "        x = int(x)\n",
    "        if(x < 10):\n",
    "            if(check == True):\n",
    "                opB += str(x)\n",
    "            else:\n",
    "                opA += str(x)\n",
    "        else:\n",
    "            operation = operation[int(x%10)]\n",
    "            check = True\n",
    "    \n",
    "    opA = int(opA)\n",
    "    if(check):\n",
    "        opB = int(opB)\n",
    "    else:\n",
    "        opB = 0\n",
    "        result = opA\n",
    "        operation = None\n",
    "    \n",
    "    if(operation == '+'):\n",
    "        result = opA + opB\n",
    "    elif(operation == '-'):\n",
    "        result = opA - opB\n",
    "    elif(operation == '*'):\n",
    "        result = opA * opB\n",
    "    elif(operation == '/'):\n",
    "        result = opA / opB\n",
    "    return opA, operation, opB, result"
   ]
  },
  {
   "cell_type": "code",
   "execution_count": 313,
   "metadata": {},
   "outputs": [],
   "source": [
    "opA, operation, opB, result = get_result(opcodes)"
   ]
  },
  {
   "cell_type": "code",
   "execution_count": 314,
   "metadata": {},
   "outputs": [
    {
     "data": {
      "text/plain": [
       "(3, '-', 5, -2)"
      ]
     },
     "execution_count": 314,
     "metadata": {},
     "output_type": "execute_result"
    }
   ],
   "source": [
    "opA, operation, opB, result"
   ]
  },
  {
   "cell_type": "code",
   "execution_count": null,
   "metadata": {},
   "outputs": [],
   "source": []
  }
 ],
 "metadata": {
  "kernelspec": {
   "display_name": "Python 3",
   "language": "python",
   "name": "python3"
  },
  "language_info": {
   "codemirror_mode": {
    "name": "ipython",
    "version": 3
   },
   "file_extension": ".py",
   "mimetype": "text/x-python",
   "name": "python",
   "nbconvert_exporter": "python",
   "pygments_lexer": "ipython3",
   "version": "3.7.3"
  }
 },
 "nbformat": 4,
 "nbformat_minor": 2
}
