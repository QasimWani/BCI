{
 "cells": [
  {
   "cell_type": "code",
   "execution_count": 1,
   "metadata": {},
   "outputs": [],
   "source": [
    "### This file runs different models and tries to figure out which classifier outperforms the task.\n",
    "### Also does data processing to send in the right data into the model."
   ]
  },
  {
   "cell_type": "code",
   "execution_count": 2,
   "metadata": {},
   "outputs": [],
   "source": [
    "import numpy as np\n",
    "import pandas as pd\n",
    "from sklearn.metrics import accuracy_score, confusion_matrix\n",
    "from sklearn.ensemble import RandomForestClassifier\n",
    "from sklearn import svm, tree\n",
    "import xgboost\n",
    "from sklearn.model_selection import train_test_split"
   ]
  },
  {
   "cell_type": "code",
   "execution_count": 3,
   "metadata": {},
   "outputs": [],
   "source": [
    "path0 = \"../../data/sad test_25.12.19_20.39.40.md.pm.bp.csv\"\n",
    "path1 = \"../../data/Test 1_25.12.19_20.33.54.md.bp.csv\""
   ]
  },
  {
   "cell_type": "code",
   "execution_count": 4,
   "metadata": {},
   "outputs": [],
   "source": [
    "data0 = pd.read_csv(path0)\n",
    "data1 = pd.read_csv(path1)"
   ]
  },
  {
   "cell_type": "code",
   "execution_count": 5,
   "metadata": {},
   "outputs": [],
   "source": [
    "def set_classifier(end, val):\n",
    "    data = []\n",
    "    for i in range(0, end):\n",
    "        data.append(val)\n",
    "    return np.array(data)"
   ]
  },
  {
   "cell_type": "code",
   "execution_count": 6,
   "metadata": {},
   "outputs": [],
   "source": [
    "end0 = len(data0.iloc[:,1])\n",
    "end1 = len(data1.iloc[:,1])"
   ]
  },
  {
   "cell_type": "code",
   "execution_count": 7,
   "metadata": {},
   "outputs": [],
   "source": [
    "y0 = set_classifier(end0, 0)\n",
    "y1 = set_classifier(end1, 1)\n",
    "if(len(y0) < len(y1)):\n",
    "    y1 = y1[0:len(y0)]\n",
    "elif(len(y0) > len(y1)):\n",
    "    y0 = y0[0:len(y1)]"
   ]
  },
  {
   "cell_type": "code",
   "execution_count": 8,
   "metadata": {},
   "outputs": [
    {
     "data": {
      "text/html": [
       "<div>\n",
       "<style scoped>\n",
       "    .dataframe tbody tr th:only-of-type {\n",
       "        vertical-align: middle;\n",
       "    }\n",
       "\n",
       "    .dataframe tbody tr th {\n",
       "        vertical-align: top;\n",
       "    }\n",
       "\n",
       "    .dataframe thead th {\n",
       "        text-align: right;\n",
       "    }\n",
       "</style>\n",
       "<table border=\"1\" class=\"dataframe\">\n",
       "  <thead>\n",
       "    <tr style=\"text-align: right;\">\n",
       "      <th></th>\n",
       "      <th>Timestamp</th>\n",
       "      <th>EEG.Counter</th>\n",
       "      <th>EEG.Interpolated</th>\n",
       "      <th>EEG.AF3</th>\n",
       "      <th>EEG.T7</th>\n",
       "      <th>EEG.Pz</th>\n",
       "      <th>EEG.T8</th>\n",
       "      <th>EEG.AF4</th>\n",
       "      <th>EEG.RawCq</th>\n",
       "      <th>EEG.Battery</th>\n",
       "      <th>...</th>\n",
       "      <th>POW.T8.Theta</th>\n",
       "      <th>POW.T8.Alpha</th>\n",
       "      <th>POW.T8.BetaL</th>\n",
       "      <th>POW.T8.BetaH</th>\n",
       "      <th>POW.T8.Gamma</th>\n",
       "      <th>POW.AF4.Theta</th>\n",
       "      <th>POW.AF4.Alpha</th>\n",
       "      <th>POW.AF4.BetaL</th>\n",
       "      <th>POW.AF4.BetaH</th>\n",
       "      <th>POW.AF4.Gamma</th>\n",
       "    </tr>\n",
       "  </thead>\n",
       "  <tbody>\n",
       "    <tr>\n",
       "      <th>0</th>\n",
       "      <td>1577295581</td>\n",
       "      <td>122</td>\n",
       "      <td>0</td>\n",
       "      <td>4359.487305</td>\n",
       "      <td>4240.512695</td>\n",
       "      <td>4826.153809</td>\n",
       "      <td>4475.384766</td>\n",
       "      <td>4537.948730</td>\n",
       "      <td>450</td>\n",
       "      <td>4</td>\n",
       "      <td>...</td>\n",
       "      <td>NaN</td>\n",
       "      <td>NaN</td>\n",
       "      <td>NaN</td>\n",
       "      <td>NaN</td>\n",
       "      <td>NaN</td>\n",
       "      <td>NaN</td>\n",
       "      <td>NaN</td>\n",
       "      <td>NaN</td>\n",
       "      <td>NaN</td>\n",
       "      <td>NaN</td>\n",
       "    </tr>\n",
       "    <tr>\n",
       "      <th>1</th>\n",
       "      <td>1577295581</td>\n",
       "      <td>123</td>\n",
       "      <td>0</td>\n",
       "      <td>4591.282227</td>\n",
       "      <td>4428.205078</td>\n",
       "      <td>2386.666748</td>\n",
       "      <td>3925.641113</td>\n",
       "      <td>4133.846191</td>\n",
       "      <td>16171</td>\n",
       "      <td>4</td>\n",
       "      <td>...</td>\n",
       "      <td>NaN</td>\n",
       "      <td>NaN</td>\n",
       "      <td>NaN</td>\n",
       "      <td>NaN</td>\n",
       "      <td>NaN</td>\n",
       "      <td>NaN</td>\n",
       "      <td>NaN</td>\n",
       "      <td>NaN</td>\n",
       "      <td>NaN</td>\n",
       "      <td>NaN</td>\n",
       "    </tr>\n",
       "    <tr>\n",
       "      <th>2</th>\n",
       "      <td>1577295581</td>\n",
       "      <td>124</td>\n",
       "      <td>0</td>\n",
       "      <td>3852.307617</td>\n",
       "      <td>3799.487061</td>\n",
       "      <td>2505.128174</td>\n",
       "      <td>3118.461426</td>\n",
       "      <td>3349.230713</td>\n",
       "      <td>450</td>\n",
       "      <td>4</td>\n",
       "      <td>...</td>\n",
       "      <td>NaN</td>\n",
       "      <td>NaN</td>\n",
       "      <td>NaN</td>\n",
       "      <td>NaN</td>\n",
       "      <td>NaN</td>\n",
       "      <td>NaN</td>\n",
       "      <td>NaN</td>\n",
       "      <td>NaN</td>\n",
       "      <td>NaN</td>\n",
       "      <td>NaN</td>\n",
       "    </tr>\n",
       "    <tr>\n",
       "      <th>3</th>\n",
       "      <td>1577295581</td>\n",
       "      <td>125</td>\n",
       "      <td>0</td>\n",
       "      <td>4070.769287</td>\n",
       "      <td>4015.384521</td>\n",
       "      <td>5077.436035</td>\n",
       "      <td>4198.974121</td>\n",
       "      <td>4233.846191</td>\n",
       "      <td>450</td>\n",
       "      <td>4</td>\n",
       "      <td>...</td>\n",
       "      <td>NaN</td>\n",
       "      <td>NaN</td>\n",
       "      <td>NaN</td>\n",
       "      <td>NaN</td>\n",
       "      <td>NaN</td>\n",
       "      <td>NaN</td>\n",
       "      <td>NaN</td>\n",
       "      <td>NaN</td>\n",
       "      <td>NaN</td>\n",
       "      <td>NaN</td>\n",
       "    </tr>\n",
       "    <tr>\n",
       "      <th>4</th>\n",
       "      <td>1577295581</td>\n",
       "      <td>126</td>\n",
       "      <td>0</td>\n",
       "      <td>4456.410156</td>\n",
       "      <td>4318.461426</td>\n",
       "      <td>4151.794922</td>\n",
       "      <td>4366.153809</td>\n",
       "      <td>4440.000000</td>\n",
       "      <td>450</td>\n",
       "      <td>4</td>\n",
       "      <td>...</td>\n",
       "      <td>NaN</td>\n",
       "      <td>NaN</td>\n",
       "      <td>NaN</td>\n",
       "      <td>NaN</td>\n",
       "      <td>NaN</td>\n",
       "      <td>NaN</td>\n",
       "      <td>NaN</td>\n",
       "      <td>NaN</td>\n",
       "      <td>NaN</td>\n",
       "      <td>NaN</td>\n",
       "    </tr>\n",
       "  </tbody>\n",
       "</table>\n",
       "<p>5 rows × 87 columns</p>\n",
       "</div>"
      ],
      "text/plain": [
       "    Timestamp  EEG.Counter  EEG.Interpolated      EEG.AF3       EEG.T7  \\\n",
       "0  1577295581          122                 0  4359.487305  4240.512695   \n",
       "1  1577295581          123                 0  4591.282227  4428.205078   \n",
       "2  1577295581          124                 0  3852.307617  3799.487061   \n",
       "3  1577295581          125                 0  4070.769287  4015.384521   \n",
       "4  1577295581          126                 0  4456.410156  4318.461426   \n",
       "\n",
       "        EEG.Pz       EEG.T8      EEG.AF4  EEG.RawCq  EEG.Battery  ...  \\\n",
       "0  4826.153809  4475.384766  4537.948730        450            4  ...   \n",
       "1  2386.666748  3925.641113  4133.846191      16171            4  ...   \n",
       "2  2505.128174  3118.461426  3349.230713        450            4  ...   \n",
       "3  5077.436035  4198.974121  4233.846191        450            4  ...   \n",
       "4  4151.794922  4366.153809  4440.000000        450            4  ...   \n",
       "\n",
       "   POW.T8.Theta  POW.T8.Alpha  POW.T8.BetaL  POW.T8.BetaH  POW.T8.Gamma  \\\n",
       "0           NaN           NaN           NaN           NaN           NaN   \n",
       "1           NaN           NaN           NaN           NaN           NaN   \n",
       "2           NaN           NaN           NaN           NaN           NaN   \n",
       "3           NaN           NaN           NaN           NaN           NaN   \n",
       "4           NaN           NaN           NaN           NaN           NaN   \n",
       "\n",
       "   POW.AF4.Theta  POW.AF4.Alpha  POW.AF4.BetaL  POW.AF4.BetaH  POW.AF4.Gamma  \n",
       "0            NaN            NaN            NaN            NaN            NaN  \n",
       "1            NaN            NaN            NaN            NaN            NaN  \n",
       "2            NaN            NaN            NaN            NaN            NaN  \n",
       "3            NaN            NaN            NaN            NaN            NaN  \n",
       "4            NaN            NaN            NaN            NaN            NaN  \n",
       "\n",
       "[5 rows x 87 columns]"
      ]
     },
     "execution_count": 8,
     "metadata": {},
     "output_type": "execute_result"
    }
   ],
   "source": [
    "data0.head()"
   ]
  },
  {
   "cell_type": "code",
   "execution_count": 9,
   "metadata": {},
   "outputs": [
    {
     "data": {
      "text/html": [
       "<div>\n",
       "<style scoped>\n",
       "    .dataframe tbody tr th:only-of-type {\n",
       "        vertical-align: middle;\n",
       "    }\n",
       "\n",
       "    .dataframe tbody tr th {\n",
       "        vertical-align: top;\n",
       "    }\n",
       "\n",
       "    .dataframe thead th {\n",
       "        text-align: right;\n",
       "    }\n",
       "</style>\n",
       "<table border=\"1\" class=\"dataframe\">\n",
       "  <thead>\n",
       "    <tr style=\"text-align: right;\">\n",
       "      <th></th>\n",
       "      <th>Timestamp</th>\n",
       "      <th>EEG.Counter</th>\n",
       "      <th>EEG.Interpolated</th>\n",
       "      <th>EEG.AF3</th>\n",
       "      <th>EEG.T7</th>\n",
       "      <th>EEG.Pz</th>\n",
       "      <th>EEG.T8</th>\n",
       "      <th>EEG.AF4</th>\n",
       "      <th>EEG.RawCq</th>\n",
       "      <th>EEG.Battery</th>\n",
       "      <th>...</th>\n",
       "      <th>POW.T8.Theta</th>\n",
       "      <th>POW.T8.Alpha</th>\n",
       "      <th>POW.T8.BetaL</th>\n",
       "      <th>POW.T8.BetaH</th>\n",
       "      <th>POW.T8.Gamma</th>\n",
       "      <th>POW.AF4.Theta</th>\n",
       "      <th>POW.AF4.Alpha</th>\n",
       "      <th>POW.AF4.BetaL</th>\n",
       "      <th>POW.AF4.BetaH</th>\n",
       "      <th>POW.AF4.Gamma</th>\n",
       "    </tr>\n",
       "  </thead>\n",
       "  <tbody>\n",
       "    <tr>\n",
       "      <th>0</th>\n",
       "      <td>1577295234</td>\n",
       "      <td>96</td>\n",
       "      <td>0</td>\n",
       "      <td>4285.128418</td>\n",
       "      <td>4310.769043</td>\n",
       "      <td>4112.820313</td>\n",
       "      <td>4102.563965</td>\n",
       "      <td>4174.358887</td>\n",
       "      <td>450</td>\n",
       "      <td>4</td>\n",
       "      <td>...</td>\n",
       "      <td>NaN</td>\n",
       "      <td>NaN</td>\n",
       "      <td>NaN</td>\n",
       "      <td>NaN</td>\n",
       "      <td>NaN</td>\n",
       "      <td>NaN</td>\n",
       "      <td>NaN</td>\n",
       "      <td>NaN</td>\n",
       "      <td>NaN</td>\n",
       "      <td>NaN</td>\n",
       "    </tr>\n",
       "    <tr>\n",
       "      <th>1</th>\n",
       "      <td>1577295234</td>\n",
       "      <td>97</td>\n",
       "      <td>0</td>\n",
       "      <td>4295.384766</td>\n",
       "      <td>4318.461426</td>\n",
       "      <td>4207.179688</td>\n",
       "      <td>4112.820313</td>\n",
       "      <td>4192.820313</td>\n",
       "      <td>450</td>\n",
       "      <td>4</td>\n",
       "      <td>...</td>\n",
       "      <td>NaN</td>\n",
       "      <td>NaN</td>\n",
       "      <td>NaN</td>\n",
       "      <td>NaN</td>\n",
       "      <td>NaN</td>\n",
       "      <td>NaN</td>\n",
       "      <td>NaN</td>\n",
       "      <td>NaN</td>\n",
       "      <td>NaN</td>\n",
       "      <td>NaN</td>\n",
       "    </tr>\n",
       "    <tr>\n",
       "      <th>2</th>\n",
       "      <td>1577295234</td>\n",
       "      <td>98</td>\n",
       "      <td>0</td>\n",
       "      <td>4269.230957</td>\n",
       "      <td>4296.922852</td>\n",
       "      <td>4225.641113</td>\n",
       "      <td>4126.666504</td>\n",
       "      <td>4177.948730</td>\n",
       "      <td>450</td>\n",
       "      <td>4</td>\n",
       "      <td>...</td>\n",
       "      <td>NaN</td>\n",
       "      <td>NaN</td>\n",
       "      <td>NaN</td>\n",
       "      <td>NaN</td>\n",
       "      <td>NaN</td>\n",
       "      <td>NaN</td>\n",
       "      <td>NaN</td>\n",
       "      <td>NaN</td>\n",
       "      <td>NaN</td>\n",
       "      <td>NaN</td>\n",
       "    </tr>\n",
       "    <tr>\n",
       "      <th>3</th>\n",
       "      <td>1577295234</td>\n",
       "      <td>99</td>\n",
       "      <td>0</td>\n",
       "      <td>4262.051270</td>\n",
       "      <td>4292.820313</td>\n",
       "      <td>4226.666504</td>\n",
       "      <td>4129.230957</td>\n",
       "      <td>4162.563965</td>\n",
       "      <td>16137</td>\n",
       "      <td>4</td>\n",
       "      <td>...</td>\n",
       "      <td>NaN</td>\n",
       "      <td>NaN</td>\n",
       "      <td>NaN</td>\n",
       "      <td>NaN</td>\n",
       "      <td>NaN</td>\n",
       "      <td>NaN</td>\n",
       "      <td>NaN</td>\n",
       "      <td>NaN</td>\n",
       "      <td>NaN</td>\n",
       "      <td>NaN</td>\n",
       "    </tr>\n",
       "    <tr>\n",
       "      <th>4</th>\n",
       "      <td>1577295234</td>\n",
       "      <td>100</td>\n",
       "      <td>0</td>\n",
       "      <td>4273.333496</td>\n",
       "      <td>4301.025879</td>\n",
       "      <td>4203.077148</td>\n",
       "      <td>4101.025879</td>\n",
       "      <td>4160.000000</td>\n",
       "      <td>450</td>\n",
       "      <td>4</td>\n",
       "      <td>...</td>\n",
       "      <td>NaN</td>\n",
       "      <td>NaN</td>\n",
       "      <td>NaN</td>\n",
       "      <td>NaN</td>\n",
       "      <td>NaN</td>\n",
       "      <td>NaN</td>\n",
       "      <td>NaN</td>\n",
       "      <td>NaN</td>\n",
       "      <td>NaN</td>\n",
       "      <td>NaN</td>\n",
       "    </tr>\n",
       "  </tbody>\n",
       "</table>\n",
       "<p>5 rows × 56 columns</p>\n",
       "</div>"
      ],
      "text/plain": [
       "    Timestamp  EEG.Counter  EEG.Interpolated      EEG.AF3       EEG.T7  \\\n",
       "0  1577295234           96                 0  4285.128418  4310.769043   \n",
       "1  1577295234           97                 0  4295.384766  4318.461426   \n",
       "2  1577295234           98                 0  4269.230957  4296.922852   \n",
       "3  1577295234           99                 0  4262.051270  4292.820313   \n",
       "4  1577295234          100                 0  4273.333496  4301.025879   \n",
       "\n",
       "        EEG.Pz       EEG.T8      EEG.AF4  EEG.RawCq  EEG.Battery  ...  \\\n",
       "0  4112.820313  4102.563965  4174.358887        450            4  ...   \n",
       "1  4207.179688  4112.820313  4192.820313        450            4  ...   \n",
       "2  4225.641113  4126.666504  4177.948730        450            4  ...   \n",
       "3  4226.666504  4129.230957  4162.563965      16137            4  ...   \n",
       "4  4203.077148  4101.025879  4160.000000        450            4  ...   \n",
       "\n",
       "   POW.T8.Theta  POW.T8.Alpha  POW.T8.BetaL  POW.T8.BetaH  POW.T8.Gamma  \\\n",
       "0           NaN           NaN           NaN           NaN           NaN   \n",
       "1           NaN           NaN           NaN           NaN           NaN   \n",
       "2           NaN           NaN           NaN           NaN           NaN   \n",
       "3           NaN           NaN           NaN           NaN           NaN   \n",
       "4           NaN           NaN           NaN           NaN           NaN   \n",
       "\n",
       "   POW.AF4.Theta  POW.AF4.Alpha  POW.AF4.BetaL  POW.AF4.BetaH  POW.AF4.Gamma  \n",
       "0            NaN            NaN            NaN            NaN            NaN  \n",
       "1            NaN            NaN            NaN            NaN            NaN  \n",
       "2            NaN            NaN            NaN            NaN            NaN  \n",
       "3            NaN            NaN            NaN            NaN            NaN  \n",
       "4            NaN            NaN            NaN            NaN            NaN  \n",
       "\n",
       "[5 rows x 56 columns]"
      ]
     },
     "execution_count": 9,
     "metadata": {},
     "output_type": "execute_result"
    }
   ],
   "source": [
    "data1.head()"
   ]
  },
  {
   "cell_type": "code",
   "execution_count": 10,
   "metadata": {},
   "outputs": [],
   "source": [
    "X0 = np.array(data0.iloc[:,3:8])\n",
    "X1 = np.array(data1.iloc[:,3:8])\n",
    "if(len(X0) < len(X1)):\n",
    "    X1 = X1[0:len(X0)]\n",
    "elif(len(X0) > len(X1)):\n",
    "    X0 = X0[0:len(X1)]"
   ]
  },
  {
   "cell_type": "code",
   "execution_count": 11,
   "metadata": {},
   "outputs": [],
   "source": [
    "X = np.array([X0, X1])"
   ]
  },
  {
   "cell_type": "code",
   "execution_count": 12,
   "metadata": {},
   "outputs": [],
   "source": [
    "y = np.array([y0, y1])"
   ]
  },
  {
   "cell_type": "code",
   "execution_count": null,
   "metadata": {},
   "outputs": [],
   "source": []
  },
  {
   "cell_type": "code",
   "execution_count": 13,
   "metadata": {},
   "outputs": [],
   "source": [
    "def arrange_X_Y(XX, yy):\n",
    "    DSP = []\n",
    "    for i in range(len(XX)):\n",
    "        for j in range(len(XX[i])):\n",
    "            t = list(XX[i][j])\n",
    "            t.append(yy[i][j])\n",
    "            DSP.append(t)\n",
    "    return DSP"
   ]
  },
  {
   "cell_type": "code",
   "execution_count": 14,
   "metadata": {},
   "outputs": [],
   "source": [
    "ref = arrange_X_Y(X,y)"
   ]
  },
  {
   "cell_type": "code",
   "execution_count": 15,
   "metadata": {},
   "outputs": [],
   "source": [
    "df = pd.DataFrame(data=ref, columns=[\"EEG.AF3\",\"EEG.T7\",\"EEG.Pz\",\"EEG.T8\",\"EEG.AF4\", \"Result\"])"
   ]
  },
  {
   "cell_type": "code",
   "execution_count": 16,
   "metadata": {},
   "outputs": [
    {
     "data": {
      "text/html": [
       "<div>\n",
       "<style scoped>\n",
       "    .dataframe tbody tr th:only-of-type {\n",
       "        vertical-align: middle;\n",
       "    }\n",
       "\n",
       "    .dataframe tbody tr th {\n",
       "        vertical-align: top;\n",
       "    }\n",
       "\n",
       "    .dataframe thead th {\n",
       "        text-align: right;\n",
       "    }\n",
       "</style>\n",
       "<table border=\"1\" class=\"dataframe\">\n",
       "  <thead>\n",
       "    <tr style=\"text-align: right;\">\n",
       "      <th></th>\n",
       "      <th>EEG.AF3</th>\n",
       "      <th>EEG.T7</th>\n",
       "      <th>EEG.Pz</th>\n",
       "      <th>EEG.T8</th>\n",
       "      <th>EEG.AF4</th>\n",
       "      <th>Result</th>\n",
       "    </tr>\n",
       "  </thead>\n",
       "  <tbody>\n",
       "    <tr>\n",
       "      <th>0</th>\n",
       "      <td>4359.487305</td>\n",
       "      <td>4240.512695</td>\n",
       "      <td>4826.153809</td>\n",
       "      <td>4475.384766</td>\n",
       "      <td>4537.948730</td>\n",
       "      <td>0</td>\n",
       "    </tr>\n",
       "    <tr>\n",
       "      <th>1</th>\n",
       "      <td>4591.282227</td>\n",
       "      <td>4428.205078</td>\n",
       "      <td>2386.666748</td>\n",
       "      <td>3925.641113</td>\n",
       "      <td>4133.846191</td>\n",
       "      <td>0</td>\n",
       "    </tr>\n",
       "    <tr>\n",
       "      <th>2</th>\n",
       "      <td>3852.307617</td>\n",
       "      <td>3799.487061</td>\n",
       "      <td>2505.128174</td>\n",
       "      <td>3118.461426</td>\n",
       "      <td>3349.230713</td>\n",
       "      <td>0</td>\n",
       "    </tr>\n",
       "    <tr>\n",
       "      <th>3</th>\n",
       "      <td>4070.769287</td>\n",
       "      <td>4015.384521</td>\n",
       "      <td>5077.436035</td>\n",
       "      <td>4198.974121</td>\n",
       "      <td>4233.846191</td>\n",
       "      <td>0</td>\n",
       "    </tr>\n",
       "    <tr>\n",
       "      <th>4</th>\n",
       "      <td>4456.410156</td>\n",
       "      <td>4318.461426</td>\n",
       "      <td>4151.794922</td>\n",
       "      <td>4366.153809</td>\n",
       "      <td>4440.000000</td>\n",
       "      <td>0</td>\n",
       "    </tr>\n",
       "  </tbody>\n",
       "</table>\n",
       "</div>"
      ],
      "text/plain": [
       "       EEG.AF3       EEG.T7       EEG.Pz       EEG.T8      EEG.AF4  Result\n",
       "0  4359.487305  4240.512695  4826.153809  4475.384766  4537.948730       0\n",
       "1  4591.282227  4428.205078  2386.666748  3925.641113  4133.846191       0\n",
       "2  3852.307617  3799.487061  2505.128174  3118.461426  3349.230713       0\n",
       "3  4070.769287  4015.384521  5077.436035  4198.974121  4233.846191       0\n",
       "4  4456.410156  4318.461426  4151.794922  4366.153809  4440.000000       0"
      ]
     },
     "execution_count": 16,
     "metadata": {},
     "output_type": "execute_result"
    }
   ],
   "source": [
    "df.head()"
   ]
  },
  {
   "cell_type": "code",
   "execution_count": 17,
   "metadata": {},
   "outputs": [
    {
     "data": {
      "text/html": [
       "<div>\n",
       "<style scoped>\n",
       "    .dataframe tbody tr th:only-of-type {\n",
       "        vertical-align: middle;\n",
       "    }\n",
       "\n",
       "    .dataframe tbody tr th {\n",
       "        vertical-align: top;\n",
       "    }\n",
       "\n",
       "    .dataframe thead th {\n",
       "        text-align: right;\n",
       "    }\n",
       "</style>\n",
       "<table border=\"1\" class=\"dataframe\">\n",
       "  <thead>\n",
       "    <tr style=\"text-align: right;\">\n",
       "      <th></th>\n",
       "      <th>EEG.AF3</th>\n",
       "      <th>EEG.T7</th>\n",
       "      <th>EEG.Pz</th>\n",
       "      <th>EEG.T8</th>\n",
       "      <th>EEG.AF4</th>\n",
       "      <th>Result</th>\n",
       "    </tr>\n",
       "  </thead>\n",
       "  <tbody>\n",
       "    <tr>\n",
       "      <th>0</th>\n",
       "      <td>4221.025879</td>\n",
       "      <td>4251.794922</td>\n",
       "      <td>4141.025879</td>\n",
       "      <td>4137.436035</td>\n",
       "      <td>4226.666504</td>\n",
       "      <td>1</td>\n",
       "    </tr>\n",
       "    <tr>\n",
       "      <th>1</th>\n",
       "      <td>4274.871582</td>\n",
       "      <td>3889.230713</td>\n",
       "      <td>4156.410156</td>\n",
       "      <td>4132.307617</td>\n",
       "      <td>4233.846191</td>\n",
       "      <td>0</td>\n",
       "    </tr>\n",
       "    <tr>\n",
       "      <th>2</th>\n",
       "      <td>4220.000000</td>\n",
       "      <td>4201.025879</td>\n",
       "      <td>4170.256348</td>\n",
       "      <td>4138.974121</td>\n",
       "      <td>4207.179688</td>\n",
       "      <td>0</td>\n",
       "    </tr>\n",
       "    <tr>\n",
       "      <th>3</th>\n",
       "      <td>4282.563965</td>\n",
       "      <td>4300.000000</td>\n",
       "      <td>4036.410156</td>\n",
       "      <td>4127.179688</td>\n",
       "      <td>4252.820313</td>\n",
       "      <td>1</td>\n",
       "    </tr>\n",
       "    <tr>\n",
       "      <th>4</th>\n",
       "      <td>4202.563965</td>\n",
       "      <td>4258.974121</td>\n",
       "      <td>4133.333496</td>\n",
       "      <td>4110.256348</td>\n",
       "      <td>4174.871582</td>\n",
       "      <td>1</td>\n",
       "    </tr>\n",
       "  </tbody>\n",
       "</table>\n",
       "</div>"
      ],
      "text/plain": [
       "       EEG.AF3       EEG.T7       EEG.Pz       EEG.T8      EEG.AF4  Result\n",
       "0  4221.025879  4251.794922  4141.025879  4137.436035  4226.666504       1\n",
       "1  4274.871582  3889.230713  4156.410156  4132.307617  4233.846191       0\n",
       "2  4220.000000  4201.025879  4170.256348  4138.974121  4207.179688       0\n",
       "3  4282.563965  4300.000000  4036.410156  4127.179688  4252.820313       1\n",
       "4  4202.563965  4258.974121  4133.333496  4110.256348  4174.871582       1"
      ]
     },
     "execution_count": 17,
     "metadata": {},
     "output_type": "execute_result"
    }
   ],
   "source": [
    "df = df.sample(frac=1).reset_index(drop=True)\n",
    "df.head()"
   ]
  },
  {
   "cell_type": "code",
   "execution_count": 18,
   "metadata": {},
   "outputs": [],
   "source": [
    "X_fin = np.array(df.iloc[:,:-1])\n",
    "y_fin = np.array(df.iloc[:,-1])"
   ]
  },
  {
   "cell_type": "code",
   "execution_count": 19,
   "metadata": {},
   "outputs": [],
   "source": [
    "X_train, X_test, y_train, y_test = train_test_split(X_fin, y_fin, test_size=0.3, shuffle=True)"
   ]
  },
  {
   "cell_type": "code",
   "execution_count": 20,
   "metadata": {},
   "outputs": [],
   "source": [
    "## Classifiers..."
   ]
  },
  {
   "cell_type": "code",
   "execution_count": 21,
   "metadata": {},
   "outputs": [],
   "source": [
    "classifiers = []\n",
    "model1 = xgboost.XGBClassifier()\n",
    "classifiers.append(model1)\n",
    "model2 = svm.SVC()\n",
    "classifiers.append(model2)\n",
    "model3 = tree.DecisionTreeClassifier()\n",
    "classifiers.append(model3)\n",
    "model4 = RandomForestClassifier()\n",
    "classifiers.append(model4)"
   ]
  },
  {
   "cell_type": "code",
   "execution_count": 22,
   "metadata": {},
   "outputs": [
    {
     "name": "stdout",
     "output_type": "stream",
     "text": [
      "Accuracy of <class 'xgboost.sklearn.XGBClassifier'> is 0.9363261566651397\n",
      "\n",
      "Confusion Matrix of <class 'xgboost.sklearn.XGBClassifier'> is [[ 987  116]\n",
      " [  23 1057]]\n",
      "\n"
     ]
    },
    {
     "name": "stderr",
     "output_type": "stream",
     "text": [
      "C:\\Users\\qasim\\Anaconda3\\lib\\site-packages\\sklearn\\svm\\base.py:196: FutureWarning: The default value of gamma will change from 'auto' to 'scale' in version 0.22 to account better for unscaled features. Set gamma explicitly to 'auto' or 'scale' to avoid this warning.\n",
      "  \"avoid this warning.\", FutureWarning)\n"
     ]
    },
    {
     "name": "stdout",
     "output_type": "stream",
     "text": [
      "Accuracy of <class 'sklearn.svm.classes.SVC'> is 0.4979386165826844\n",
      "\n",
      "Confusion Matrix of <class 'sklearn.svm.classes.SVC'> is [[   8 1095]\n",
      " [   1 1079]]\n",
      "\n",
      "Accuracy of <class 'sklearn.tree.tree.DecisionTreeClassifier'> is 0.8978469995419148\n",
      "\n",
      "Confusion Matrix of <class 'sklearn.tree.tree.DecisionTreeClassifier'> is [[996 107]\n",
      " [116 964]]\n",
      "\n",
      "Accuracy of <class 'sklearn.ensemble.forest.RandomForestClassifier'> is 0.9303710490151168\n",
      "\n",
      "Confusion Matrix of <class 'sklearn.ensemble.forest.RandomForestClassifier'> is [[1006   97]\n",
      " [  55 1025]]\n",
      "\n"
     ]
    },
    {
     "name": "stderr",
     "output_type": "stream",
     "text": [
      "C:\\Users\\qasim\\Anaconda3\\lib\\site-packages\\sklearn\\ensemble\\forest.py:246: FutureWarning: The default value of n_estimators will change from 10 in version 0.20 to 100 in 0.22.\n",
      "  \"10 in version 0.20 to 100 in 0.22.\", FutureWarning)\n"
     ]
    }
   ],
   "source": [
    "for clf in classifiers:\n",
    "    clf.fit(X_train, y_train)\n",
    "    y_pred= clf.predict(X_test)\n",
    "    acc = accuracy_score(y_test, y_pred)\n",
    "    print(\"Accuracy of %s is %s\\n\"%(type(clf), acc))\n",
    "    cm = confusion_matrix(y_test, y_pred)\n",
    "    print(\"Confusion Matrix of %s is %s\\n\"%(type(clf), cm))"
   ]
  },
  {
   "cell_type": "code",
   "execution_count": 23,
   "metadata": {},
   "outputs": [],
   "source": [
    "## Therefore, the classifier with the best result is the boosting classifier, xgBoost."
   ]
  },
  {
   "cell_type": "code",
   "execution_count": 24,
   "metadata": {},
   "outputs": [
    {
     "data": {
      "text/plain": [
       "1.0"
      ]
     },
     "execution_count": 24,
     "metadata": {},
     "output_type": "execute_result"
    }
   ],
   "source": [
    "accuracy_score(y_train, model2.predict(X_train))"
   ]
  },
  {
   "cell_type": "code",
   "execution_count": 25,
   "metadata": {},
   "outputs": [
    {
     "data": {
      "text/plain": [
       "0.8978469995419148"
      ]
     },
     "execution_count": 25,
     "metadata": {},
     "output_type": "execute_result"
    }
   ],
   "source": [
    "accuracy_score(y_test, model3.predict(X_test))"
   ]
  },
  {
   "cell_type": "code",
   "execution_count": null,
   "metadata": {},
   "outputs": [],
   "source": []
  },
  {
   "cell_type": "code",
   "execution_count": 26,
   "metadata": {},
   "outputs": [],
   "source": [
    "dxt = [4359.487305,4240.512695,4826.153809,4475.384766,4537.948730]"
   ]
  },
  {
   "cell_type": "code",
   "execution_count": 27,
   "metadata": {},
   "outputs": [
    {
     "data": {
      "text/plain": [
       "array([1], dtype=int64)"
      ]
     },
     "execution_count": 27,
     "metadata": {},
     "output_type": "execute_result"
    }
   ],
   "source": [
    "model1.predict(dxt)"
   ]
  },
  {
   "cell_type": "code",
   "execution_count": 28,
   "metadata": {},
   "outputs": [
    {
     "data": {
      "text/plain": [
       "array([0, 1, 1, ..., 1, 0, 0], dtype=int64)"
      ]
     },
     "execution_count": 28,
     "metadata": {},
     "output_type": "execute_result"
    }
   ],
   "source": [
    "model4.predict(X_train)"
   ]
  },
  {
   "cell_type": "code",
   "execution_count": 29,
   "metadata": {},
   "outputs": [],
   "source": [
    "path_test = \"../../data/sad_2_26.12.19_11.15.26.md.bp.csv\"\n",
    "data_Test = pd.read_csv(path_test)"
   ]
  },
  {
   "cell_type": "code",
   "execution_count": 30,
   "metadata": {},
   "outputs": [],
   "source": [
    "end_test = len(data_Test.iloc[:,1])"
   ]
  },
  {
   "cell_type": "code",
   "execution_count": 31,
   "metadata": {},
   "outputs": [],
   "source": [
    "X_new_sample_Test = np.array(data_Test.iloc[:,3:8])"
   ]
  },
  {
   "cell_type": "code",
   "execution_count": 32,
   "metadata": {},
   "outputs": [],
   "source": [
    "results = model1.predict(X_new_sample_Test)[:len(y0)]"
   ]
  },
  {
   "cell_type": "code",
   "execution_count": null,
   "metadata": {},
   "outputs": [],
   "source": []
  },
  {
   "cell_type": "code",
   "execution_count": 33,
   "metadata": {},
   "outputs": [
    {
     "name": "stdout",
     "output_type": "stream",
     "text": [
      "0.04041792686279901\n"
     ]
    }
   ],
   "source": [
    "print(accuracy_score(y1, results))"
   ]
  },
  {
   "cell_type": "code",
   "execution_count": 34,
   "metadata": {},
   "outputs": [
    {
     "name": "stdout",
     "output_type": "stream",
     "text": [
      "0.959582073137201\n"
     ]
    }
   ],
   "source": [
    "print(accuracy_score(y0, results))"
   ]
  },
  {
   "cell_type": "code",
   "execution_count": 35,
   "metadata": {},
   "outputs": [],
   "source": [
    "path_test_sample = \"../../data/test_sample_1_26.12.19_11.56.29.md.bp.csv\"\n",
    "data_Happy = pd.read_csv(path_test_sample)\n",
    "end_Happy = len(data_Happy.iloc[:,1])\n",
    "X_happy_sample_test = np.array(data_Happy.iloc[:,3:8])\n",
    "results_happy = model1.predict(X_happy_sample_test)[:len(y0)]"
   ]
  },
  {
   "cell_type": "code",
   "execution_count": 36,
   "metadata": {},
   "outputs": [
    {
     "name": "stdout",
     "output_type": "stream",
     "text": [
      "0.5655760241957657\n"
     ]
    }
   ],
   "source": [
    "print(accuracy_score(y0, results_happy))"
   ]
  },
  {
   "cell_type": "code",
   "execution_count": null,
   "metadata": {},
   "outputs": [],
   "source": [
    "path_test_sample = \"../../data/8-Love/love_i.csv\"\n",
    "data_Happy = pd.read_csv(path_test_sample)\n",
    "end_Happy = len(data_Happy.iloc[:,1])\n",
    "X_happy_sample_test = np.array(data_Happy.iloc[:,3:8])\n",
    "results_happy = model1.predict(X_happy_sample_test)[:len(y0)]"
   ]
  }
 ],
 "metadata": {
  "kernelspec": {
   "display_name": "Python 3",
   "language": "python",
   "name": "python3"
  },
  "language_info": {
   "codemirror_mode": {
    "name": "ipython",
    "version": 3
   },
   "file_extension": ".py",
   "mimetype": "text/x-python",
   "name": "python",
   "nbconvert_exporter": "python",
   "pygments_lexer": "ipython3",
   "version": "3.7.3"
  }
 },
 "nbformat": 4,
 "nbformat_minor": 2
}
