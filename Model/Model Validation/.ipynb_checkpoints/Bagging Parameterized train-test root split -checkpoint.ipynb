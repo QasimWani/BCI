{
 "cells": [
  {
   "cell_type": "code",
   "execution_count": 48,
   "metadata": {},
   "outputs": [],
   "source": [
    "### Implementation of hyper-parameter tuned random forest CV algorithm\n",
    "### for one.vs.one classifier.\n",
    "#--> Deals with splitting of training data from source..."
   ]
  },
  {
   "cell_type": "code",
   "execution_count": 49,
   "metadata": {},
   "outputs": [],
   "source": [
    "import numpy as np\n",
    "import pandas as pd\n",
    "import matplotlib.pyplot as plt\n",
    "from sklearn.metrics import accuracy_score, confusion_matrix, precision_score\n",
    "from sklearn.ensemble import RandomForestClassifier\n",
    "from sklearn import svm, tree\n",
    "import xgboost\n",
    "import os\n",
    "import csv\n",
    "from sklearn.model_selection import train_test_split\n",
    "#---------------------RF HP-f(x) & CV---------------\n",
    "from sklearn.model_selection import RandomizedSearchCV, GridSearchCV\n",
    "from sklearn.model_selection import cross_val_score"
   ]
  },
  {
   "cell_type": "code",
   "execution_count": 22,
   "metadata": {},
   "outputs": [],
   "source": [
    "folder_root = \"../../data/\""
   ]
  },
  {
   "cell_type": "code",
   "execution_count": 23,
   "metadata": {},
   "outputs": [],
   "source": [
    "def find_files(PATH):\n",
    "    \"\"\"\n",
    "    Finds all the files in a particular directory. Return only .csv files.\n",
    "    \"\"\"\n",
    "    files = []\n",
    "    for r, d, f in os.walk(PATH):\n",
    "        for file in f:\n",
    "            if '.csv' in file:\n",
    "                files.append(os.path.join(r, file).replace(\"\\\\\",\"/\"))\n",
    "    return files"
   ]
  },
  {
   "cell_type": "code",
   "execution_count": 24,
   "metadata": {},
   "outputs": [],
   "source": [
    "def list_dir_files(root):\n",
    "    \"\"\"\n",
    "    Finds all the files in a nested directory of folders and files (.csv)\n",
    "    \"\"\"\n",
    "    files = []\n",
    "    friendly_name = []\n",
    "    for x in os.listdir(root):\n",
    "        subfolder = root + x\n",
    "        if os.path.isdir(subfolder):\n",
    "            onfo = find_files(subfolder)\n",
    "            if(len(onfo) > 0 and len(x.split(\"_\")) > 1):##Removes test folder and empty folders\n",
    "                files.append(onfo)\n",
    "                fn = x.split(\"/\")[-1]\n",
    "                friendly_name.append(fn)\n",
    "    return files, friendly_name"
   ]
  },
  {
   "cell_type": "code",
   "execution_count": 26,
   "metadata": {},
   "outputs": [],
   "source": [
    "files, friendly_name = list_dir_files(folder_root)"
   ]
  },
  {
   "cell_type": "code",
   "execution_count": 27,
   "metadata": {},
   "outputs": [
    {
     "data": {
      "text/plain": [
       "['0_Anger',\n",
       " '1_Fear',\n",
       " '2_Disgust',\n",
       " '3_Happiness',\n",
       " '4_Sadness',\n",
       " '6_Neutral',\n",
       " '8_Love']"
      ]
     },
     "execution_count": 27,
     "metadata": {},
     "output_type": "execute_result"
    }
   ],
   "source": [
    "friendly_name"
   ]
  },
  {
   "cell_type": "code",
   "execution_count": 28,
   "metadata": {},
   "outputs": [],
   "source": [
    "def remove_meta_data(PATH):\n",
    "    \"\"\"\n",
    "    Return:\n",
    "    1. Changes in Electric potential based on Unix timestamp from\n",
    "        the 5 channels of the Emotiv headset. 2 channels from the Frontal Lobe, \n",
    "        1 channel from the parietal lobe, and 2 from temporal lobe.\n",
    "    2. Pandas Dataframe of the data reflected from (1).\n",
    "    \"\"\"\n",
    "    reader = csv.reader(open(PATH, \"rt\"), delimiter='\\t')\n",
    "    i = 0\n",
    "    one_file_data = []\n",
    "    for line in reader:\n",
    "        if(i > 0):\n",
    "            one_file_data.append(line)\n",
    "        i += 1\n",
    "    one_file_data = np.array(one_file_data)\n",
    "    columns = one_file_data[0][0].split(\",\")[3:8]\n",
    "    row_data = []\n",
    "    for rows in one_file_data[1:]:\n",
    "        rd = rows[0].split(\",\")[3:8]\n",
    "        rdt = []\n",
    "        for x in rd:\n",
    "            rdt.append(float(x))\n",
    "        row_data.append(rdt)\n",
    "    dataframe = pd.DataFrame(row_data, columns=columns)\n",
    "    return np.array(row_data), dataframe"
   ]
  },
  {
   "cell_type": "code",
   "execution_count": 29,
   "metadata": {},
   "outputs": [],
   "source": [
    "def data_DF_dir(list_PATH):\n",
    "    \"\"\"\n",
    "    Returns all the data from a given set of path files and its associated pandas dataframe object.\n",
    "    \"\"\"\n",
    "    raw_data = []\n",
    "    dataframes = []\n",
    "    for file in list_PATH:\n",
    "        rd, dfob = remove_meta_data(file)\n",
    "        raw_data.append(rd)\n",
    "        dataframes.append(dfob)\n",
    "    return np.array(raw_data), dataframes"
   ]
  },
  {
   "cell_type": "code",
   "execution_count": 30,
   "metadata": {},
   "outputs": [],
   "source": [
    "def root_subfolder_file_data(root_list):\n",
    "    \"\"\"\n",
    "    Extracts dataframe and np.array() of each file within each subfolder of the root folder.\n",
    "    Returns:\n",
    "    1. n(n will increase)x5(m varies) dataframe\n",
    "    2. n(n will increase)x5(m varies) np.array()\n",
    "    \"\"\"\n",
    "    root_df = []\n",
    "    root_np = []\n",
    "    for x in root_list:\n",
    "        rnd, rdf = data_DF_dir(x)\n",
    "        root_df.append(rdf)\n",
    "        root_np.append(rnd)\n",
    "    return np.array(root_np), root_df"
   ]
  },
  {
   "cell_type": "code",
   "execution_count": 55,
   "metadata": {},
   "outputs": [],
   "source": [
    "XXX, XXXraw_df = root_subfolder_file_data(files)"
   ]
  },
  {
   "cell_type": "code",
   "execution_count": 63,
   "metadata": {},
   "outputs": [
    {
     "data": {
      "text/html": [
       "<div>\n",
       "<style scoped>\n",
       "    .dataframe tbody tr th:only-of-type {\n",
       "        vertical-align: middle;\n",
       "    }\n",
       "\n",
       "    .dataframe tbody tr th {\n",
       "        vertical-align: top;\n",
       "    }\n",
       "\n",
       "    .dataframe thead th {\n",
       "        text-align: right;\n",
       "    }\n",
       "</style>\n",
       "<table border=\"1\" class=\"dataframe\">\n",
       "  <thead>\n",
       "    <tr style=\"text-align: right;\">\n",
       "      <th></th>\n",
       "      <th>EEG.AF3</th>\n",
       "      <th>EEG.T7</th>\n",
       "      <th>EEG.Pz</th>\n",
       "      <th>EEG.T8</th>\n",
       "      <th>EEG.AF4</th>\n",
       "    </tr>\n",
       "  </thead>\n",
       "  <tbody>\n",
       "    <tr>\n",
       "      <th>0</th>\n",
       "      <td>4336.922852</td>\n",
       "      <td>4342.563965</td>\n",
       "      <td>4133.333496</td>\n",
       "      <td>4056.410156</td>\n",
       "      <td>4162.051270</td>\n",
       "    </tr>\n",
       "    <tr>\n",
       "      <th>1</th>\n",
       "      <td>4341.025879</td>\n",
       "      <td>4361.538574</td>\n",
       "      <td>4127.692383</td>\n",
       "      <td>4044.102539</td>\n",
       "      <td>4167.179688</td>\n",
       "    </tr>\n",
       "    <tr>\n",
       "      <th>2</th>\n",
       "      <td>4338.974121</td>\n",
       "      <td>4383.589844</td>\n",
       "      <td>4151.794922</td>\n",
       "      <td>4072.307617</td>\n",
       "      <td>4173.846191</td>\n",
       "    </tr>\n",
       "    <tr>\n",
       "      <th>3</th>\n",
       "      <td>4331.282227</td>\n",
       "      <td>4368.205078</td>\n",
       "      <td>4153.333496</td>\n",
       "      <td>4068.205078</td>\n",
       "      <td>4171.282227</td>\n",
       "    </tr>\n",
       "    <tr>\n",
       "      <th>4</th>\n",
       "      <td>4317.948730</td>\n",
       "      <td>4351.794922</td>\n",
       "      <td>4124.102539</td>\n",
       "      <td>4025.641113</td>\n",
       "      <td>4155.384766</td>\n",
       "    </tr>\n",
       "  </tbody>\n",
       "</table>\n",
       "</div>"
      ],
      "text/plain": [
       "       EEG.AF3       EEG.T7       EEG.Pz       EEG.T8      EEG.AF4\n",
       "0  4336.922852  4342.563965  4133.333496  4056.410156  4162.051270\n",
       "1  4341.025879  4361.538574  4127.692383  4044.102539  4167.179688\n",
       "2  4338.974121  4383.589844  4151.794922  4072.307617  4173.846191\n",
       "3  4331.282227  4368.205078  4153.333496  4068.205078  4171.282227\n",
       "4  4317.948730  4351.794922  4124.102539  4025.641113  4155.384766"
      ]
     },
     "execution_count": 63,
     "metadata": {},
     "output_type": "execute_result"
    }
   ],
   "source": [
    "XXXraw_df[1][-1].head()"
   ]
  },
  {
   "cell_type": "code",
   "execution_count": 65,
   "metadata": {},
   "outputs": [
    {
     "data": {
      "text/plain": [
       "(5480, 5)"
      ]
     },
     "execution_count": 65,
     "metadata": {},
     "output_type": "execute_result"
    }
   ],
   "source": [
    "XXX[1][-1].shape"
   ]
  },
  {
   "cell_type": "code",
   "execution_count": null,
   "metadata": {},
   "outputs": [],
   "source": []
  },
  {
   "cell_type": "code",
   "execution_count": 32,
   "metadata": {},
   "outputs": [],
   "source": [
    "def merge_split(dataframes, friendly_name, merge_name):\n",
    "    \"\"\"\n",
    "    Splits dataframe into training and testing sets based on 80% rule from the directory.\n",
    "    Returns:\n",
    "    1. train_df : set of dataframes used for training. Can be used into training and testing split.\n",
    "    2. test_df  : reserved for testing only.\n",
    "    \"\"\"\n",
    "    train = []\n",
    "    test = []\n",
    "    i_train = 0\n",
    "    flag = 0\n",
    "    \n",
    "    for x,fn in zip(dataframes, friendly_name):\n",
    "        i_train = len(x)\n",
    "        for dt in x:\n",
    "            holder = np.full((1, dt.shape[0]), float(fn.split(\"_\")[0])).T\n",
    "            temp_df = dt\n",
    "            temp_df[merge_name] = holder\n",
    "            if(flag < i_train -1):\n",
    "                train.append(temp_df)\n",
    "            else:\n",
    "                test.append(temp_df)\n",
    "            flag += 1\n",
    "        flag = 0\n",
    "            \n",
    "    train_df = train[0]\n",
    "    test_df = test[0]\n",
    "    \n",
    "    for i in range(1, len(train)):\n",
    "        train_df = train_df.append(train[i])\n",
    "    train_df = train_df.reset_index().drop(['index'],axis=1) \n",
    "    \n",
    "    for i in range(1, len(test)):\n",
    "        test_df = test_df.append(test[i])\n",
    "    test_df = test_df.reset_index().drop(['index'],axis=1) \n",
    "    \n",
    "    return train_df, test_df"
   ]
  },
  {
   "cell_type": "code",
   "execution_count": 33,
   "metadata": {},
   "outputs": [],
   "source": [
    "df_train, df_test = merge_split(raw_df, friendly_name, \"emotion\")"
   ]
  },
  {
   "cell_type": "code",
   "execution_count": 34,
   "metadata": {},
   "outputs": [
    {
     "data": {
      "text/html": [
       "<div>\n",
       "<style scoped>\n",
       "    .dataframe tbody tr th:only-of-type {\n",
       "        vertical-align: middle;\n",
       "    }\n",
       "\n",
       "    .dataframe tbody tr th {\n",
       "        vertical-align: top;\n",
       "    }\n",
       "\n",
       "    .dataframe thead th {\n",
       "        text-align: right;\n",
       "    }\n",
       "</style>\n",
       "<table border=\"1\" class=\"dataframe\">\n",
       "  <thead>\n",
       "    <tr style=\"text-align: right;\">\n",
       "      <th></th>\n",
       "      <th>EEG.AF3</th>\n",
       "      <th>EEG.T7</th>\n",
       "      <th>EEG.Pz</th>\n",
       "      <th>EEG.T8</th>\n",
       "      <th>EEG.AF4</th>\n",
       "      <th>emotion</th>\n",
       "    </tr>\n",
       "  </thead>\n",
       "  <tbody>\n",
       "    <tr>\n",
       "      <th>count</th>\n",
       "      <td>28776.000000</td>\n",
       "      <td>28776.000000</td>\n",
       "      <td>28776.000000</td>\n",
       "      <td>28776.000000</td>\n",
       "      <td>28776.000000</td>\n",
       "      <td>28776.000000</td>\n",
       "    </tr>\n",
       "    <tr>\n",
       "      <th>mean</th>\n",
       "      <td>4226.558723</td>\n",
       "      <td>4304.404408</td>\n",
       "      <td>4149.662932</td>\n",
       "      <td>4138.171535</td>\n",
       "      <td>4195.610143</td>\n",
       "      <td>3.197769</td>\n",
       "    </tr>\n",
       "    <tr>\n",
       "      <th>std</th>\n",
       "      <td>131.910780</td>\n",
       "      <td>164.566229</td>\n",
       "      <td>135.555505</td>\n",
       "      <td>138.462298</td>\n",
       "      <td>184.735875</td>\n",
       "      <td>2.624773</td>\n",
       "    </tr>\n",
       "    <tr>\n",
       "      <th>min</th>\n",
       "      <td>3445.128174</td>\n",
       "      <td>2828.718018</td>\n",
       "      <td>2342.564209</td>\n",
       "      <td>3364.102539</td>\n",
       "      <td>1709.230713</td>\n",
       "      <td>0.000000</td>\n",
       "    </tr>\n",
       "    <tr>\n",
       "      <th>25%</th>\n",
       "      <td>4186.153809</td>\n",
       "      <td>4252.820313</td>\n",
       "      <td>4099.487305</td>\n",
       "      <td>4100.000000</td>\n",
       "      <td>4165.641113</td>\n",
       "      <td>1.000000</td>\n",
       "    </tr>\n",
       "    <tr>\n",
       "      <th>50%</th>\n",
       "      <td>4229.743652</td>\n",
       "      <td>4333.333496</td>\n",
       "      <td>4148.717773</td>\n",
       "      <td>4139.487305</td>\n",
       "      <td>4200.000000</td>\n",
       "      <td>3.000000</td>\n",
       "    </tr>\n",
       "    <tr>\n",
       "      <th>75%</th>\n",
       "      <td>4270.769043</td>\n",
       "      <td>4371.282227</td>\n",
       "      <td>4201.025879</td>\n",
       "      <td>4175.897461</td>\n",
       "      <td>4237.948730</td>\n",
       "      <td>6.000000</td>\n",
       "    </tr>\n",
       "    <tr>\n",
       "      <th>max</th>\n",
       "      <td>5114.871582</td>\n",
       "      <td>5250.256348</td>\n",
       "      <td>6214.358887</td>\n",
       "      <td>5431.794922</td>\n",
       "      <td>5228.717773</td>\n",
       "      <td>8.000000</td>\n",
       "    </tr>\n",
       "  </tbody>\n",
       "</table>\n",
       "</div>"
      ],
      "text/plain": [
       "            EEG.AF3        EEG.T7        EEG.Pz        EEG.T8       EEG.AF4  \\\n",
       "count  28776.000000  28776.000000  28776.000000  28776.000000  28776.000000   \n",
       "mean    4226.558723   4304.404408   4149.662932   4138.171535   4195.610143   \n",
       "std      131.910780    164.566229    135.555505    138.462298    184.735875   \n",
       "min     3445.128174   2828.718018   2342.564209   3364.102539   1709.230713   \n",
       "25%     4186.153809   4252.820313   4099.487305   4100.000000   4165.641113   \n",
       "50%     4229.743652   4333.333496   4148.717773   4139.487305   4200.000000   \n",
       "75%     4270.769043   4371.282227   4201.025879   4175.897461   4237.948730   \n",
       "max     5114.871582   5250.256348   6214.358887   5431.794922   5228.717773   \n",
       "\n",
       "            emotion  \n",
       "count  28776.000000  \n",
       "mean       3.197769  \n",
       "std        2.624773  \n",
       "min        0.000000  \n",
       "25%        1.000000  \n",
       "50%        3.000000  \n",
       "75%        6.000000  \n",
       "max        8.000000  "
      ]
     },
     "execution_count": 34,
     "metadata": {},
     "output_type": "execute_result"
    }
   ],
   "source": [
    "df_test.describe()"
   ]
  },
  {
   "cell_type": "code",
   "execution_count": 35,
   "metadata": {},
   "outputs": [
    {
     "data": {
      "text/html": [
       "<div>\n",
       "<style scoped>\n",
       "    .dataframe tbody tr th:only-of-type {\n",
       "        vertical-align: middle;\n",
       "    }\n",
       "\n",
       "    .dataframe tbody tr th {\n",
       "        vertical-align: top;\n",
       "    }\n",
       "\n",
       "    .dataframe thead th {\n",
       "        text-align: right;\n",
       "    }\n",
       "</style>\n",
       "<table border=\"1\" class=\"dataframe\">\n",
       "  <thead>\n",
       "    <tr style=\"text-align: right;\">\n",
       "      <th></th>\n",
       "      <th>EEG.AF3</th>\n",
       "      <th>EEG.T7</th>\n",
       "      <th>EEG.Pz</th>\n",
       "      <th>EEG.T8</th>\n",
       "      <th>EEG.AF4</th>\n",
       "      <th>emotion</th>\n",
       "    </tr>\n",
       "  </thead>\n",
       "  <tbody>\n",
       "    <tr>\n",
       "      <th>count</th>\n",
       "      <td>96244.000000</td>\n",
       "      <td>96244.000000</td>\n",
       "      <td>96244.000000</td>\n",
       "      <td>96244.000000</td>\n",
       "      <td>96244.000000</td>\n",
       "      <td>96244.000000</td>\n",
       "    </tr>\n",
       "    <tr>\n",
       "      <th>mean</th>\n",
       "      <td>4213.057458</td>\n",
       "      <td>4299.585159</td>\n",
       "      <td>4141.168992</td>\n",
       "      <td>4133.638864</td>\n",
       "      <td>4197.001456</td>\n",
       "      <td>3.550549</td>\n",
       "    </tr>\n",
       "    <tr>\n",
       "      <th>std</th>\n",
       "      <td>239.971859</td>\n",
       "      <td>133.250635</td>\n",
       "      <td>134.667882</td>\n",
       "      <td>138.692085</td>\n",
       "      <td>155.666877</td>\n",
       "      <td>2.953992</td>\n",
       "    </tr>\n",
       "    <tr>\n",
       "      <th>min</th>\n",
       "      <td>1529.743530</td>\n",
       "      <td>2809.743652</td>\n",
       "      <td>2167.179443</td>\n",
       "      <td>2592.307617</td>\n",
       "      <td>1900.512817</td>\n",
       "      <td>0.000000</td>\n",
       "    </tr>\n",
       "    <tr>\n",
       "      <th>25%</th>\n",
       "      <td>4174.871582</td>\n",
       "      <td>4242.051270</td>\n",
       "      <td>4088.718018</td>\n",
       "      <td>4106.666504</td>\n",
       "      <td>4160.000000</td>\n",
       "      <td>1.000000</td>\n",
       "    </tr>\n",
       "    <tr>\n",
       "      <th>50%</th>\n",
       "      <td>4220.000000</td>\n",
       "      <td>4298.461426</td>\n",
       "      <td>4143.077148</td>\n",
       "      <td>4137.948730</td>\n",
       "      <td>4197.436035</td>\n",
       "      <td>3.000000</td>\n",
       "    </tr>\n",
       "    <tr>\n",
       "      <th>75%</th>\n",
       "      <td>4263.077148</td>\n",
       "      <td>4360.000000</td>\n",
       "      <td>4193.846191</td>\n",
       "      <td>4167.179688</td>\n",
       "      <td>4234.358887</td>\n",
       "      <td>6.000000</td>\n",
       "    </tr>\n",
       "    <tr>\n",
       "      <th>max</th>\n",
       "      <td>8006.666504</td>\n",
       "      <td>5584.615234</td>\n",
       "      <td>6380.000000</td>\n",
       "      <td>6132.820313</td>\n",
       "      <td>6887.692383</td>\n",
       "      <td>8.000000</td>\n",
       "    </tr>\n",
       "  </tbody>\n",
       "</table>\n",
       "</div>"
      ],
      "text/plain": [
       "            EEG.AF3        EEG.T7        EEG.Pz        EEG.T8       EEG.AF4  \\\n",
       "count  96244.000000  96244.000000  96244.000000  96244.000000  96244.000000   \n",
       "mean    4213.057458   4299.585159   4141.168992   4133.638864   4197.001456   \n",
       "std      239.971859    133.250635    134.667882    138.692085    155.666877   \n",
       "min     1529.743530   2809.743652   2167.179443   2592.307617   1900.512817   \n",
       "25%     4174.871582   4242.051270   4088.718018   4106.666504   4160.000000   \n",
       "50%     4220.000000   4298.461426   4143.077148   4137.948730   4197.436035   \n",
       "75%     4263.077148   4360.000000   4193.846191   4167.179688   4234.358887   \n",
       "max     8006.666504   5584.615234   6380.000000   6132.820313   6887.692383   \n",
       "\n",
       "            emotion  \n",
       "count  96244.000000  \n",
       "mean       3.550549  \n",
       "std        2.953992  \n",
       "min        0.000000  \n",
       "25%        1.000000  \n",
       "50%        3.000000  \n",
       "75%        6.000000  \n",
       "max        8.000000  "
      ]
     },
     "execution_count": 35,
     "metadata": {},
     "output_type": "execute_result"
    }
   ],
   "source": [
    "df_train.describe()"
   ]
  },
  {
   "cell_type": "code",
   "execution_count": 15,
   "metadata": {},
   "outputs": [],
   "source": [
    "X_train_no_split = np.array(df_train.iloc[:,:-1])\n",
    "y_train_no_split = np.array(df_train.iloc[:,-1])\n",
    "#-----------------------------------------------\n",
    "X_test_original = np.array(df_test.iloc[:,:-1])\n",
    "y_test_original = np.array(df_test.iloc[:,-1])"
   ]
  },
  {
   "cell_type": "code",
   "execution_count": 36,
   "metadata": {},
   "outputs": [],
   "source": [
    "### Hyper-parameter tuning again..."
   ]
  },
  {
   "cell_type": "code",
   "execution_count": null,
   "metadata": {},
   "outputs": [],
   "source": []
  },
  {
   "cell_type": "code",
   "execution_count": 40,
   "metadata": {},
   "outputs": [],
   "source": [
    "params={\n",
    " \"n_estimators\"          : [10,50,75,100,110,120,130,150,200,250,500,750,1000] ,\n",
    " \"criterion\"             : ['gini','entropy'],\n",
    " \"max_leaf_nodes\"        : [ None, 2, 3, 5, 7, 10],\n",
    " \"min_impurity_decrease\" : [0.0,0.05,0.1,0.2,0.3],\n",
    " \"min_samples_split\"     : [0.1,0.5,2,3,4,5,6],   \n",
    "}"
   ]
  },
  {
   "cell_type": "code",
   "execution_count": 58,
   "metadata": {},
   "outputs": [
    {
     "name": "stdout",
     "output_type": "stream",
     "text": [
      "Fitting 30 folds for each of 30 candidates, totalling 900 fits\n"
     ]
    },
    {
     "name": "stderr",
     "output_type": "stream",
     "text": [
      "[Parallel(n_jobs=-1)]: Using backend LokyBackend with 8 concurrent workers.\n",
      "[Parallel(n_jobs=-1)]: Done  16 tasks      | elapsed:  1.2min\n",
      "[Parallel(n_jobs=-1)]: Done 112 tasks      | elapsed: 23.3min\n",
      "[Parallel(n_jobs=-1)]: Done 272 tasks      | elapsed: 27.3min\n",
      "[Parallel(n_jobs=-1)]: Done 496 tasks      | elapsed: 46.7min\n",
      "[Parallel(n_jobs=-1)]: Done 784 tasks      | elapsed: 73.7min\n",
      "[Parallel(n_jobs=-1)]: Done 900 out of 900 | elapsed: 87.6min finished\n"
     ]
    },
    {
     "data": {
      "text/plain": [
       "RandomizedSearchCV(cv=30, error_score='raise-deprecating',\n",
       "          estimator=RandomForestClassifier(bootstrap=True, class_weight=None, criterion='gini',\n",
       "            max_depth=None, max_features='auto', max_leaf_nodes=None,\n",
       "            min_impurity_decrease=0.0, min_impurity_split=None,\n",
       "            min_samples_leaf=1, min_samples_split=2,\n",
       "            min_weight_fraction_leaf=0.0, n_estimators='warn', n_jobs=None,\n",
       "            oob_score=False, random_state=None, verbose=0,\n",
       "            warm_start=False),\n",
       "          fit_params=None, iid='warn', n_iter=30, n_jobs=-1,\n",
       "          param_distributions={'n_estimators': [10, 50, 75, 100, 110, 120, 130, 150, 200, 250, 500, 750, 1000], 'criterion': ['gini', 'entropy'], 'max_leaf_nodes': [None, 2, 3, 5, 7, 10], 'min_impurity_decrease': [0.0, 0.05, 0.1, 0.2, 0.3], 'min_samples_split': [0.1, 0.5, 2, 3, 4, 5, 6]},\n",
       "          pre_dispatch='2*n_jobs', random_state=None, refit=True,\n",
       "          return_train_score='warn', scoring=None, verbose=3)"
      ]
     },
     "execution_count": 58,
     "metadata": {},
     "output_type": "execute_result"
    }
   ],
   "source": [
    "classifier=RandomForestClassifier()\n",
    "random_search=RandomizedSearchCV(classifier,param_distributions=params,n_iter=30,n_jobs=-1,cv=30,verbose=3)\n",
    "random_search.fit(X_train_no_split,y_train_no_split)"
   ]
  },
  {
   "cell_type": "code",
   "execution_count": 60,
   "metadata": {},
   "outputs": [
    {
     "name": "stdout",
     "output_type": "stream",
     "text": [
      "Best Estimator :  RandomForestClassifier(bootstrap=True, class_weight=None, criterion='gini',\n",
      "            max_depth=None, max_features='auto', max_leaf_nodes=None,\n",
      "            min_impurity_decrease=0.0, min_impurity_split=None,\n",
      "            min_samples_leaf=1, min_samples_split=5,\n",
      "            min_weight_fraction_leaf=0.0, n_estimators=250, n_jobs=None,\n",
      "            oob_score=False, random_state=None, verbose=0,\n",
      "            warm_start=False)\n",
      "Best parameters :  {'n_estimators': 250, 'min_samples_split': 5, 'min_impurity_decrease': 0.0, 'max_leaf_nodes': None, 'criterion': 'gini'}\n",
      "Best Score :  0.5161794591214632\n"
     ]
    }
   ],
   "source": [
    "print(\"Best Estimator : \", random_search.best_estimator_)\n",
    "print(\"Best parameters : \", random_search.best_params_)\n",
    "print(\"Best Score : \", random_search.best_score_)"
   ]
  },
  {
   "cell_type": "code",
   "execution_count": 7,
   "metadata": {},
   "outputs": [],
   "source": [
    "### Hyper parameterized conditions after 50 CV."
   ]
  },
  {
   "cell_type": "code",
   "execution_count": 41,
   "metadata": {},
   "outputs": [],
   "source": [
    "RF_HP = RandomForestClassifier(bootstrap=True, class_weight=None, criterion='gini',\n",
    "            max_depth=None, max_features='auto', max_leaf_nodes=None,\n",
    "            min_impurity_decrease=0.0, min_impurity_split=None,\n",
    "            min_samples_leaf=1, min_samples_split=5,\n",
    "            min_weight_fraction_leaf=0.0, n_estimators=250, n_jobs=None,\n",
    "            oob_score=False, random_state=None, verbose=0,\n",
    "            warm_start=False)"
   ]
  },
  {
   "cell_type": "code",
   "execution_count": 42,
   "metadata": {},
   "outputs": [
    {
     "data": {
      "text/plain": [
       "RandomForestClassifier(bootstrap=True, class_weight=None, criterion='gini',\n",
       "            max_depth=None, max_features='auto', max_leaf_nodes=None,\n",
       "            min_impurity_decrease=0.0, min_impurity_split=None,\n",
       "            min_samples_leaf=1, min_samples_split=5,\n",
       "            min_weight_fraction_leaf=0.0, n_estimators=250, n_jobs=None,\n",
       "            oob_score=False, random_state=None, verbose=0,\n",
       "            warm_start=False)"
      ]
     },
     "execution_count": 42,
     "metadata": {},
     "output_type": "execute_result"
    }
   ],
   "source": [
    "RF_HP.fit(X_train_no_split, y_train_no_split)"
   ]
  },
  {
   "cell_type": "code",
   "execution_count": 63,
   "metadata": {},
   "outputs": [
    {
     "data": {
      "text/plain": [
       "array([0.17217213, 0.28958433, 0.16645261, 0.20774313, 0.16404781])"
      ]
     },
     "execution_count": 63,
     "metadata": {},
     "output_type": "execute_result"
    }
   ],
   "source": [
    "RF_HP.feature_importances_"
   ]
  },
  {
   "cell_type": "code",
   "execution_count": 43,
   "metadata": {},
   "outputs": [],
   "source": [
    "y_pred = RF_HP.predict(X_test_original)"
   ]
  },
  {
   "cell_type": "code",
   "execution_count": 44,
   "metadata": {},
   "outputs": [
    {
     "data": {
      "text/plain": [
       "0.38963757206330557"
      ]
     },
     "execution_count": 44,
     "metadata": {},
     "output_type": "execute_result"
    }
   ],
   "source": [
    "accuracy_score(y_test_original, y_pred)"
   ]
  },
  {
   "cell_type": "code",
   "execution_count": 45,
   "metadata": {},
   "outputs": [],
   "source": [
    "###2.5 times better than random chance."
   ]
  },
  {
   "cell_type": "code",
   "execution_count": 66,
   "metadata": {},
   "outputs": [],
   "source": [
    "y_test_horro = RF_HP.predict(XXX[1][-1])"
   ]
  },
  {
   "cell_type": "code",
   "execution_count": 70,
   "metadata": {},
   "outputs": [],
   "source": [
    "def run_test(results, friendly_name):\n",
    "    for x in friendly_name:\n",
    "        fn = x.split(\"_\")\n",
    "        print(fn[1] + \" Count : \" + str(results.count(int(fn[0]))))"
   ]
  },
  {
   "cell_type": "code",
   "execution_count": 72,
   "metadata": {},
   "outputs": [
    {
     "ename": "NameError",
     "evalue": "name 'test_results' is not defined",
     "output_type": "error",
     "traceback": [
      "\u001b[1;31m---------------------------------------------------------------------------\u001b[0m",
      "\u001b[1;31mNameError\u001b[0m                                 Traceback (most recent call last)",
      "\u001b[1;32m<ipython-input-72-a088e15c315c>\u001b[0m in \u001b[0;36m<module>\u001b[1;34m\u001b[0m\n\u001b[1;32m----> 1\u001b[1;33m \u001b[0mrun_test\u001b[0m\u001b[1;33m(\u001b[0m\u001b[0my_test_horro\u001b[0m\u001b[1;33m,\u001b[0m \u001b[0mfriendly_name\u001b[0m\u001b[1;33m)\u001b[0m\u001b[1;33m\u001b[0m\u001b[1;33m\u001b[0m\u001b[0m\n\u001b[0m",
      "\u001b[1;32m<ipython-input-70-47158cf3759a>\u001b[0m in \u001b[0;36mrun_test\u001b[1;34m(results, friendly_name)\u001b[0m\n\u001b[0;32m      2\u001b[0m     \u001b[1;32mfor\u001b[0m \u001b[0mx\u001b[0m \u001b[1;32min\u001b[0m \u001b[0mfriendly_name\u001b[0m\u001b[1;33m:\u001b[0m\u001b[1;33m\u001b[0m\u001b[1;33m\u001b[0m\u001b[0m\n\u001b[0;32m      3\u001b[0m         \u001b[0mfn\u001b[0m \u001b[1;33m=\u001b[0m \u001b[0mx\u001b[0m\u001b[1;33m.\u001b[0m\u001b[0msplit\u001b[0m\u001b[1;33m(\u001b[0m\u001b[1;34m\"_\"\u001b[0m\u001b[1;33m)\u001b[0m\u001b[1;33m\u001b[0m\u001b[1;33m\u001b[0m\u001b[0m\n\u001b[1;32m----> 4\u001b[1;33m         \u001b[0mprint\u001b[0m\u001b[1;33m(\u001b[0m\u001b[0mfn\u001b[0m\u001b[1;33m[\u001b[0m\u001b[1;36m1\u001b[0m\u001b[1;33m]\u001b[0m \u001b[1;33m+\u001b[0m \u001b[1;34m\" Count : \"\u001b[0m \u001b[1;33m+\u001b[0m \u001b[0mstr\u001b[0m\u001b[1;33m(\u001b[0m\u001b[0mtest_results\u001b[0m\u001b[1;33m.\u001b[0m\u001b[0mcount\u001b[0m\u001b[1;33m(\u001b[0m\u001b[0mint\u001b[0m\u001b[1;33m(\u001b[0m\u001b[0mfn\u001b[0m\u001b[1;33m[\u001b[0m\u001b[1;36m0\u001b[0m\u001b[1;33m]\u001b[0m\u001b[1;33m)\u001b[0m\u001b[1;33m)\u001b[0m\u001b[1;33m)\u001b[0m\u001b[1;33m)\u001b[0m\u001b[1;33m\u001b[0m\u001b[1;33m\u001b[0m\u001b[0m\n\u001b[0m",
      "\u001b[1;31mNameError\u001b[0m: name 'test_results' is not defined"
     ]
    }
   ],
   "source": [
    "run_test(y_test_horro, friendly_name)"
   ]
  },
  {
   "cell_type": "code",
   "execution_count": null,
   "metadata": {},
   "outputs": [],
   "source": []
  }
 ],
 "metadata": {
  "kernelspec": {
   "display_name": "Python 3",
   "language": "python",
   "name": "python3"
  },
  "language_info": {
   "codemirror_mode": {
    "name": "ipython",
    "version": 3
   },
   "file_extension": ".py",
   "mimetype": "text/x-python",
   "name": "python",
   "nbconvert_exporter": "python",
   "pygments_lexer": "ipython3",
   "version": "3.7.3"
  }
 },
 "nbformat": 4,
 "nbformat_minor": 2
}
