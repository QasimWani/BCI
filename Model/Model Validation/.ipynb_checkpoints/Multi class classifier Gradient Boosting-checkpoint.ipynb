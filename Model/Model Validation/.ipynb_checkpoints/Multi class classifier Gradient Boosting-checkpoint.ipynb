{
 "cells": [
  {
   "cell_type": "code",
   "execution_count": 1,
   "metadata": {},
   "outputs": [],
   "source": [
    "### Implementation of XGBoost gradient boost classifier with hyper-parameter tuning.\n",
    "### Data : All 7 folders."
   ]
  },
  {
   "cell_type": "code",
   "execution_count": 2,
   "metadata": {},
   "outputs": [],
   "source": [
    "import numpy as np\n",
    "import pandas as pd\n",
    "import matplotlib.pyplot as plt\n",
    "from sklearn.metrics import accuracy_score, confusion_matrix, precision_score\n",
    "from sklearn.ensemble import RandomForestClassifier, AdaBoostClassifier, GradientBoostingClassifier\n",
    "from sklearn import svm, tree\n",
    "import xgboost\n",
    "import os\n",
    "import csv\n",
    "from sklearn.model_selection import train_test_split\n",
    "#------------------\n",
    "from scipy import fft, arange, signal"
   ]
  },
  {
   "cell_type": "code",
   "execution_count": 3,
   "metadata": {},
   "outputs": [],
   "source": [
    "folder_root = \"../../data/\""
   ]
  },
  {
   "cell_type": "code",
   "execution_count": 4,
   "metadata": {},
   "outputs": [],
   "source": [
    "def find_files(PATH):\n",
    "    \"\"\"\n",
    "    Finds all the files in a particular directory. Return only .csv files.\n",
    "    \"\"\"\n",
    "    files = []\n",
    "    for r, d, f in os.walk(PATH):\n",
    "        for file in f:\n",
    "            if '.csv' in file:\n",
    "                files.append(os.path.join(r, file).replace(\"\\\\\",\"/\"))\n",
    "    return files"
   ]
  },
  {
   "cell_type": "code",
   "execution_count": 5,
   "metadata": {},
   "outputs": [],
   "source": [
    "def list_dir_files(root):\n",
    "    \"\"\"\n",
    "    Finds all the files in a nested directory of folders and files (.csv)\n",
    "    \"\"\"\n",
    "    files = []\n",
    "    friendly_name = []\n",
    "    for x in os.listdir(root):\n",
    "        subfolder = root + x\n",
    "        if os.path.isdir(subfolder):\n",
    "            onfo = find_files(subfolder)\n",
    "            if(len(onfo) > 0 and len(x.split(\"_\")) > 1):##Removes test folder and empty folders\n",
    "                files.append(onfo)\n",
    "                fn = x.split(\"/\")[-1]\n",
    "                friendly_name.append(fn)\n",
    "    return files, friendly_name"
   ]
  },
  {
   "cell_type": "code",
   "execution_count": 6,
   "metadata": {},
   "outputs": [],
   "source": [
    "files, friendly_name = list_dir_files(folder_root)"
   ]
  },
  {
   "cell_type": "code",
   "execution_count": 7,
   "metadata": {},
   "outputs": [],
   "source": [
    "def remove_meta_data(PATH):\n",
    "    \"\"\"\n",
    "    Return:\n",
    "    1. Changes in Electric potential based on Unix timestamp from\n",
    "        the 5 channels of the Emotiv headset. 2 channels from the Frontal Lobe, \n",
    "        1 channel from the parietal lobe, and 2 from temporal lobe.\n",
    "    2. Pandas Dataframe of the data reflected from (1).\n",
    "    \"\"\"\n",
    "    reader = csv.reader(open(PATH, \"rt\"), delimiter='\\t')\n",
    "    i = 0\n",
    "    one_file_data = []\n",
    "    for line in reader:\n",
    "        if(i > 0):\n",
    "            one_file_data.append(line)\n",
    "        i += 1\n",
    "    one_file_data = np.array(one_file_data)\n",
    "    columns = one_file_data[0][0].split(\",\")[3:8]\n",
    "    row_data = []\n",
    "    for rows in one_file_data[1:]:\n",
    "        rd = rows[0].split(\",\")[3:8]\n",
    "        rdt = []\n",
    "        for x in rd:\n",
    "            rdt.append(float(x))\n",
    "        row_data.append(rdt)\n",
    "    dataframe = pd.DataFrame(row_data, columns=columns)\n",
    "    return np.array(row_data), dataframe"
   ]
  },
  {
   "cell_type": "code",
   "execution_count": 8,
   "metadata": {},
   "outputs": [],
   "source": [
    "def data_DF_dir(list_PATH):\n",
    "    \"\"\"\n",
    "    Returns all the data from a given set of path files and its associated pandas dataframe object.\n",
    "    \"\"\"\n",
    "    raw_data = []\n",
    "    dataframes = []\n",
    "    for file in list_PATH:\n",
    "        rd, dfob = remove_meta_data(file)\n",
    "        raw_data.append(rd)\n",
    "        dataframes.append(dfob)\n",
    "    return np.array(raw_data), dataframes"
   ]
  },
  {
   "cell_type": "code",
   "execution_count": 9,
   "metadata": {},
   "outputs": [],
   "source": [
    "def root_subfolder_file_data(root_list):\n",
    "    \"\"\"\n",
    "    Extracts dataframe and np.array() of each file within each subfolder of the root folder.\n",
    "    Returns:\n",
    "    1. n(n will increase)x5(m varies) dataframe\n",
    "    2. n(n will increase)x5(m varies) np.array()\n",
    "    \"\"\"\n",
    "    root_df = []\n",
    "    root_np = []\n",
    "    for x in root_list:\n",
    "        rnd, rdf = data_DF_dir(x)\n",
    "        root_df.append(rdf)\n",
    "        root_np.append(rnd)\n",
    "    return np.array(root_np), root_df"
   ]
  },
  {
   "cell_type": "code",
   "execution_count": 10,
   "metadata": {},
   "outputs": [],
   "source": [
    "_, raw_df = root_subfolder_file_data(files)"
   ]
  },
  {
   "cell_type": "code",
   "execution_count": 11,
   "metadata": {},
   "outputs": [
    {
     "data": {
      "text/html": [
       "<div>\n",
       "<style scoped>\n",
       "    .dataframe tbody tr th:only-of-type {\n",
       "        vertical-align: middle;\n",
       "    }\n",
       "\n",
       "    .dataframe tbody tr th {\n",
       "        vertical-align: top;\n",
       "    }\n",
       "\n",
       "    .dataframe thead th {\n",
       "        text-align: right;\n",
       "    }\n",
       "</style>\n",
       "<table border=\"1\" class=\"dataframe\">\n",
       "  <thead>\n",
       "    <tr style=\"text-align: right;\">\n",
       "      <th></th>\n",
       "      <th>EEG.AF3</th>\n",
       "      <th>EEG.T7</th>\n",
       "      <th>EEG.Pz</th>\n",
       "      <th>EEG.T8</th>\n",
       "      <th>EEG.AF4</th>\n",
       "    </tr>\n",
       "  </thead>\n",
       "  <tbody>\n",
       "    <tr>\n",
       "      <th>0</th>\n",
       "      <td>4216.410156</td>\n",
       "      <td>4259.487305</td>\n",
       "      <td>4187.179688</td>\n",
       "      <td>4088.205078</td>\n",
       "      <td>4203.589844</td>\n",
       "    </tr>\n",
       "    <tr>\n",
       "      <th>1</th>\n",
       "      <td>4217.948730</td>\n",
       "      <td>4253.846191</td>\n",
       "      <td>4182.051270</td>\n",
       "      <td>4098.974121</td>\n",
       "      <td>4209.230957</td>\n",
       "    </tr>\n",
       "    <tr>\n",
       "      <th>2</th>\n",
       "      <td>4211.794922</td>\n",
       "      <td>4252.307617</td>\n",
       "      <td>4165.128418</td>\n",
       "      <td>4102.051270</td>\n",
       "      <td>4214.871582</td>\n",
       "    </tr>\n",
       "    <tr>\n",
       "      <th>3</th>\n",
       "      <td>4216.410156</td>\n",
       "      <td>4252.820313</td>\n",
       "      <td>4158.974121</td>\n",
       "      <td>4105.128418</td>\n",
       "      <td>4223.077148</td>\n",
       "    </tr>\n",
       "    <tr>\n",
       "      <th>4</th>\n",
       "      <td>4231.794922</td>\n",
       "      <td>4253.333496</td>\n",
       "      <td>4165.641113</td>\n",
       "      <td>4108.717773</td>\n",
       "      <td>4227.692383</td>\n",
       "    </tr>\n",
       "  </tbody>\n",
       "</table>\n",
       "</div>"
      ],
      "text/plain": [
       "       EEG.AF3       EEG.T7       EEG.Pz       EEG.T8      EEG.AF4\n",
       "0  4216.410156  4259.487305  4187.179688  4088.205078  4203.589844\n",
       "1  4217.948730  4253.846191  4182.051270  4098.974121  4209.230957\n",
       "2  4211.794922  4252.307617  4165.128418  4102.051270  4214.871582\n",
       "3  4216.410156  4252.820313  4158.974121  4105.128418  4223.077148\n",
       "4  4231.794922  4253.333496  4165.641113  4108.717773  4227.692383"
      ]
     },
     "execution_count": 11,
     "metadata": {},
     "output_type": "execute_result"
    }
   ],
   "source": [
    "raw_df[0][0].head() ## Anger 0th file"
   ]
  },
  {
   "cell_type": "code",
   "execution_count": 12,
   "metadata": {},
   "outputs": [],
   "source": [
    "def merge_all_data(dataframe, friendly_name, merge_name):\n",
    "    \"\"\"\n",
    "    Merges all dataframes into one dataframe with associated emotion tag.\n",
    "    \"\"\"\n",
    "    list_df_append_emotion = []\n",
    "    for x,fn in zip(dataframe, friendly_name):\n",
    "        for fil in x:\n",
    "            holder = np.full((1, fil.shape[0]), float(fn.split(\"_\")[0])).T\n",
    "            temp_df = fil\n",
    "            temp_df[merge_name] = holder\n",
    "            list_df_append_emotion.append(temp_df)\n",
    "    pd_df = list_df_append_emotion[0]\n",
    "    for i in range(1, len(list_df_append_emotion)):\n",
    "        pd_df = pd_df.append(list_df_append_emotion[i])\n",
    "    pd_df = pd_df.reset_index().drop(['index'],axis=1)\n",
    "    return pd_df"
   ]
  },
  {
   "cell_type": "code",
   "execution_count": 13,
   "metadata": {},
   "outputs": [],
   "source": [
    "df = merge_all_data(raw_df, friendly_name, \"emotion\")"
   ]
  },
  {
   "cell_type": "code",
   "execution_count": 14,
   "metadata": {},
   "outputs": [
    {
     "data": {
      "text/html": [
       "<div>\n",
       "<style scoped>\n",
       "    .dataframe tbody tr th:only-of-type {\n",
       "        vertical-align: middle;\n",
       "    }\n",
       "\n",
       "    .dataframe tbody tr th {\n",
       "        vertical-align: top;\n",
       "    }\n",
       "\n",
       "    .dataframe thead th {\n",
       "        text-align: right;\n",
       "    }\n",
       "</style>\n",
       "<table border=\"1\" class=\"dataframe\">\n",
       "  <thead>\n",
       "    <tr style=\"text-align: right;\">\n",
       "      <th></th>\n",
       "      <th>EEG.AF3</th>\n",
       "      <th>EEG.T7</th>\n",
       "      <th>EEG.Pz</th>\n",
       "      <th>EEG.T8</th>\n",
       "      <th>EEG.AF4</th>\n",
       "      <th>emotion</th>\n",
       "    </tr>\n",
       "  </thead>\n",
       "  <tbody>\n",
       "    <tr>\n",
       "      <th>count</th>\n",
       "      <td>119540.000000</td>\n",
       "      <td>119540.000000</td>\n",
       "      <td>119540.000000</td>\n",
       "      <td>119540.000000</td>\n",
       "      <td>119540.000000</td>\n",
       "      <td>119540.000000</td>\n",
       "    </tr>\n",
       "    <tr>\n",
       "      <th>mean</th>\n",
       "      <td>4215.462872</td>\n",
       "      <td>4297.601779</td>\n",
       "      <td>4143.542524</td>\n",
       "      <td>4134.975258</td>\n",
       "      <td>4196.622698</td>\n",
       "      <td>3.582550</td>\n",
       "    </tr>\n",
       "    <tr>\n",
       "      <th>std</th>\n",
       "      <td>223.809288</td>\n",
       "      <td>143.455710</td>\n",
       "      <td>137.496719</td>\n",
       "      <td>141.010738</td>\n",
       "      <td>166.320705</td>\n",
       "      <td>2.900798</td>\n",
       "    </tr>\n",
       "    <tr>\n",
       "      <th>min</th>\n",
       "      <td>1529.743530</td>\n",
       "      <td>2809.743652</td>\n",
       "      <td>2167.179443</td>\n",
       "      <td>2592.307617</td>\n",
       "      <td>1709.230713</td>\n",
       "      <td>0.000000</td>\n",
       "    </tr>\n",
       "    <tr>\n",
       "      <th>25%</th>\n",
       "      <td>4175.897461</td>\n",
       "      <td>4241.025879</td>\n",
       "      <td>4090.769287</td>\n",
       "      <td>4106.153809</td>\n",
       "      <td>4160.512695</td>\n",
       "      <td>1.000000</td>\n",
       "    </tr>\n",
       "    <tr>\n",
       "      <th>50%</th>\n",
       "      <td>4221.538574</td>\n",
       "      <td>4300.000000</td>\n",
       "      <td>4145.128418</td>\n",
       "      <td>4138.461426</td>\n",
       "      <td>4197.948730</td>\n",
       "      <td>3.000000</td>\n",
       "    </tr>\n",
       "    <tr>\n",
       "      <th>75%</th>\n",
       "      <td>4264.102539</td>\n",
       "      <td>4359.487305</td>\n",
       "      <td>4197.948730</td>\n",
       "      <td>4169.743652</td>\n",
       "      <td>4236.410156</td>\n",
       "      <td>6.000000</td>\n",
       "    </tr>\n",
       "    <tr>\n",
       "      <th>max</th>\n",
       "      <td>8006.666504</td>\n",
       "      <td>5584.615234</td>\n",
       "      <td>6380.000000</td>\n",
       "      <td>6132.820313</td>\n",
       "      <td>6887.692383</td>\n",
       "      <td>8.000000</td>\n",
       "    </tr>\n",
       "  </tbody>\n",
       "</table>\n",
       "</div>"
      ],
      "text/plain": [
       "             EEG.AF3         EEG.T7         EEG.Pz         EEG.T8  \\\n",
       "count  119540.000000  119540.000000  119540.000000  119540.000000   \n",
       "mean     4215.462872    4297.601779    4143.542524    4134.975258   \n",
       "std       223.809288     143.455710     137.496719     141.010738   \n",
       "min      1529.743530    2809.743652    2167.179443    2592.307617   \n",
       "25%      4175.897461    4241.025879    4090.769287    4106.153809   \n",
       "50%      4221.538574    4300.000000    4145.128418    4138.461426   \n",
       "75%      4264.102539    4359.487305    4197.948730    4169.743652   \n",
       "max      8006.666504    5584.615234    6380.000000    6132.820313   \n",
       "\n",
       "             EEG.AF4        emotion  \n",
       "count  119540.000000  119540.000000  \n",
       "mean     4196.622698       3.582550  \n",
       "std       166.320705       2.900798  \n",
       "min      1709.230713       0.000000  \n",
       "25%      4160.512695       1.000000  \n",
       "50%      4197.948730       3.000000  \n",
       "75%      4236.410156       6.000000  \n",
       "max      6887.692383       8.000000  "
      ]
     },
     "execution_count": 14,
     "metadata": {},
     "output_type": "execute_result"
    }
   ],
   "source": [
    "df.describe()"
   ]
  },
  {
   "cell_type": "code",
   "execution_count": 15,
   "metadata": {},
   "outputs": [],
   "source": [
    "### Looks good. Data all merged. @ 11:47 am"
   ]
  },
  {
   "cell_type": "code",
   "execution_count": 16,
   "metadata": {},
   "outputs": [],
   "source": [
    "X = np.array(df.iloc[:,:-1])\n",
    "y = np.array(df.iloc[:,-1])"
   ]
  },
  {
   "cell_type": "code",
   "execution_count": 17,
   "metadata": {},
   "outputs": [],
   "source": [
    "X_train, X_test, y_train, y_test = train_test_split(X, y, test_size=0.4, shuffle=True)"
   ]
  },
  {
   "cell_type": "code",
   "execution_count": 18,
   "metadata": {},
   "outputs": [
    {
     "data": {
      "text/plain": [
       "((71724, 5), (71724,), (47816, 5), (47816,))"
      ]
     },
     "execution_count": 18,
     "metadata": {},
     "output_type": "execute_result"
    }
   ],
   "source": [
    "X_train.shape, y_train.shape, X_test.shape, y_test.shape ### Data split."
   ]
  },
  {
   "cell_type": "code",
   "execution_count": 19,
   "metadata": {},
   "outputs": [],
   "source": [
    "classifiers = []\n",
    "model1 = xgboost.XGBClassifier()\n",
    "classifiers.append(model1)\n",
    "# model2 = svm.SVC()\n",
    "# classifiers.append(model2)\n",
    "model3 = tree.DecisionTreeClassifier()\n",
    "classifiers.append(model3)\n",
    "model4 = RandomForestClassifier()\n",
    "classifiers.append(model4)\n",
    "model5 = AdaBoostClassifier()\n",
    "classifiers.append(model5)\n",
    "model6 = GradientBoostingClassifier()\n",
    "classifiers.append(model6)"
   ]
  },
  {
   "cell_type": "code",
   "execution_count": 20,
   "metadata": {},
   "outputs": [
    {
     "name": "stdout",
     "output_type": "stream",
     "text": [
      "Accuracy of <class 'xgboost.sklearn.XGBClassifier'> is 0.5690145557972227\n",
      "\n",
      "Confusion Matrix of <class 'xgboost.sklearn.XGBClassifier'> is \n",
      "[[2824 2016  215  909  127  645 1254]\n",
      " [ 298 5922    9  197   60  707  755]\n",
      " [ 461  945  978 1109   40  196  752]\n",
      " [ 561 1329  238 4991   29  375  994]\n",
      " [ 380  180   33  166  356   83  179]\n",
      " [  80  178    0   81    0 7367  125]\n",
      " [ 603 2618  109  633   36  903 4770]]\n",
      "\n",
      "Accuracy of <class 'sklearn.tree.tree.DecisionTreeClassifier'> is 0.5861427137359879\n",
      "\n",
      "Confusion Matrix of <class 'sklearn.tree.tree.DecisionTreeClassifier'> is \n",
      "[[4299  903  493  754  287  299  955]\n",
      " [ 955 3886  420  697  128  431 1431]\n",
      " [ 485  406 2283  584   92  100  531]\n",
      " [ 718  721  641 5296  137  168  836]\n",
      " [ 267  115  104  120  586   41  144]\n",
      " [ 285  441   79  161   30 6336  499]\n",
      " [ 951 1407  554  793  165  461 5341]]\n",
      "\n"
     ]
    },
    {
     "name": "stderr",
     "output_type": "stream",
     "text": [
      "C:\\Users\\qasim\\Anaconda3\\lib\\site-packages\\sklearn\\ensemble\\forest.py:246: FutureWarning: The default value of n_estimators will change from 10 in version 0.20 to 100 in 0.22.\n",
      "  \"10 in version 0.20 to 100 in 0.22.\", FutureWarning)\n"
     ]
    },
    {
     "name": "stdout",
     "output_type": "stream",
     "text": [
      "Accuracy of <class 'sklearn.ensemble.forest.RandomForestClassifier'> is 0.6724527354860298\n",
      "\n",
      "Confusion Matrix of <class 'sklearn.ensemble.forest.RandomForestClassifier'> is \n",
      "[[5139  987  258  488  135  280  703]\n",
      " [ 767 5275  134  314   43  464  951]\n",
      " [ 467  558 2461  455   43   97  400]\n",
      " [ 711  781  385 5830   48  146  616]\n",
      " [ 300  135   68  102  617   42  113]\n",
      " [ 204  263   31   75   11 7087  160]\n",
      " [ 849 1622  285  606   44  521 5745]]\n",
      "\n",
      "Accuracy of <class 'sklearn.ensemble.weight_boosting.AdaBoostClassifier'> is 0.4781453906642128\n",
      "\n",
      "Confusion Matrix of <class 'sklearn.ensemble.weight_boosting.AdaBoostClassifier'> is \n",
      "[[1404 2241  197 1334  607  938 1269]\n",
      " [ 176 5809   18  369   40  740  796]\n",
      " [ 358 1132  310 1582  186  351  562]\n",
      " [ 610 1643  284 4063  287  669  961]\n",
      " [ 177  305   24  168  368  100  235]\n",
      " [  19  305    2   78    5 7238  184]\n",
      " [ 424 3068  113 1099  160 1137 3671]]\n",
      "\n",
      "Accuracy of <class 'sklearn.ensemble.gradient_boosting.GradientBoostingClassifier'> is 0.5891751714907144\n",
      "\n",
      "Confusion Matrix of <class 'sklearn.ensemble.gradient_boosting.GradientBoostingClassifier'> is \n",
      "[[3206 1779  220  781  128  533 1343]\n",
      " [ 339 5857   18  166   45  619  904]\n",
      " [ 509  833 1241  922   37  153  786]\n",
      " [ 764 1137  257 5019   42  285 1013]\n",
      " [ 426  146   37  143  367   70  188]\n",
      " [ 108  192    3   57    0 7269  202]\n",
      " [ 714 2291  143  516   38  757 5213]]\n",
      "\n"
     ]
    }
   ],
   "source": [
    "for clf in classifiers:\n",
    "    clf.fit(X_train, y_train)\n",
    "    y_pred= clf.predict(X_test)\n",
    "    acc = accuracy_score(y_test, y_pred)\n",
    "    print(\"Accuracy of %s is %s\\n\"%(type(clf), acc))\n",
    "    cm = confusion_matrix(y_test, y_pred)\n",
    "    print(\"Confusion Matrix of %s is \\n%s\\n\"%(type(clf), cm))"
   ]
  },
  {
   "cell_type": "code",
   "execution_count": 50,
   "metadata": {},
   "outputs": [],
   "source": [
    "### From the results, the highest accuracy score was that of Random Forest Classifier ~67.25%\n",
    "results = model4.predict(X[20000:30000])"
   ]
  },
  {
   "cell_type": "code",
   "execution_count": 58,
   "metadata": {},
   "outputs": [
    {
     "name": "stdout",
     "output_type": "stream",
     "text": [
      "Class 0 result : 524 \n",
      "Class 1 result : 8518\n"
     ]
    }
   ],
   "source": [
    "results = list(results)\n",
    "print(\"Class 0 result : \" + str(results.count(0)), \"\\nClass 1 result : \" + str(results.count(1)))"
   ]
  },
  {
   "cell_type": "code",
   "execution_count": 59,
   "metadata": {},
   "outputs": [],
   "source": [
    "### Now, time to validate with real world test data."
   ]
  },
  {
   "cell_type": "code",
   "execution_count": 149,
   "metadata": {},
   "outputs": [],
   "source": [
    "test_folder = find_files(folder_root + \"Test\")"
   ]
  },
  {
   "cell_type": "code",
   "execution_count": 150,
   "metadata": {},
   "outputs": [],
   "source": [
    "test_data, test_df = data_DF_dir(test_folder)"
   ]
  },
  {
   "cell_type": "code",
   "execution_count": 151,
   "metadata": {},
   "outputs": [],
   "source": [
    "## data structure : 0,1 -> Anger ; 2,3 -> Happy"
   ]
  },
  {
   "cell_type": "code",
   "execution_count": 152,
   "metadata": {},
   "outputs": [],
   "source": [
    "test_results = list(model4.predict(test_data[0]))"
   ]
  },
  {
   "cell_type": "code",
   "execution_count": 163,
   "metadata": {},
   "outputs": [
    {
     "name": "stdout",
     "output_type": "stream",
     "text": [
      "Fear Count : 3033\n"
     ]
    }
   ],
   "source": [
    "print(\"Fear Count : \" + str(test_results.count(1)))"
   ]
  },
  {
   "cell_type": "code",
   "execution_count": null,
   "metadata": {},
   "outputs": [],
   "source": [
    "#Fear works...\n",
    "# Reflection... need same video."
   ]
  }
 ],
 "metadata": {
  "kernelspec": {
   "display_name": "Python 3",
   "language": "python",
   "name": "python3"
  },
  "language_info": {
   "codemirror_mode": {
    "name": "ipython",
    "version": 3
   },
   "file_extension": ".py",
   "mimetype": "text/x-python",
   "name": "python",
   "nbconvert_exporter": "python",
   "pygments_lexer": "ipython3",
   "version": "3.7.3"
  }
 },
 "nbformat": 4,
 "nbformat_minor": 2
}
