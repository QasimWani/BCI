{
 "cells": [
  {
   "cell_type": "code",
   "execution_count": 1,
   "metadata": {},
   "outputs": [],
   "source": [
    "### Implementation of Random Forest Bagging classifier with hyper-parameter tuning.\n",
    "### Data : All 7 folders."
   ]
  },
  {
   "cell_type": "code",
   "execution_count": 2,
   "metadata": {},
   "outputs": [],
   "source": [
    "import numpy as np\n",
    "import pandas as pd\n",
    "import matplotlib.pyplot as plt\n",
    "from sklearn.metrics import accuracy_score, confusion_matrix, precision_score\n",
    "from sklearn.ensemble import RandomForestClassifier, AdaBoostClassifier, GradientBoostingClassifier\n",
    "from sklearn import svm, tree\n",
    "import xgboost\n",
    "import os\n",
    "import csv\n",
    "from sklearn.model_selection import train_test_split\n",
    "import seaborn as sns\n",
    "#------------------\n",
    "from scipy import fft, arange, signal"
   ]
  },
  {
   "cell_type": "code",
   "execution_count": 3,
   "metadata": {},
   "outputs": [],
   "source": [
    "folder_root = \"../../data/\""
   ]
  },
  {
   "cell_type": "code",
   "execution_count": 4,
   "metadata": {},
   "outputs": [],
   "source": [
    "def find_files(PATH):\n",
    "    \"\"\"\n",
    "    Finds all the files in a particular directory. Return only .csv files.\n",
    "    \"\"\"\n",
    "    files = []\n",
    "    for r, d, f in os.walk(PATH):\n",
    "        for file in f:\n",
    "            if '.csv' in file:\n",
    "                files.append(os.path.join(r, file).replace(\"\\\\\",\"/\"))\n",
    "    return files"
   ]
  },
  {
   "cell_type": "code",
   "execution_count": 5,
   "metadata": {},
   "outputs": [],
   "source": [
    "def list_dir_files(root):\n",
    "    \"\"\"\n",
    "    Finds all the files in a nested directory of folders and files (.csv)\n",
    "    \"\"\"\n",
    "    files = []\n",
    "    friendly_name = []\n",
    "    for x in os.listdir(root):\n",
    "        subfolder = root + x\n",
    "        if os.path.isdir(subfolder):\n",
    "            onfo = find_files(subfolder)\n",
    "            if(len(onfo) > 0 and len(x.split(\"_\")) > 1):##Removes test folder and empty folders\n",
    "                files.append(onfo)\n",
    "                fn = x.split(\"/\")[-1]\n",
    "                friendly_name.append(fn)\n",
    "    return files, friendly_name"
   ]
  },
  {
   "cell_type": "code",
   "execution_count": 6,
   "metadata": {},
   "outputs": [],
   "source": [
    "files, friendly_name = list_dir_files(folder_root)"
   ]
  },
  {
   "cell_type": "code",
   "execution_count": 7,
   "metadata": {},
   "outputs": [],
   "source": [
    "def remove_meta_data(PATH):\n",
    "    \"\"\"\n",
    "    Return:\n",
    "    1. Changes in Electric potential based on Unix timestamp from\n",
    "        the 5 channels of the Emotiv headset. 2 channels from the Frontal Lobe, \n",
    "        1 channel from the parietal lobe, and 2 from temporal lobe.\n",
    "    2. Pandas Dataframe of the data reflected from (1).\n",
    "    \"\"\"\n",
    "    reader = csv.reader(open(PATH, \"rt\"), delimiter='\\t')\n",
    "    i = 0\n",
    "    one_file_data = []\n",
    "    for line in reader:\n",
    "        if(i > 0):\n",
    "            one_file_data.append(line)\n",
    "        i += 1\n",
    "    one_file_data = np.array(one_file_data)\n",
    "    columns = one_file_data[0][0].split(\",\")[3:8]\n",
    "    row_data = []\n",
    "    for rows in one_file_data[1:]:\n",
    "        rd = rows[0].split(\",\")[3:8]\n",
    "        rdt = []\n",
    "        for x in rd:\n",
    "            rdt.append(float(x))\n",
    "        row_data.append(rdt)\n",
    "    dataframe = pd.DataFrame(row_data, columns=columns)\n",
    "    return np.array(row_data), dataframe"
   ]
  },
  {
   "cell_type": "code",
   "execution_count": 8,
   "metadata": {},
   "outputs": [],
   "source": [
    "def data_DF_dir(list_PATH):\n",
    "    \"\"\"\n",
    "    Returns all the data from a given set of path files and its associated pandas dataframe object.\n",
    "    \"\"\"\n",
    "    raw_data = []\n",
    "    dataframes = []\n",
    "    for file in list_PATH:\n",
    "        rd, dfob = remove_meta_data(file)\n",
    "        raw_data.append(rd)\n",
    "        dataframes.append(dfob)\n",
    "    return np.array(raw_data), dataframes"
   ]
  },
  {
   "cell_type": "code",
   "execution_count": 9,
   "metadata": {},
   "outputs": [],
   "source": [
    "def root_subfolder_file_data(root_list):\n",
    "    \"\"\"\n",
    "    Extracts dataframe and np.array() of each file within each subfolder of the root folder.\n",
    "    Returns:\n",
    "    1. n(n will increase)x5(m varies) dataframe\n",
    "    2. n(n will increase)x5(m varies) np.array()\n",
    "    \"\"\"\n",
    "    root_df = []\n",
    "    root_np = []\n",
    "    for x in root_list:\n",
    "        rnd, rdf = data_DF_dir(x)\n",
    "        root_df.append(rdf)\n",
    "        root_np.append(rnd)\n",
    "    return np.array(root_np), root_df"
   ]
  },
  {
   "cell_type": "code",
   "execution_count": 10,
   "metadata": {},
   "outputs": [],
   "source": [
    "_, raw_df = root_subfolder_file_data(files)"
   ]
  },
  {
   "cell_type": "code",
   "execution_count": 11,
   "metadata": {},
   "outputs": [
    {
     "data": {
      "text/html": [
       "<div>\n",
       "<style scoped>\n",
       "    .dataframe tbody tr th:only-of-type {\n",
       "        vertical-align: middle;\n",
       "    }\n",
       "\n",
       "    .dataframe tbody tr th {\n",
       "        vertical-align: top;\n",
       "    }\n",
       "\n",
       "    .dataframe thead th {\n",
       "        text-align: right;\n",
       "    }\n",
       "</style>\n",
       "<table border=\"1\" class=\"dataframe\">\n",
       "  <thead>\n",
       "    <tr style=\"text-align: right;\">\n",
       "      <th></th>\n",
       "      <th>EEG.AF3</th>\n",
       "      <th>EEG.T7</th>\n",
       "      <th>EEG.Pz</th>\n",
       "      <th>EEG.T8</th>\n",
       "      <th>EEG.AF4</th>\n",
       "    </tr>\n",
       "  </thead>\n",
       "  <tbody>\n",
       "    <tr>\n",
       "      <th>0</th>\n",
       "      <td>4216.410156</td>\n",
       "      <td>4259.487305</td>\n",
       "      <td>4187.179688</td>\n",
       "      <td>4088.205078</td>\n",
       "      <td>4203.589844</td>\n",
       "    </tr>\n",
       "    <tr>\n",
       "      <th>1</th>\n",
       "      <td>4217.948730</td>\n",
       "      <td>4253.846191</td>\n",
       "      <td>4182.051270</td>\n",
       "      <td>4098.974121</td>\n",
       "      <td>4209.230957</td>\n",
       "    </tr>\n",
       "    <tr>\n",
       "      <th>2</th>\n",
       "      <td>4211.794922</td>\n",
       "      <td>4252.307617</td>\n",
       "      <td>4165.128418</td>\n",
       "      <td>4102.051270</td>\n",
       "      <td>4214.871582</td>\n",
       "    </tr>\n",
       "    <tr>\n",
       "      <th>3</th>\n",
       "      <td>4216.410156</td>\n",
       "      <td>4252.820313</td>\n",
       "      <td>4158.974121</td>\n",
       "      <td>4105.128418</td>\n",
       "      <td>4223.077148</td>\n",
       "    </tr>\n",
       "    <tr>\n",
       "      <th>4</th>\n",
       "      <td>4231.794922</td>\n",
       "      <td>4253.333496</td>\n",
       "      <td>4165.641113</td>\n",
       "      <td>4108.717773</td>\n",
       "      <td>4227.692383</td>\n",
       "    </tr>\n",
       "  </tbody>\n",
       "</table>\n",
       "</div>"
      ],
      "text/plain": [
       "       EEG.AF3       EEG.T7       EEG.Pz       EEG.T8      EEG.AF4\n",
       "0  4216.410156  4259.487305  4187.179688  4088.205078  4203.589844\n",
       "1  4217.948730  4253.846191  4182.051270  4098.974121  4209.230957\n",
       "2  4211.794922  4252.307617  4165.128418  4102.051270  4214.871582\n",
       "3  4216.410156  4252.820313  4158.974121  4105.128418  4223.077148\n",
       "4  4231.794922  4253.333496  4165.641113  4108.717773  4227.692383"
      ]
     },
     "execution_count": 11,
     "metadata": {},
     "output_type": "execute_result"
    }
   ],
   "source": [
    "raw_df[0][0].head() ## Anger 0th file"
   ]
  },
  {
   "cell_type": "code",
   "execution_count": 12,
   "metadata": {},
   "outputs": [],
   "source": [
    "def merge_all_data(dataframe, friendly_name, merge_name):\n",
    "    \"\"\"\n",
    "    Merges all dataframes into one dataframe with associated emotion tag.\n",
    "    \"\"\"\n",
    "    list_df_append_emotion = []\n",
    "    for x,fn in zip(dataframe, friendly_name):\n",
    "        for fil in x:\n",
    "            holder = np.full((1, fil.shape[0]), float(fn.split(\"_\")[0])).T\n",
    "            temp_df = fil\n",
    "            temp_df[merge_name] = holder\n",
    "            list_df_append_emotion.append(temp_df)\n",
    "    pd_df = list_df_append_emotion[0]\n",
    "    for i in range(1, len(list_df_append_emotion)):\n",
    "        pd_df = pd_df.append(list_df_append_emotion[i])\n",
    "    pd_df = pd_df.reset_index().drop(['index'],axis=1)\n",
    "    return pd_df"
   ]
  },
  {
   "cell_type": "code",
   "execution_count": 13,
   "metadata": {},
   "outputs": [],
   "source": [
    "df = merge_all_data(raw_df, friendly_name, \"emotion\")"
   ]
  },
  {
   "cell_type": "code",
   "execution_count": 14,
   "metadata": {},
   "outputs": [
    {
     "data": {
      "text/html": [
       "<div>\n",
       "<style scoped>\n",
       "    .dataframe tbody tr th:only-of-type {\n",
       "        vertical-align: middle;\n",
       "    }\n",
       "\n",
       "    .dataframe tbody tr th {\n",
       "        vertical-align: top;\n",
       "    }\n",
       "\n",
       "    .dataframe thead th {\n",
       "        text-align: right;\n",
       "    }\n",
       "</style>\n",
       "<table border=\"1\" class=\"dataframe\">\n",
       "  <thead>\n",
       "    <tr style=\"text-align: right;\">\n",
       "      <th></th>\n",
       "      <th>EEG.AF3</th>\n",
       "      <th>EEG.T7</th>\n",
       "      <th>EEG.Pz</th>\n",
       "      <th>EEG.T8</th>\n",
       "      <th>EEG.AF4</th>\n",
       "      <th>emotion</th>\n",
       "    </tr>\n",
       "  </thead>\n",
       "  <tbody>\n",
       "    <tr>\n",
       "      <th>count</th>\n",
       "      <td>119540.000000</td>\n",
       "      <td>119540.000000</td>\n",
       "      <td>119540.000000</td>\n",
       "      <td>119540.000000</td>\n",
       "      <td>119540.000000</td>\n",
       "      <td>119540.000000</td>\n",
       "    </tr>\n",
       "    <tr>\n",
       "      <th>mean</th>\n",
       "      <td>4215.462872</td>\n",
       "      <td>4297.601779</td>\n",
       "      <td>4143.542524</td>\n",
       "      <td>4134.975258</td>\n",
       "      <td>4196.622698</td>\n",
       "      <td>3.582550</td>\n",
       "    </tr>\n",
       "    <tr>\n",
       "      <th>std</th>\n",
       "      <td>223.809288</td>\n",
       "      <td>143.455710</td>\n",
       "      <td>137.496719</td>\n",
       "      <td>141.010738</td>\n",
       "      <td>166.320705</td>\n",
       "      <td>2.900798</td>\n",
       "    </tr>\n",
       "    <tr>\n",
       "      <th>min</th>\n",
       "      <td>1529.743530</td>\n",
       "      <td>2809.743652</td>\n",
       "      <td>2167.179443</td>\n",
       "      <td>2592.307617</td>\n",
       "      <td>1709.230713</td>\n",
       "      <td>0.000000</td>\n",
       "    </tr>\n",
       "    <tr>\n",
       "      <th>25%</th>\n",
       "      <td>4175.897461</td>\n",
       "      <td>4241.025879</td>\n",
       "      <td>4090.769287</td>\n",
       "      <td>4106.153809</td>\n",
       "      <td>4160.512695</td>\n",
       "      <td>1.000000</td>\n",
       "    </tr>\n",
       "    <tr>\n",
       "      <th>50%</th>\n",
       "      <td>4221.538574</td>\n",
       "      <td>4300.000000</td>\n",
       "      <td>4145.128418</td>\n",
       "      <td>4138.461426</td>\n",
       "      <td>4197.948730</td>\n",
       "      <td>3.000000</td>\n",
       "    </tr>\n",
       "    <tr>\n",
       "      <th>75%</th>\n",
       "      <td>4264.102539</td>\n",
       "      <td>4359.487305</td>\n",
       "      <td>4197.948730</td>\n",
       "      <td>4169.743652</td>\n",
       "      <td>4236.410156</td>\n",
       "      <td>6.000000</td>\n",
       "    </tr>\n",
       "    <tr>\n",
       "      <th>max</th>\n",
       "      <td>8006.666504</td>\n",
       "      <td>5584.615234</td>\n",
       "      <td>6380.000000</td>\n",
       "      <td>6132.820313</td>\n",
       "      <td>6887.692383</td>\n",
       "      <td>8.000000</td>\n",
       "    </tr>\n",
       "  </tbody>\n",
       "</table>\n",
       "</div>"
      ],
      "text/plain": [
       "             EEG.AF3         EEG.T7         EEG.Pz         EEG.T8  \\\n",
       "count  119540.000000  119540.000000  119540.000000  119540.000000   \n",
       "mean     4215.462872    4297.601779    4143.542524    4134.975258   \n",
       "std       223.809288     143.455710     137.496719     141.010738   \n",
       "min      1529.743530    2809.743652    2167.179443    2592.307617   \n",
       "25%      4175.897461    4241.025879    4090.769287    4106.153809   \n",
       "50%      4221.538574    4300.000000    4145.128418    4138.461426   \n",
       "75%      4264.102539    4359.487305    4197.948730    4169.743652   \n",
       "max      8006.666504    5584.615234    6380.000000    6132.820313   \n",
       "\n",
       "             EEG.AF4        emotion  \n",
       "count  119540.000000  119540.000000  \n",
       "mean     4196.622698       3.582550  \n",
       "std       166.320705       2.900798  \n",
       "min      1709.230713       0.000000  \n",
       "25%      4160.512695       1.000000  \n",
       "50%      4197.948730       3.000000  \n",
       "75%      4236.410156       6.000000  \n",
       "max      6887.692383       8.000000  "
      ]
     },
     "execution_count": 14,
     "metadata": {},
     "output_type": "execute_result"
    }
   ],
   "source": [
    "df.describe()"
   ]
  },
  {
   "cell_type": "code",
   "execution_count": 15,
   "metadata": {},
   "outputs": [],
   "source": [
    "### Looks good. Data all merged. @ 11:47 am"
   ]
  },
  {
   "cell_type": "code",
   "execution_count": 16,
   "metadata": {},
   "outputs": [],
   "source": [
    "X = np.array(df.iloc[:,:-1])\n",
    "y = np.array(df.iloc[:,-1])"
   ]
  },
  {
   "cell_type": "code",
   "execution_count": 17,
   "metadata": {},
   "outputs": [],
   "source": [
    "X_train, X_test, y_train, y_test = train_test_split(X, y, test_size=0.2, shuffle=True)"
   ]
  },
  {
   "cell_type": "code",
   "execution_count": 18,
   "metadata": {},
   "outputs": [
    {
     "data": {
      "text/plain": [
       "((95632, 5), (95632,), (23908, 5), (23908,))"
      ]
     },
     "execution_count": 18,
     "metadata": {},
     "output_type": "execute_result"
    }
   ],
   "source": [
    "X_train.shape, y_train.shape, X_test.shape, y_test.shape ### Data split."
   ]
  },
  {
   "cell_type": "code",
   "execution_count": 20,
   "metadata": {},
   "outputs": [],
   "source": [
    "classifiers = []\n",
    "model1 = xgboost.XGBClassifier()\n",
    "classifiers.append(model1)\n",
    "# model2 = svm.SVC()\n",
    "# classifiers.append(model2)\n",
    "model3 = tree.DecisionTreeClassifier()\n",
    "classifiers.append(model3)\n",
    "model4 = RandomForestClassifier()\n",
    "classifiers.append(model4)\n",
    "model5 = AdaBoostClassifier()\n",
    "classifiers.append(model5)\n",
    "model6 = GradientBoostingClassifier()\n",
    "classifiers.append(model6)"
   ]
  },
  {
   "cell_type": "code",
   "execution_count": 20,
   "metadata": {},
   "outputs": [
    {
     "name": "stdout",
     "output_type": "stream",
     "text": [
      "Accuracy of <class 'xgboost.sklearn.XGBClassifier'> is 0.569140036807763\n",
      "\n",
      "Confusion Matrix of <class 'xgboost.sklearn.XGBClassifier'> is \n",
      "[[1392 1047  102  522   63  294  632]\n",
      " [ 111 3044    8  119   27  339  363]\n",
      " [ 233  446  476  596   25   90  408]\n",
      " [ 262  651  111 2537   15  157  510]\n",
      " [ 185   94   13  110  191   33   94]\n",
      " [  41   82    0   36    0 3624   77]\n",
      " [ 222 1331   32  381   16  423 2343]]\n",
      "\n",
      "Accuracy of <class 'sklearn.tree.tree.DecisionTreeClassifier'> is 0.6006775974569182\n",
      "\n",
      "Confusion Matrix of <class 'sklearn.tree.tree.DecisionTreeClassifier'> is \n",
      "[[2321  422  232  347  130  129  471]\n",
      " [ 474 2018  214  336   60  195  714]\n",
      " [ 241  202 1207  278   52   49  245]\n",
      " [ 385  334  278 2691   64   80  411]\n",
      " [ 158   59   43   61  310   19   70]\n",
      " [ 137  217   34   62   28 3148  234]\n",
      " [ 446  685  266  391   74  220 2666]]\n",
      "\n"
     ]
    },
    {
     "name": "stderr",
     "output_type": "stream",
     "text": [
      "C:\\Users\\qasim\\Anaconda3\\lib\\site-packages\\sklearn\\ensemble\\forest.py:246: FutureWarning: The default value of n_estimators will change from 10 in version 0.20 to 100 in 0.22.\n",
      "  \"10 in version 0.20 to 100 in 0.22.\", FutureWarning)\n"
     ]
    },
    {
     "name": "stdout",
     "output_type": "stream",
     "text": [
      "Accuracy of <class 'sklearn.ensemble.forest.RandomForestClassifier'> is 0.6865484356700686\n",
      "\n",
      "Confusion Matrix of <class 'sklearn.ensemble.forest.RandomForestClassifier'> is \n",
      "[[2671  478  141  238   68  125  331]\n",
      " [ 385 2715   52  150   14  231  464]\n",
      " [ 248  232 1317  199   27   45  206]\n",
      " [ 325  400  172 2992   17   71  266]\n",
      " [ 159   62   25   60  343   15   56]\n",
      " [  95  101   12   24    4 3543   81]\n",
      " [ 402  839  142  257   25  250 2833]]\n",
      "\n",
      "Accuracy of <class 'sklearn.ensemble.weight_boosting.AdaBoostClassifier'> is 0.4777480341308349\n",
      "\n",
      "Confusion Matrix of <class 'sklearn.ensemble.weight_boosting.AdaBoostClassifier'> is \n",
      "[[ 756 1082   58  705  354  483  614]\n",
      " [  91 2865   11  176   26  372  470]\n",
      " [ 203  477  113  850  100  182  349]\n",
      " [ 313  787   94 2054  115  343  537]\n",
      " [  94  165   13   89  220   49   90]\n",
      " [  18  132    0   32    0 3579   99]\n",
      " [ 269 1417   34  567   82  544 1835]]\n",
      "\n",
      "Accuracy of <class 'sklearn.ensemble.gradient_boosting.GradientBoostingClassifier'> is 0.5913083486699013\n",
      "\n",
      "Confusion Matrix of <class 'sklearn.ensemble.gradient_boosting.GradientBoostingClassifier'> is \n",
      "[[1676  902   97  436   56  249  636]\n",
      " [ 146 3004   12   96   25  295  433]\n",
      " [ 267  379  595  519   20   69  425]\n",
      " [ 368  560  105 2570   12  113  515]\n",
      " [ 214   79   17   95  196   31   88]\n",
      " [  54   92    1   20    0 3586  107]\n",
      " [ 308 1169   52  323   15  371 2510]]\n",
      "\n"
     ]
    }
   ],
   "source": [
    "for clf in classifiers:\n",
    "    clf.fit(X_train, y_train)\n",
    "    y_pred= clf.predict(X_test)\n",
    "    acc = accuracy_score(y_test, y_pred)\n",
    "    print(\"Accuracy of %s is %s\\n\"%(type(clf), acc))\n",
    "    cm = confusion_matrix(y_test, y_pred)\n",
    "    print(\"Confusion Matrix of %s is \\n%s\\n\"%(type(clf), cm))"
   ]
  },
  {
   "cell_type": "code",
   "execution_count": 21,
   "metadata": {},
   "outputs": [],
   "source": [
    "### From the results, the highest accuracy score was that of Random Forest Classifier ~67.25%\n",
    "results = model4.predict(X[20000:30000])"
   ]
  },
  {
   "cell_type": "code",
   "execution_count": 22,
   "metadata": {},
   "outputs": [
    {
     "name": "stdout",
     "output_type": "stream",
     "text": [
      "Class 0 result : 315 \n",
      "Class 1 result : 9214\n"
     ]
    }
   ],
   "source": [
    "results = list(results)\n",
    "print(\"Class 0 result : \" + str(results.count(0)), \"\\nClass 1 result : \" + str(results.count(1)))"
   ]
  },
  {
   "cell_type": "code",
   "execution_count": 36,
   "metadata": {},
   "outputs": [],
   "source": [
    "### Hyper-parameter tuning"
   ]
  },
  {
   "cell_type": "code",
   "execution_count": 37,
   "metadata": {},
   "outputs": [],
   "source": [
    "params={\n",
    " \"learning_rate\"    : [0.05, 0.10, 0.15, 0.20, 0.25, 0.30 ] ,\n",
    " \"max_depth\"        : [ 3, 4, 5, 6, 8, 10, 12, 15],\n",
    " \"min_child_weight\" : [ 1, 3, 5, 7 ],\n",
    " \"gamma\"            : [ 0.0, 0.1, 0.2 , 0.3, 0.4 ],\n",
    " \"colsample_bytree\" : [ 0.3, 0.4, 0.5 , 0.7 ]   \n",
    "}"
   ]
  },
  {
   "cell_type": "code",
   "execution_count": 40,
   "metadata": {},
   "outputs": [
    {
     "name": "stdout",
     "output_type": "stream",
     "text": [
      "Fitting 5 folds for each of 5 candidates, totalling 25 fits\n"
     ]
    },
    {
     "name": "stderr",
     "output_type": "stream",
     "text": [
      "[Parallel(n_jobs=-1)]: Using backend LokyBackend with 8 concurrent workers.\n",
      "[Parallel(n_jobs=-1)]: Done  19 out of  25 | elapsed: 18.8min remaining:  5.9min\n",
      "[Parallel(n_jobs=-1)]: Done  25 out of  25 | elapsed: 20.0min finished\n"
     ]
    },
    {
     "data": {
      "text/plain": [
       "RandomizedSearchCV(cv=5, error_score='raise-deprecating',\n",
       "          estimator=XGBClassifier(base_score=0.5, booster='gbtree', colsample_bylevel=1,\n",
       "       colsample_bynode=1, colsample_bytree=1, gamma=0, learning_rate=0.1,\n",
       "       max_delta_step=0, max_depth=3, min_child_weight=1, missing=None,\n",
       "       n_estimators=100, n_jobs=1, nthread=None,\n",
       "       objective='binary:logistic', random_state=0, reg_alpha=0,\n",
       "       reg_lambda=1, scale_pos_weight=1, seed=None, silent=None,\n",
       "       subsample=1, verbosity=1),\n",
       "          fit_params=None, iid='warn', n_iter=5, n_jobs=-1,\n",
       "          param_distributions={'learning_rate': [0.05, 0.1, 0.15, 0.2, 0.25, 0.3], 'max_depth': [3, 4, 5, 6, 8, 10, 12, 15], 'min_child_weight': [1, 3, 5, 7], 'gamma': [0.0, 0.1, 0.2, 0.3, 0.4], 'colsample_bytree': [0.3, 0.4, 0.5, 0.7]},\n",
       "          pre_dispatch='2*n_jobs', random_state=None, refit=True,\n",
       "          return_train_score='warn', scoring=None, verbose=3)"
      ]
     },
     "execution_count": 40,
     "metadata": {},
     "output_type": "execute_result"
    }
   ],
   "source": [
    "from sklearn.model_selection import RandomizedSearchCV, GridSearchCV\n",
    "classifier=xgboost.XGBClassifier()\n",
    "random_search=RandomizedSearchCV(classifier,param_distributions=params,n_iter=5,n_jobs=-1,cv=5,verbose=3)\n",
    "random_search.fit(X_train,y_train)"
   ]
  },
  {
   "cell_type": "code",
   "execution_count": 43,
   "metadata": {},
   "outputs": [
    {
     "data": {
      "text/plain": [
       "XGBClassifier(base_score=0.5, booster='gbtree', colsample_bylevel=1,\n",
       "       colsample_bynode=1, colsample_bytree=0.7, gamma=0.3,\n",
       "       learning_rate=0.1, max_delta_step=0, max_depth=12,\n",
       "       min_child_weight=7, missing=None, n_estimators=100, n_jobs=1,\n",
       "       nthread=None, objective='multi:softprob', random_state=0,\n",
       "       reg_alpha=0, reg_lambda=1, scale_pos_weight=1, seed=None,\n",
       "       silent=None, subsample=1, verbosity=1)"
      ]
     },
     "execution_count": 43,
     "metadata": {},
     "output_type": "execute_result"
    }
   ],
   "source": [
    "random_search.best_estimator_"
   ]
  },
  {
   "cell_type": "code",
   "execution_count": 46,
   "metadata": {},
   "outputs": [
    {
     "data": {
      "text/plain": [
       "{'min_child_weight': 7,\n",
       " 'max_depth': 12,\n",
       " 'learning_rate': 0.1,\n",
       " 'gamma': 0.3,\n",
       " 'colsample_bytree': 0.7}"
      ]
     },
     "execution_count": 46,
     "metadata": {},
     "output_type": "execute_result"
    }
   ],
   "source": [
    "random_search.best_params_"
   ]
  },
  {
   "cell_type": "code",
   "execution_count": 56,
   "metadata": {},
   "outputs": [],
   "source": [
    "best_XGB = xgboost.XGBClassifier(base_score=0.5, booster='gbtree', colsample_bylevel=1,\n",
    "       colsample_bynode=1, colsample_bytree=0.7, gamma=0.3,\n",
    "       learning_rate=0.1, max_delta_step=0, max_depth=12,\n",
    "       min_child_weight=7, missing=None, n_estimators=100, n_jobs=1,\n",
    "       nthread=None, objective='multi:softprob', random_state=0,\n",
    "       reg_alpha=0, reg_lambda=1, scale_pos_weight=1, seed=None,\n",
    "       silent=None, subsample=1, verbosity=1)"
   ]
  },
  {
   "cell_type": "code",
   "execution_count": 61,
   "metadata": {},
   "outputs": [
    {
     "data": {
      "text/plain": [
       "XGBClassifier(base_score=0.5, booster='gbtree', colsample_bylevel=1,\n",
       "       colsample_bynode=1, colsample_bytree=0.7, gamma=0.3,\n",
       "       learning_rate=0.1, max_delta_step=0, max_depth=12,\n",
       "       min_child_weight=7, missing=None, n_estimators=100, n_jobs=1,\n",
       "       nthread=None, objective='multi:softprob', random_state=0,\n",
       "       reg_alpha=0, reg_lambda=1, scale_pos_weight=1, seed=None,\n",
       "       silent=None, subsample=1, verbosity=1)"
      ]
     },
     "execution_count": 61,
     "metadata": {},
     "output_type": "execute_result"
    }
   ],
   "source": [
    "best_XGB.fit(X_train, y_train)"
   ]
  },
  {
   "cell_type": "code",
   "execution_count": 62,
   "metadata": {},
   "outputs": [],
   "source": [
    "y_pred = best_XGB.predict(X_test)"
   ]
  },
  {
   "cell_type": "code",
   "execution_count": 81,
   "metadata": {},
   "outputs": [
    {
     "name": "stdout",
     "output_type": "stream",
     "text": [
      "0.6719089844403547\n"
     ]
    }
   ],
   "source": [
    "print(accuracy_score(y_test, y_pred))"
   ]
  },
  {
   "cell_type": "code",
   "execution_count": null,
   "metadata": {},
   "outputs": [],
   "source": []
  },
  {
   "cell_type": "code",
   "execution_count": 75,
   "metadata": {},
   "outputs": [
    {
     "name": "stdout",
     "output_type": "stream",
     "text": [
      "[0.62656642 0.62348517 0.63461538 0.64073609 0.63430962 0.63012552\n",
      " 0.62803347 0.62719665 0.62452909 0.63415655]\n",
      "\n",
      "\n",
      "0.630375397389969\n"
     ]
    }
   ],
   "source": [
    "from sklearn.model_selection import cross_val_score\n",
    "score=cross_val_score(best_XGB,X_test,y_test,cv=10)\n",
    "print(score)\n",
    "print(\"\\n\")\n",
    "print(score.mean())"
   ]
  },
  {
   "cell_type": "code",
   "execution_count": null,
   "metadata": {},
   "outputs": [],
   "source": [
    "### Wow.. After hyper-parameter tuning, xgboost accuracy increased from 56.9% to 67.2%!!!"
   ]
  },
  {
   "cell_type": "code",
   "execution_count": 73,
   "metadata": {},
   "outputs": [],
   "source": [
    "### Implementation of Random Forest w/ hyper-parameter tuning:"
   ]
  },
  {
   "cell_type": "code",
   "execution_count": 91,
   "metadata": {},
   "outputs": [],
   "source": [
    "forestVC = RandomForestClassifier(random_state = 1,\n",
    "                                  n_estimators = 10,\n",
    "                                  max_depth = 15, \n",
    "                                  min_samples_split = 5,  min_samples_leaf = 1, criterion='entropy') \n",
    "modelVC = forestVC.fit(X_train, y_train) \n",
    "y_predVC = modelVC.predict(X_test)"
   ]
  },
  {
   "cell_type": "code",
   "execution_count": 92,
   "metadata": {},
   "outputs": [
    {
     "data": {
      "text/plain": [
       "RandomForestClassifier(bootstrap=True, class_weight=None, criterion='gini',\n",
       "            max_depth=None, max_features='auto', max_leaf_nodes=None,\n",
       "            min_impurity_decrease=0.0, min_impurity_split=None,\n",
       "            min_samples_leaf=1, min_samples_split=2,\n",
       "            min_weight_fraction_leaf=0.0, n_estimators=10, n_jobs=None,\n",
       "            oob_score=False, random_state=None, verbose=0,\n",
       "            warm_start=False)"
      ]
     },
     "execution_count": 92,
     "metadata": {},
     "output_type": "execute_result"
    }
   ],
   "source": [
    "model4"
   ]
  },
  {
   "cell_type": "code",
   "execution_count": 93,
   "metadata": {},
   "outputs": [
    {
     "data": {
      "text/plain": [
       "RandomForestClassifier(bootstrap=True, class_weight=None, criterion='entropy',\n",
       "            max_depth=15, max_features='auto', max_leaf_nodes=None,\n",
       "            min_impurity_decrease=0.0, min_impurity_split=None,\n",
       "            min_samples_leaf=1, min_samples_split=5,\n",
       "            min_weight_fraction_leaf=0.0, n_estimators=10, n_jobs=None,\n",
       "            oob_score=False, random_state=1, verbose=0, warm_start=False)"
      ]
     },
     "execution_count": 93,
     "metadata": {},
     "output_type": "execute_result"
    }
   ],
   "source": [
    "forestVC"
   ]
  },
  {
   "cell_type": "code",
   "execution_count": 21,
   "metadata": {},
   "outputs": [
    {
     "ename": "NameError",
     "evalue": "name 'y_predVC' is not defined",
     "output_type": "error",
     "traceback": [
      "\u001b[1;31m---------------------------------------------------------------------------\u001b[0m",
      "\u001b[1;31mNameError\u001b[0m                                 Traceback (most recent call last)",
      "\u001b[1;32m<ipython-input-21-17b32fc1bb88>\u001b[0m in \u001b[0;36m<module>\u001b[1;34m\u001b[0m\n\u001b[1;32m----> 1\u001b[1;33m \u001b[0maccuracy_score\u001b[0m\u001b[1;33m(\u001b[0m\u001b[0my_test\u001b[0m\u001b[1;33m,\u001b[0m \u001b[0my_predVC\u001b[0m\u001b[1;33m)\u001b[0m \u001b[1;31m#68.09436\u001b[0m\u001b[1;33m\u001b[0m\u001b[1;33m\u001b[0m\u001b[0m\n\u001b[0m",
      "\u001b[1;31mNameError\u001b[0m: name 'y_predVC' is not defined"
     ]
    }
   ],
   "source": [
    "accuracy_score(y_test, y_predVC) #68.09436"
   ]
  },
  {
   "cell_type": "code",
   "execution_count": 35,
   "metadata": {},
   "outputs": [],
   "source": [
    "params={\n",
    " \"n_estimators\"          : [10,50,100,200,250,500] ,\n",
    " \"criterion\"             : ['gini','entropy'],\n",
    " \"max_leaf_nodes\"        : [ None, 3, 5, 7, 10],\n",
    " \"min_impurity_decrease\" : [0.0,0.05,0.1,0.2],\n",
    " \"min_samples_split\"     : [0.5,2,3,4,5],   \n",
    "}"
   ]
  },
  {
   "cell_type": "code",
   "execution_count": 36,
   "metadata": {},
   "outputs": [
    {
     "name": "stdout",
     "output_type": "stream",
     "text": [
      "Fitting 15 folds for each of 15 candidates, totalling 225 fits\n"
     ]
    },
    {
     "name": "stderr",
     "output_type": "stream",
     "text": [
      "[Parallel(n_jobs=-1)]: Using backend LokyBackend with 8 concurrent workers.\n",
      "[Parallel(n_jobs=-1)]: Done  16 tasks      | elapsed:   16.4s\n",
      "[Parallel(n_jobs=-1)]: Done 112 tasks      | elapsed:  5.9min\n",
      "[Parallel(n_jobs=-1)]: Done 225 out of 225 | elapsed:  8.9min finished\n"
     ]
    },
    {
     "data": {
      "text/plain": [
       "RandomizedSearchCV(cv=15, error_score='raise-deprecating',\n",
       "          estimator=RandomForestClassifier(bootstrap=True, class_weight=None, criterion='gini',\n",
       "            max_depth=None, max_features='auto', max_leaf_nodes=None,\n",
       "            min_impurity_decrease=0.0, min_impurity_split=None,\n",
       "            min_samples_leaf=1, min_samples_split=2,\n",
       "            min_weight_fraction_leaf=0.0, n_estimators='warn', n_jobs=None,\n",
       "            oob_score=False, random_state=None, verbose=0,\n",
       "            warm_start=False),\n",
       "          fit_params=None, iid='warn', n_iter=15, n_jobs=-1,\n",
       "          param_distributions={'n_estimators': [10, 50, 100, 200, 250, 500], 'criterion': ['gini', 'entropy'], 'max_leaf_nodes': [None, 3, 5, 7, 10], 'min_impurity_decrease': [0.0, 0.05, 0.1, 0.2], 'min_samples_split': [0.5, 2, 3, 4, 5]},\n",
       "          pre_dispatch='2*n_jobs', random_state=None, refit=True,\n",
       "          return_train_score='warn', scoring=None, verbose=3)"
      ]
     },
     "execution_count": 36,
     "metadata": {},
     "output_type": "execute_result"
    }
   ],
   "source": [
    "from sklearn.model_selection import RandomizedSearchCV, GridSearchCV\n",
    "from sklearn.model_selection import cross_val_score\n",
    "classifier=RandomForestClassifier()\n",
    "random_search=RandomizedSearchCV(classifier,param_distributions=params,n_iter=15,n_jobs=-1,cv=15,verbose=3)\n",
    "random_search.fit(X_train,y_train)"
   ]
  },
  {
   "cell_type": "code",
   "execution_count": 37,
   "metadata": {},
   "outputs": [
    {
     "data": {
      "text/plain": [
       "RandomForestClassifier(bootstrap=True, class_weight=None, criterion='gini',\n",
       "            max_depth=None, max_features='auto', max_leaf_nodes=None,\n",
       "            min_impurity_decrease=0.0, min_impurity_split=None,\n",
       "            min_samples_leaf=1, min_samples_split=4,\n",
       "            min_weight_fraction_leaf=0.0, n_estimators=100, n_jobs=None,\n",
       "            oob_score=False, random_state=None, verbose=0,\n",
       "            warm_start=False)"
      ]
     },
     "execution_count": 37,
     "metadata": {},
     "output_type": "execute_result"
    }
   ],
   "source": [
    "random_search.best_estimator_"
   ]
  },
  {
   "cell_type": "code",
   "execution_count": 38,
   "metadata": {},
   "outputs": [
    {
     "data": {
      "text/plain": [
       "{'n_estimators': 100,\n",
       " 'min_samples_split': 4,\n",
       " 'min_impurity_decrease': 0.0,\n",
       " 'max_leaf_nodes': None,\n",
       " 'criterion': 'gini'}"
      ]
     },
     "execution_count": 38,
     "metadata": {},
     "output_type": "execute_result"
    }
   ],
   "source": [
    "random_search.best_params_"
   ]
  },
  {
   "cell_type": "code",
   "execution_count": 40,
   "metadata": {},
   "outputs": [
    {
     "data": {
      "text/plain": [
       "0.7119583403045006"
      ]
     },
     "execution_count": 40,
     "metadata": {},
     "output_type": "execute_result"
    }
   ],
   "source": [
    "random_search.best_score_"
   ]
  },
  {
   "cell_type": "code",
   "execution_count": 41,
   "metadata": {},
   "outputs": [],
   "source": [
    "random_best = RandomForestClassifier(bootstrap=True, class_weight=None, criterion='gini',\n",
    "            max_depth=None, max_features='auto', max_leaf_nodes=None,\n",
    "            min_impurity_decrease=0.0, min_impurity_split=None,\n",
    "            min_samples_leaf=1, min_samples_split=4,\n",
    "            min_weight_fraction_leaf=0.0, n_estimators=100, n_jobs=None,\n",
    "            oob_score=False, random_state=None, verbose=0,\n",
    "            warm_start=False)"
   ]
  },
  {
   "cell_type": "code",
   "execution_count": 42,
   "metadata": {},
   "outputs": [
    {
     "data": {
      "text/plain": [
       "RandomForestClassifier(bootstrap=True, class_weight=None, criterion='gini',\n",
       "            max_depth=None, max_features='auto', max_leaf_nodes=None,\n",
       "            min_impurity_decrease=0.0, min_impurity_split=None,\n",
       "            min_samples_leaf=1, min_samples_split=4,\n",
       "            min_weight_fraction_leaf=0.0, n_estimators=100, n_jobs=None,\n",
       "            oob_score=False, random_state=None, verbose=0,\n",
       "            warm_start=False)"
      ]
     },
     "execution_count": 42,
     "metadata": {},
     "output_type": "execute_result"
    }
   ],
   "source": [
    "random_best.fit(X_train, y_train)"
   ]
  },
  {
   "cell_type": "code",
   "execution_count": 44,
   "metadata": {},
   "outputs": [],
   "source": [
    "y_pred = random_best.predict(X_test)"
   ]
  },
  {
   "cell_type": "code",
   "execution_count": 59,
   "metadata": {},
   "outputs": [
    {
     "name": "stdout",
     "output_type": "stream",
     "text": [
      "0.7126484858624728\n"
     ]
    }
   ],
   "source": [
    "print(accuracy_score(y_test, y_pred)) ## accuracy increased to 71.3%!!!"
   ]
  },
  {
   "cell_type": "code",
   "execution_count": 60,
   "metadata": {},
   "outputs": [
    {
     "name": "stdout",
     "output_type": "stream",
     "text": [
      "[0.65747703 0.66360217 0.66360217 0.66220736 0.65411962 0.63096234\n",
      " 0.65885308 0.64001674 0.6442026  0.63442211]\n",
      "\n",
      "\n",
      "0.6509465213876059\n"
     ]
    }
   ],
   "source": [
    "from sklearn.model_selection import cross_val_score\n",
    "score=cross_val_score(random_best,X_test,y_test,cv=10)\n",
    "print(score)\n",
    "print(\"\\n\")\n",
    "print(score.mean())"
   ]
  },
  {
   "cell_type": "code",
   "execution_count": 24,
   "metadata": {},
   "outputs": [
    {
     "data": {
      "image/png": "[encoded data removed]",
      "text/plain": [
       "<Figure size 1440x1440 with 2 Axes>"
      ]
     },
     "metadata": {
      "needs_background": "light"
     },
     "output_type": "display_data"
    }
   ],
   "source": [
    "## Correlation\n",
    "#get correlations of each features in dataset\n",
    "corrmat = df.corr()\n",
    "top_corr_features = corrmat.index\n",
    "plt.figure(figsize=(20,20))\n",
    "#plot heat map\n",
    "g=sns.heatmap(df[top_corr_features].corr(),annot=True,cmap=\"RdYlGn\")"
   ]
  },
  {
   "cell_type": "code",
   "execution_count": 25,
   "metadata": {},
   "outputs": [],
   "source": [
    "### Now, time to validate with real world test data."
   ]
  },
  {
   "cell_type": "code",
   "execution_count": 46,
   "metadata": {},
   "outputs": [],
   "source": [
    "test_folder = find_files(folder_root + \"Test\")"
   ]
  },
  {
   "cell_type": "code",
   "execution_count": 47,
   "metadata": {},
   "outputs": [],
   "source": [
    "test_data, test_df = data_DF_dir(test_folder)"
   ]
  },
  {
   "cell_type": "code",
   "execution_count": 48,
   "metadata": {},
   "outputs": [],
   "source": [
    "## data structure : 0,1 -> Anger ; 2,3 -> Happy"
   ]
  },
  {
   "cell_type": "code",
   "execution_count": 49,
   "metadata": {},
   "outputs": [],
   "source": [
    "def run_test(results, friendly_name):\n",
    "    for x in friendly_name:\n",
    "        fn = x.split(\"_\")\n",
    "        print(fn[1] + \" Count : \" + str(test_results.count(int(fn[0]))))"
   ]
  },
  {
   "cell_type": "code",
   "execution_count": 58,
   "metadata": {},
   "outputs": [
    {
     "name": "stdout",
     "output_type": "stream",
     "text": [
      "Anger Count : 450\n",
      "Fear Count : 1336\n",
      "Disgust Count : 101\n",
      "Happiness Count : 528\n",
      "Sadness Count : 5\n",
      "Neutral Count : 26\n",
      "Love Count : 1118\n"
     ]
    }
   ],
   "source": [
    "test_results = list(random_best.predict(test_data[6]))\n",
    "run_test(test_results, friendly_name)"
   ]
  },
  {
   "cell_type": "code",
   "execution_count": 51,
   "metadata": {},
   "outputs": [],
   "source": [
    "#Fear works...\n",
    "# Reflection... need same video."
   ]
  },
  {
   "cell_type": "code",
   "execution_count": 32,
   "metadata": {},
   "outputs": [
    {
     "data": {
      "text/plain": [
       "['../../data/Test/d0_28.12.19_16.01.33.bp.csv',\n",
       " '../../data/Test/fear0_28.12.19_13.44.00.bp.csv',\n",
       " '../../data/Test/h0_28.12.19_15.22.43.bp.csv',\n",
       " '../../data/Test/lo_28.12.19_15.15.18.bp.csv',\n",
       " '../../data/Test/lv_test1_28.12.19_15.26.03.bp.csv',\n",
       " '../../data/Test/n0_28.12.19_13.38.29.bp.csv',\n",
       " '../../data/Test/n1_28.12.19_13.39.14.bp.csv',\n",
       " '../../data/Test/sad0_28.12.19_15.18.44.bp.csv']"
      ]
     },
     "execution_count": 32,
     "metadata": {},
     "output_type": "execute_result"
    }
   ],
   "source": [
    "test_folder"
   ]
  },
  {
   "cell_type": "code",
   "execution_count": 33,
   "metadata": {},
   "outputs": [
    {
     "data": {
      "text/plain": [
       "array([[4308.205078, 4353.846191, 4171.794922, 4099.487305, 4271.794922],\n",
       "       [4289.743652, 4360.512695, 4171.282227, 4083.076904, 4267.692383],\n",
       "       [4282.05127 , 4322.05127 , 4144.102539, 4076.923096, 4252.307617],\n",
       "       ...,\n",
       "       [4957.94873 , 4405.641113, 4214.871582, 4274.871582, 5130.769043],\n",
       "       [4948.205078, 4408.205078, 4218.461426, 4270.769043, 5128.205078],\n",
       "       [4939.487305, 4409.230957, 4202.563965, 4257.94873 , 5108.205078]])"
      ]
     },
     "execution_count": 33,
     "metadata": {},
     "output_type": "execute_result"
    }
   ],
   "source": [
    "test_data[0][0:-1]"
   ]
  },
  {
   "cell_type": "code",
   "execution_count": 64,
   "metadata": {},
   "outputs": [],
   "source": [
    "### Implementation of results using keras w/ tensorflow backend"
   ]
  },
  {
   "cell_type": "code",
   "execution_count": 65,
   "metadata": {},
   "outputs": [
    {
     "name": "stderr",
     "output_type": "stream",
     "text": [
      "Using TensorFlow backend.\n"
     ]
    }
   ],
   "source": [
    "# first neural network with keras tutorial\n",
    "from numpy import loadtxt\n",
    "from keras.models import Sequential\n",
    "from keras.layers import Dense"
   ]
  },
  {
   "cell_type": "code",
   "execution_count": 66,
   "metadata": {},
   "outputs": [],
   "source": [
    "model = Sequential()\n",
    "model.add(Dense(12, input_dim=5, activation='relu'))\n",
    "model.add(Dense(5, activation='relu'))\n",
    "model.add(Dense(1, activation='sigmoid'))"
   ]
  },
  {
   "cell_type": "code",
   "execution_count": 67,
   "metadata": {},
   "outputs": [],
   "source": [
    "model.compile(loss='binary_crossentropy', optimizer='adam', metrics=['accuracy'])"
   ]
  },
  {
   "cell_type": "code",
   "execution_count": 68,
   "metadata": {
    "scrolled": true
   },
   "outputs": [
    {
     "name": "stdout",
     "output_type": "stream",
     "text": [
      "Epoch 1/150\n",
      "95632/95632 [==============================] - 9s 99us/step - loss: -167394903.0711 - accuracy: 0.1661\n",
      "Epoch 2/150\n",
      "95632/95632 [==============================] - 9s 96us/step - loss: -1702455448.2968 - accuracy: 0.1661\n",
      "Epoch 3/150\n",
      "95632/95632 [==============================] - 9s 96us/step - loss: -6029714147.0377 - accuracy: 0.1661\n",
      "Epoch 4/150\n",
      "95632/95632 [==============================] - 10s 102us/step - loss: -14430056033.2856 - accuracy: 0.1661\n",
      "Epoch 5/150\n",
      "95632/95632 [==============================] - 9s 98us/step - loss: -28195138105.5071 - accuracy: 0.1661\n",
      "Epoch 6/150\n",
      "95632/95632 [==============================] - 11s 118us/step - loss: -48501725466.4430 - accuracy: 0.1661\n",
      "Epoch 7/150\n",
      "95632/95632 [==============================] - 10s 101us/step - loss: -76569983829.6458 - accuracy: 0.1661\n",
      "Epoch 8/150\n",
      "95632/95632 [==============================] - 12s 122us/step - loss: -113734424765.9779 - accuracy: 0.1661\n",
      "Epoch 9/150\n",
      "95632/95632 [==============================] - 12s 121us/step - loss: -161173199769.6044 - accuracy: 0.1661\n",
      "Epoch 10/150\n",
      "95632/95632 [==============================] - 10s 102us/step - loss: -220065607781.7140 - accuracy: 0.1661\n",
      "Epoch 11/150\n",
      "95632/95632 [==============================] - 9s 99us/step - loss: -291590040212.6310 - accuracy: 0.1661\n",
      "Epoch 12/150\n",
      "95632/95632 [==============================] - 10s 108us/step - loss: -377234166130.0078 - accuracy: 0.1661\n",
      "Epoch 13/150\n",
      "95632/95632 [==============================] - 11s 110us/step - loss: -477727215264.2393 - accuracy: 0.1661\n",
      "Epoch 14/150\n",
      "95632/95632 [==============================] - 9s 98us/step - loss: -594703384408.6545 - accuracy: 0.1661\n",
      "Epoch 15/150\n",
      "95632/95632 [==============================] - 9s 98us/step - loss: -729263091623.7256 - accuracy: 0.1661\n",
      "Epoch 16/150\n",
      "95632/95632 [==============================] - 10s 108us/step - loss: -882294677026.2633 - accuracy: 0.1661\n",
      "Epoch 17/150\n",
      "95632/95632 [==============================] - 10s 103us/step - loss: -1055447933551.0739 - accuracy: 0.1661\n",
      "Epoch 18/150\n",
      "95632/95632 [==============================] - 11s 110us/step - loss: -1249745595926.3337 - accuracy: 0.1661\n",
      "Epoch 19/150\n",
      "95632/95632 [==============================] - 10s 103us/step - loss: -1466989408661.8999 - accuracy: 0.1661\n",
      "Epoch 20/150\n",
      "95632/95632 [==============================] - 9s 95us/step - loss: -1708079667583.2407 - accuracy: 0.1661: 1s - loss: -1692912466661\n",
      "Epoch 21/150\n",
      "95632/95632 [==============================] - 9s 99us/step - loss: -1973316583857.1431 - accuracy: 0.1661\n",
      "Epoch 22/150\n",
      "95632/95632 [==============================] - 10s 107us/step - loss: -2263714372280.3442 - accuracy: 0.16611s - loss: -\n",
      "Epoch 23/150\n",
      "95632/95632 [==============================] - 10s 102us/step - loss: -2582717130385.2422 - accuracy: 0.1661\n",
      "Epoch 24/150\n",
      "95632/95632 [==============================] - 11s 118us/step - loss: -2929139076044.4316 - accuracy: 0.1661\n",
      "Epoch 25/150\n",
      "95632/95632 [==============================] - 9s 95us/step - loss: -3305924075927.7524 - accuracy: 0.1661: 3\n",
      "Epoch 26/150\n",
      "95632/95632 [==============================] - 8s 89us/step - loss: -3713916296808.6089 - accuracy: 0.1661\n",
      "Epoch 27/150\n",
      "95632/95632 [==============================] - 8s 87us/step - loss: -4150950057263.5967 - accuracy: 0.1661: 1s - loss: -\n",
      "Epoch 28/150\n",
      "95632/95632 [==============================] - 8s 83us/step - loss: -4624579592248.7295 - accuracy: 0.1661TA: 4s - loss: -449259281\n",
      "Epoch 29/150\n",
      "95632/95632 [==============================] - 8s 85us/step - loss: -5132269972620.9775 - accuracy: 0.1661\n",
      "Epoch 30/150\n",
      "95632/95632 [==============================] - 8s 83us/step - loss: -5673630661197.6523 - accuracy: 0.1661: 7s - loss: \n",
      "Epoch 31/150\n",
      "95632/95632 [==============================] - 8s 83us/step - loss: -6252685032207.6328 - accuracy: 0.1661\n",
      "Epoch 32/150\n",
      "95632/95632 [==============================] - 7s 76us/step - loss: -6869966177602.3877 - accuracy: 0.1661: 2s - loss: -6771390461953.7363 -  - ETA: 1s - loss: -68076247979\n",
      "Epoch 33/150\n",
      "95632/95632 [==============================] - 7s 76us/step - loss: -7526103950112.0811 - accuracy: 0.1661\n",
      "Epoch 34/150\n",
      "95632/95632 [==============================] - 7s 77us/step - loss: -8224306165806.4707 - accuracy: 0.1661: 1s - loss: -814101\n",
      "Epoch 35/150\n",
      "95632/95632 [==============================] - 8s 81us/step - loss: -8963862468626.1387 - accuracy: 0.1661\n",
      "Epoch 36/150\n",
      "95632/95632 [==============================] - 9s 92us/step - loss: -9745164388928.5566 - accuracy: 0.1661\n",
      "Epoch 37/150\n",
      "95632/95632 [==============================] - 8s 86us/step - loss: -10571163680100.2461 - accuracy: 0.1661\n",
      "Epoch 38/150\n",
      "95632/95632 [==============================] - 8s 83us/step - loss: -11440860331752.5098 - accuracy: 0.1661\n",
      "Epoch 39/150\n",
      "95632/95632 [==============================] - 8s 87us/step - loss: -12359045598082.5059 - accuracy: 0.1661 3s - los - E\n",
      "Epoch 40/150\n",
      "95632/95632 [==============================] - 8s 89us/step - loss: -13325573571107.5605 - accuracy: 0.1661\n",
      "Epoch 41/150\n",
      "95632/95632 [==============================] - 8s 85us/step - loss: -14339149842004.7266 - accuracy: 0.1661\n",
      "Epoch 42/150\n",
      "95632/95632 [==============================] - 8s 88us/step - loss: -15403041725389.3809 - accuracy: 0.1661\n",
      "Epoch 43/150\n",
      "95632/95632 [==============================] - 8s 84us/step - loss: -16515600937962.5859 - accuracy: 0.1661 0s - loss: -16\n",
      "Epoch 44/150\n",
      "95632/95632 [==============================] - 8s 81us/step - loss: -17684458986230.4492 - accuracy: 0.1661\n",
      "Epoch 45/150\n",
      "95632/95632 [==============================] - 8s 80us/step - loss: -18901259161803.7031 - accuracy: 0.1661\n",
      "Epoch 46/150\n",
      "95632/95632 [==============================] - 8s 81us/step - loss: -20178071977332.5430 - accuracy: 0.1661\n",
      "Epoch 47/150\n",
      "95632/95632 [==============================] - 8s 83us/step - loss: -21510113540300.9961 - accuracy: 0.1661 1s - loss: - ETA: 0s - loss: -2141\n",
      "Epoch 48/150\n",
      "95632/95632 [==============================] - 8s 84us/step - loss: -22898194914493.6953 - accuracy: 0.1661 1s\n",
      "Epoch 49/150\n",
      "95632/95632 [==============================] - 8s 79us/step - loss: -24343566266874.2617 - accuracy: 0.1661\n",
      "Epoch 50/150\n",
      "95632/95632 [==============================] - 7s 78us/step - loss: -25852627388207.7773 - accuracy: 0.1661\n",
      "Epoch 51/150\n",
      "95632/95632 [==============================] - 8s 79us/step - loss: -27419219843310.7383 - accuracy: 0.1661 4s - loss: -26877143658486.1406 - ac\n",
      "Epoch 52/150\n",
      "95632/95632 [==============================] - 7s 78us/step - loss: -29048863762819.1953 - accuracy: 0.1661\n",
      "Epoch 53/150\n",
      "95632/95632 [==============================] - 7s 77us/step - loss: -30739606120098.2461 - accuracy: 0.1661\n",
      "Epoch 54/150\n",
      "95632/95632 [==============================] - 7s 77us/step - loss: -32500025092867.6406 - accuracy: 0.1661\n",
      "Epoch 55/150\n",
      "95632/95632 [==============================] - 8s 79us/step - loss: -34326584041824.5234 - accuracy: 0.1661\n",
      "Epoch 56/150\n",
      "95632/95632 [==============================] - 7s 77us/step - loss: -36215697542226.7891 - accuracy: 0.1661  - ETA: 0s - loss: -36156004518130.7891 \n",
      "Epoch 57/150\n",
      "95632/95632 [==============================] - 8s 79us/step - loss: -38174324838630.0000 - accuracy: 0.1661\n",
      "Epoch 58/150\n",
      "95632/95632 [==============================] - 8s 84us/step - loss: -40200635370175.3672 - accuracy: 0.1661\n",
      "Epoch 59/150\n",
      "95632/95632 [==============================] - 8s 87us/step - loss: -42295024317350.6562 - accuracy: 0.1661\n",
      "Epoch 60/150\n",
      "95632/95632 [==============================] - 8s 86us/step - loss: -44463457796306.8125 - accuracy: 0.1661\n",
      "Epoch 61/150\n",
      "95632/95632 [==============================] - 10s 102us/step - loss: -46707352469460.0156 - accuracy: 0.1661\n",
      "Epoch 62/150\n",
      "95632/95632 [==============================] - 8s 87us/step - loss: -49024758337650.4453 - accuracy: 0.1661\n",
      "Epoch 63/150\n",
      "95632/95632 [==============================] - 8s 80us/step - loss: -51414876379410.4219 - accuracy: 0.1661\n",
      "Epoch 64/150\n",
      "95632/95632 [==============================] - 8s 87us/step - loss: -53882437830547.8125 - accuracy: 0.1661 0s - loss: -53849195100753.8047 - ac\n",
      "Epoch 65/150\n"
     ]
    },
    {
     "name": "stdout",
     "output_type": "stream",
     "text": [
      "95632/95632 [==============================] - 8s 85us/step - loss: -56428792497767.4766 - accuracy: 0.1661 2s - loss: -56 - ETA: 0s - loss: -56247945050872.8125 -  - ETA: 0s - loss: -56339871816316.0\n",
      "Epoch 66/150\n",
      "95632/95632 [==============================] - 9s 90us/step - loss: -59054891816756.8359 - accuracy: 0.1661\n",
      "Epoch 67/150\n",
      "95632/95632 [==============================] - 8s 82us/step - loss: -61755549853035.0391 - accuracy: 0.1661 0s - loss: -61631149718986.2891 - \n",
      "Epoch 68/150\n",
      "95632/95632 [==============================] - 8s 83us/step - loss: -64542580424739.9375 - accuracy: 0.1661 0s - loss: -64\n",
      "Epoch 69/150\n",
      "95632/95632 [==============================] - 8s 83us/step - loss: -67416479514164.9453 - accuracy: 0.1661\n",
      "Epoch 70/150\n",
      "95632/95632 [==============================] - 8s 80us/step - loss: -70355145229069.1953 - accuracy: 0.1661\n",
      "Epoch 71/150\n",
      "95632/95632 [==============================] - 8s 84us/step - loss: -73394955607143.6250 - accuracy: 0.1661\n",
      "Epoch 72/150\n",
      "95632/95632 [==============================] - 8s 83us/step - loss: -76517995033231.0938 - accuracy: 0.1661\n",
      "Epoch 73/150\n",
      "95632/95632 [==============================] - 10s 105us/step - loss: -79723685990971.3594 - accuracy: 0.1661\n",
      "Epoch 74/150\n",
      "95632/95632 [==============================] - 25s 257us/step - loss: -83025268657713.0781 - accuracy: 0.1661\n",
      "Epoch 75/150\n",
      "95632/95632 [==============================] - 18s 188us/step - loss: -86415113245040.6875 - accuracy: 0.1661\n",
      "Epoch 76/150\n",
      "95632/95632 [==============================] - 11s 119us/step - loss: -89887487152842.5781 - accuracy: 0.1661\n",
      "Epoch 77/150\n",
      "95632/95632 [==============================] - 11s 112us/step - loss: -93457587128410.7969 - accuracy: 0.1661\n",
      "Epoch 78/150\n",
      "95632/95632 [==============================] - ETA: 0s - loss: -97128200883819.7656 - accuracy: 0.16 - 11s 113us/step - loss: -97123123774814.2656 - accuracy: 0.1661\n",
      "Epoch 79/150\n",
      "95632/95632 [==============================] - 11s 119us/step - loss: -100874197662777.9062 - accuracy: 0.1661\n",
      "Epoch 80/150\n",
      "95632/95632 [==============================] - 12s 121us/step - loss: -104725103205221.3438 - accuracy: 0.1661\n",
      "Epoch 81/150\n",
      "95632/95632 [==============================] - 15s 154us/step - loss: -108679820952944.9844 - accuracy: 0.1661\n",
      "Epoch 82/150\n",
      "95632/95632 [==============================] - 9s 98us/step - loss: -112729747951483.0625 - accuracy: 0.1661\n",
      "Epoch 83/150\n",
      "95632/95632 [==============================] - 11s 111us/step - loss: -116879993909422.9219 - accuracy: 0.1661\n",
      "Epoch 84/150\n",
      "95632/95632 [==============================] - 8s 89us/step - loss: -121119587843452.1562 - accuracy: 0.1661\n",
      "Epoch 85/150\n",
      "95632/95632 [==============================] - 8s 89us/step - loss: -125481575968866.0000 - accuracy: 0.1661\n",
      "Epoch 86/150\n",
      "95632/95632 [==============================] - 8s 88us/step - loss: -129922490410709.3906 - accuracy: 0.1661\n",
      "Epoch 87/150\n",
      "95632/95632 [==============================] - 9s 94us/step - loss: -134471621402817.5938 - accuracy: 0.1661\n",
      "Epoch 88/150\n",
      "95632/95632 [==============================] - 11s 110us/step - loss: -139131809086997.5156 - accuracy: 0.1661\n",
      "Epoch 89/150\n",
      "95632/95632 [==============================] - 9s 93us/step - loss: -143900473608109.0938 - accuracy: 0.1661\n",
      "Epoch 90/150\n",
      "95632/95632 [==============================] - 9s 94us/step - loss: -148773204004616.5312 - accuracy: 0.1661\n",
      "Epoch 91/150\n",
      "95632/95632 [==============================] - 9s 90us/step - loss: -153750245541312.0000 - accuracy: 0.1661\n",
      "Epoch 92/150\n",
      "95632/95632 [==============================] - 9s 98us/step - loss: -158835988047911.0625 - accuracy: 0.1661\n",
      "Epoch 93/150\n",
      "95632/95632 [==============================] - 9s 96us/step - loss: -164043308993497.2812 - accuracy: 0.1661: 0s - loss: -163772535178044.9375 - \n",
      "Epoch 94/150\n",
      "95632/95632 [==============================] - 9s 93us/step - loss: -169354503099375.9062 - accuracy: 0.1661\n",
      "Epoch 95/150\n",
      "95632/95632 [==============================] - 8s 88us/step - loss: -174780758256157.0625 - accuracy: 0.1661: 4s - loss: -172806696257 - ETA: 0s - loss: -174780689254457.6875 - accuracy: 0.16\n",
      "Epoch 96/150\n",
      "95632/95632 [==============================] - 9s 89us/step - loss: -180317974799777.8438 - accuracy: 0.1661: 0s - loss: -180137202507782.6562 -\n",
      "Epoch 97/150\n",
      "95632/95632 [==============================] - 8s 86us/step - loss: -185974574755494.2812 - accuracy: 0.1661: 1s - loss: -1856\n",
      "Epoch 98/150\n",
      "95632/95632 [==============================] - 9s 92us/step - loss: -191760562104589.6562 - accuracy: 0.1661\n",
      "Epoch 99/150\n",
      "95632/95632 [==============================] - 8s 86us/step - loss: -197654934302045.6875 - accuracy: 0.1661: 1s - loss: -197349277446323.156\n",
      "Epoch 100/150\n",
      "95632/95632 [==============================] - ETA: 0s - loss: -203590672051326.4375 - accuracy: 0.1662- ETA: 2s - l - 9s 92us/step - loss: -203665113533044.7500 - accuracy: 0.1661\n",
      "Epoch 101/150\n",
      "95632/95632 [==============================] - 9s 90us/step - loss: -209796597892779.4062 - accuracy: 0.1661: 3s - loss:  - ETA: 1s - loss: -209254928153028.\n",
      "Epoch 102/150\n",
      "95632/95632 [==============================] - 9s 92us/step - loss: -216047761398977.0938 - accuracy: 0.1661: 1s - loss: -215643899221689.812\n",
      "Epoch 103/150\n",
      "95632/95632 [==============================] - 8s 83us/step - loss: -222436186788965.2812 - accuracy: 0.1661\n",
      "Epoch 104/150\n",
      "95632/95632 [==============================] - 9s 96us/step - loss: -228939221502953.5312 - accuracy: 0.1661\n",
      "Epoch 105/150\n",
      "95632/95632 [==============================] - 9s 89us/step - loss: -235555903724292.6562 - accuracy: 0.1661\n",
      "Epoch 106/150\n",
      "95632/95632 [==============================] - 8s 84us/step - loss: -242307684301499.3125 - accuracy: 0.1661: 3s - loss: -241381942672 - ETA: 2s - loss: -241225230506981.2500 - accuracy - ETA: 1s - loss: -241438782346604.9688 -  - ETA: 0s - loss: -241649190155063.0938 - accuracy - ETA: 0s - loss: -242024866490548.6875 - accur\n",
      "Epoch 107/150\n",
      "95632/95632 [==============================] - 9s 91us/step - loss: -249190137154203.8125 - accuracy: 0.1661: 1s - loss: -24\n",
      "Epoch 108/150\n",
      "95632/95632 [==============================] - 9s 90us/step - loss: -256223630547114.2812 - accuracy: 0.1661\n",
      "Epoch 109/150\n",
      "95632/95632 [==============================] - 9s 97us/step - loss: -263351081204808.5000 - accuracy: 0.1661: 0s - loss: -262992349413908.6875 - accuracy: 0. - ETA: 0s - loss: -263166903236679.0938 - accuracy: 0.166\n",
      "Epoch 110/150\n",
      "95632/95632 [==============================] - 9s 96us/step - loss: -270635203329143.4375 - accuracy: 0.1661: 6s - loss: -267943785634 - ET - ETA: 1s - loss: -26\n",
      "Epoch 111/150\n",
      "95632/95632 [==============================] - ETA: 0s - loss: -277956903668905.3125 - accuracy: 0.166 - 9s 94us/step - loss: -278031334643626.0000 - accuracy: 0.1661\n",
      "Epoch 112/150\n",
      "95632/95632 [==============================] - 9s 92us/step - loss: -285570781517997.0625 - accuracy: 0.1661:\n",
      "Epoch 113/150\n",
      "95632/95632 [==============================] - 8s 84us/step - loss: -293240054943040.1875 - accuracy: 0.1661: 3s - loss: -292742932036171.875 - ET\n",
      "Epoch 114/150\n",
      "95632/95632 [==============================] - 9s 90us/step - loss: -301047415271375.6250 - accuracy: 0.1661\n",
      "Epoch 115/150\n",
      "95632/95632 [==============================] - 10s 108us/step - loss: -309007219781613.1250 - accuracy: 0.1661\n",
      "Epoch 116/150\n",
      "95632/95632 [==============================] - 10s 103us/step - loss: -317095943398724.0000 - accuracy: 0.1661\n",
      "Epoch 117/150\n",
      "95632/95632 [==============================] - 9s 90us/step - loss: -325312873769133.0625 - accuracy: 0.1661\n",
      "Epoch 118/150\n",
      "95632/95632 [==============================] - 8s 81us/step - loss: -333690835659083.3125 - accuracy: 0.1661\n",
      "Epoch 119/150\n",
      "95632/95632 [==============================] - 8s 81us/step - loss: -342217537156001.2500 - accuracy: 0.1661\n",
      "Epoch 120/150\n",
      "95632/95632 [==============================] - 8s 79us/step - loss: -350872858565937.8125 - accuracy: 0.1661TA: 7s - loss: -33726 - ET\n",
      "Epoch 121/150\n",
      "95632/95632 [==============================] - 8s 80us/step - loss: -359673397592454.4375 - accuracy: 0.1661\n",
      "Epoch 122/150\n"
     ]
    },
    {
     "name": "stdout",
     "output_type": "stream",
     "text": [
      "95632/95632 [==============================] - 8s 78us/step - loss: -368620188256792.5625 - accuracy: 0.1661: 6s - loss: -36400 - ETA: 4s - loss: -365857598371672.6875 - accu - ETA: 4s - loss: -3664 - ETA: 2s - loss: -366897647845657.937 - ETA: 1s - loss: -367492884423\n",
      "Epoch 123/150\n",
      "95632/95632 [==============================] - 8s 79us/step - loss: -377718330278737.7500 - accuracy: 0.1661\n",
      "Epoch 124/150\n",
      "95632/95632 [==============================] - 8s 79us/step - loss: -386946903885902.6875 - accuracy: 0.1661: 0s - loss: -386324252985199.2500 - accu\n",
      "Epoch 125/150\n",
      "95632/95632 [==============================] - 8s 79us/step - loss: -396322114429087.0000 - accuracy: 0.1661: 2s - loss: -394596426124485.3750 - accu - ETA: 1s - loss: -394948138438903.1250 -  - ETA: 0s - loss: -395063045204637.7500 - accuracy: 0. - ETA: 0s - loss: -395327514240785.8125 - acc\n",
      "Epoch 126/150\n",
      "95632/95632 [==============================] - 8s 79us/step - loss: -405848017326004.2500 - accuracy: 0.1661: 1s - loss: -4060167664\n",
      "Epoch 127/150\n",
      "95632/95632 [==============================] - 7s 78us/step - loss: -415553411712862.5625 - accuracy: 0.1661: 3s - loss: -413086014840281.812 - ETA: 2s - loss: -413621112199086.6875 - accuracy: 0. - ETA: 2s - loss: -413760222089870.7500 - accu - ETA: 1s - loss: -414577453044 - ETA: 0s - loss: -415407770603530.8125 - accuracy: 0.16\n",
      "Epoch 128/150\n",
      "95632/95632 [==============================] - 8s 81us/step - loss: -425397324115453.3750 - accuracy: 0.1661TA: 7s - loss: -4145447\n",
      "Epoch 129/150\n",
      "95632/95632 [==============================] - 8s 81us/step - loss: -435379764742374.6250 - accuracy: 0.1661\n",
      "Epoch 130/150\n",
      "95632/95632 [==============================] - ETA: 0s - loss: -445649846482288.0000 - accuracy: 0.1662- ETA: 5s - los - ETA: 0s - loss: -445537549926911.1875 - accuracy: 0.16 - 8s 82us/step - loss: -445531904187488.1250 - accuracy: 0.1661\n",
      "Epoch 131/150\n",
      "95632/95632 [==============================] - 8s 80us/step - loss: -455839770812038.4375 - accuracy: 0.1661: 4s - loss: -4544 - ETA: 2s - loss: -454019800728239.5000 - accuracy: 0. - ET\n",
      "Epoch 132/150\n",
      "95632/95632 [==============================] - 8s 80us/step - loss: -466306629920168.0000 - accuracy: 0.1661: 7s - loss: -460443961232 - ETA: 5s - loss: -461802685450114 - ETA: 4s - loss: -463347811164559.9375 - accu - ETA: 4s - loss: - - ETA: 2s - loss: -463465011748081.2500 -  - ETA: 1s - loss: -465008635817142\n",
      "Epoch 133/150\n",
      "95632/95632 [==============================] - 8s 80us/step - loss: -476908815652980.5625 - accuracy: 0.1661TA: 8s - loss: -470676069928764.9375 - accuracy: 0.16 - ETA: 7s - loss: -475098274573057. - ETA: 6s - loss: -480345571396182.000 - ETA: 5s - l\n",
      "Epoch 134/150\n",
      "95632/95632 [==============================] - 7s 78us/step - loss: -487702401774075.8125 - accuracy: 0.1661\n",
      "Epoch 135/150\n",
      "95632/95632 [==============================] - 7s 77us/step - loss: -498668264576280.0625 - accuracy: 0.1661: 8s - los - ETA: 5s - loss: -492551581738 - ETA: 3s - loss: -496150597080 - ETA: 2s - loss: -496611088757016.1875 - accu - ETA: 1s - loss: -49740\n",
      "Epoch 136/150\n",
      "95632/95632 [==============================] - 7s 77us/step - loss: -509770539448546.5000 - accuracy: 0.1661\n",
      "Epoch 137/150\n",
      "95632/95632 [==============================] - 7s 78us/step - loss: -521049727795426.1250 - accuracy: 0.1661: 6s - loss: -511404135553027.8125 - accuracy: 0. - ETA: 6s - loss: -511089084855251.1250 - accu - ETA: 6s - loss: -5122 - ETA:  - ETA: 1s - loss: -519542163862200.125 - ETA: 0s - loss: -519996893050520.8125 -\n",
      "Epoch 138/150\n",
      "95632/95632 [==============================] - 9s 93us/step - loss: -532494681667970.8750 - accuracy: 0.1661\n",
      "Epoch 139/150\n",
      "95632/95632 [==============================] - 8s 80us/step - loss: -544070771084510.9375 - accuracy: 0.1661TA: 8s  - ETA: 2s - loss\n",
      "Epoch 140/150\n",
      "95632/95632 [==============================] - 7s 78us/step - loss: -555854125935659.3750 - accuracy: 0.1661: 2s - loss: -554866551539861.8125 - accuracy - ETA: 2s - loss: -554827137974989. - ETA: 0s - loss: -555000581627501.9375 - accuracy - ETA: 0s - loss: -555784977183648.8125 - accur\n",
      "Epoch 141/150\n",
      "95632/95632 [==============================] - 7s 78us/step - loss: -567798390821291.6250 - accuracy: 0.1661: 3s - loss: -5646 - ETA: 1s - loss: -56785570\n",
      "Epoch 142/150\n",
      "95632/95632 [==============================] - 7s 78us/step - loss: -579935698558524.6250 - accuracy: 0.1661: 6s - loss: -5746328 - ETA: 5s - loss:\n",
      "Epoch 143/150\n",
      "95632/95632 [==============================] - 7s 78us/step - loss: -592217544382361.5000 - accuracy: 0.1661\n",
      "Epoch 144/150\n",
      "95632/95632 [==============================] - 7s 78us/step - loss: -604653516173889.0000 - accuracy: 0.1661: 0s - loss: -604227763437171.5000 - accuracy: \n",
      "Epoch 145/150\n",
      "95632/95632 [==============================] - 7s 77us/step - loss: -617241988544236.8750 - accuracy: 0.1661: 3s - loss: - - ETA: 1s - loss: -6174\n",
      "Epoch 146/150\n",
      "95632/95632 [==============================] - 7s 78us/step - loss: -630045704500372.5000 - accuracy: 0.1661\n",
      "Epoch 147/150\n",
      "95632/95632 [==============================] - 8s 78us/step - loss: -643003918375445.5000 - accuracy: 0.1661\n",
      "Epoch 148/150\n",
      "95632/95632 [==============================] - 7s 78us/step - loss: -656161052299604.6250 - accuracy: 0.1661\n",
      "Epoch 149/150\n",
      "95632/95632 [==============================] - 7s 77us/step - loss: -669477957183963.6250 - accuracy: 0.1661: 4s - los - ETA: 2s - loss: -66809521 - ETA: 1s - loss: -669188376104038.7\n",
      "Epoch 150/150\n",
      "95632/95632 [==============================] - 8s 87us/step - loss: -683005985585673.2500 - accuracy: 0.1661\n"
     ]
    },
    {
     "data": {
      "text/plain": [
       "<keras.callbacks.callbacks.History at 0x1a7d35fe588>"
      ]
     },
     "execution_count": 68,
     "metadata": {},
     "output_type": "execute_result"
    }
   ],
   "source": [
    "model.fit(X_train, y_train, epochs=150, batch_size=10)"
   ]
  },
  {
   "cell_type": "code",
   "execution_count": 69,
   "metadata": {},
   "outputs": [
    {
     "name": "stdout",
     "output_type": "stream",
     "text": [
      "95632/95632 [==============================] - 1s 12us/step\n",
      "Accuracy: 16.61\n"
     ]
    }
   ],
   "source": [
    "_, accuracy = model.evaluate(X_train, y_train)\n",
    "print('Accuracy: %.2f' % (accuracy*100))"
   ]
  },
  {
   "cell_type": "code",
   "execution_count": 84,
   "metadata": {},
   "outputs": [],
   "source": [
    "res_keras = model.predict(test_data[5])"
   ]
  },
  {
   "cell_type": "code",
   "execution_count": 85,
   "metadata": {},
   "outputs": [
    {
     "name": "stdout",
     "output_type": "stream",
     "text": [
      "Anger Count : 450\n",
      "Fear Count : 1336\n",
      "Disgust Count : 101\n",
      "Happiness Count : 528\n",
      "Sadness Count : 5\n",
      "Neutral Count : 26\n",
      "Love Count : 1118\n"
     ]
    }
   ],
   "source": [
    "run_test(res_keras, friendly_name)"
   ]
  },
  {
   "cell_type": "code",
   "execution_count": 75,
   "metadata": {},
   "outputs": [
    {
     "data": {
      "text/plain": [
       "['../../data/Test/d0_28.12.19_16.01.33.bp.csv',\n",
       " '../../data/Test/fear0_28.12.19_13.44.00.bp.csv',\n",
       " '../../data/Test/h0_28.12.19_15.22.43.bp.csv',\n",
       " '../../data/Test/lo_28.12.19_15.15.18.bp.csv',\n",
       " '../../data/Test/lv_test1_28.12.19_15.26.03.bp.csv',\n",
       " '../../data/Test/n0_28.12.19_13.38.29.bp.csv',\n",
       " '../../data/Test/n1_28.12.19_13.39.14.bp.csv',\n",
       " '../../data/Test/sad0_28.12.19_15.18.44.bp.csv']"
      ]
     },
     "execution_count": 75,
     "metadata": {},
     "output_type": "execute_result"
    }
   ],
   "source": [
    "test_folder"
   ]
  },
  {
   "cell_type": "code",
   "execution_count": null,
   "metadata": {},
   "outputs": [],
   "source": [
    "### Reflection : DL activation f(x) sigmoid, relu accuracy 16.61%. epochs set to 150.\n",
    "### Reflection : ML gradient boosting the best algorithm with parameter tuning."
   ]
  }
 ],
 "metadata": {
  "kernelspec": {
   "display_name": "Python 3",
   "language": "python",
   "name": "python3"
  },
  "language_info": {
   "codemirror_mode": {
    "name": "ipython",
    "version": 3
   },
   "file_extension": ".py",
   "mimetype": "text/x-python",
   "name": "python",
   "nbconvert_exporter": "python",
   "pygments_lexer": "ipython3",
   "version": "3.7.3"
  }
 },
 "nbformat": 4,
 "nbformat_minor": 2
}
