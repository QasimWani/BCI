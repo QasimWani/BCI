{
 "cells": [
  {
   "cell_type": "code",
   "execution_count": 1,
   "metadata": {},
   "outputs": [],
   "source": [
    "### The purpose of this program is to synthesize music files based on their frequencies.\n",
    "### Steps:\n",
    "#--> 1. Use Fast Fourier Transformation to convert music from time domain to frequency domain.\n",
    "#--> 2. Make sure no aliasing takes place (obvious since .wav file samples at 44Khz, Nyquist frequency maintained)\n",
    "#--> 3. Generate Spectograms.\n",
    "#--> 4. ML to generate similarity calculations. {Jaccard, Cosine, Euclidean, Manhattan, Dynamic TimeWrap}"
   ]
  },
  {
   "cell_type": "code",
   "execution_count": 2,
   "metadata": {},
   "outputs": [],
   "source": [
    "from scipy import fft, arange, signal\n",
    "from scipy.special import logit, expit\n",
    "import numpy as np\n",
    "import matplotlib.pyplot as plt\n",
    "from scipy.io import wavfile\n",
    "import os\n",
    "from ttictoc import TicToc"
   ]
  },
  {
   "cell_type": "code",
   "execution_count": 3,
   "metadata": {},
   "outputs": [],
   "source": [
    "folder_root_Hypothesis_1 = \"../../Music/hypothesis_1/\"\n",
    "folder_root_Hypothesis_2 = \"../../Music/hypothesis_2/\""
   ]
  },
  {
   "cell_type": "code",
   "execution_count": 4,
   "metadata": {},
   "outputs": [],
   "source": [
    "def read_file(path):\n",
    "    \"\"\"\n",
    "    Reads the audio .wav file and returns the sample rate and data contents of the file.\n",
    "    \"\"\"\n",
    "    sr, signal = wavfile.read(path)\n",
    "    return sr, signal[:,0]"
   ]
  },
  {
   "cell_type": "code",
   "execution_count": 5,
   "metadata": {},
   "outputs": [],
   "source": [
    "def read_all(files):\n",
    "    \"\"\"Branch audio file extrapolation. Uses read_file() method.\"\"\"\n",
    "    ret = []\n",
    "    t = TicToc()\n",
    "    t.tic();\n",
    "    for fl in files:\n",
    "        ret.append(read_file(fl))\n",
    "    t.toc();\n",
    "    print(\"Time it took to read data from files of length \", len(files), \" = \", round(t.elapsed, 3), \" seconds.\")\n",
    "    return np.array(ret)"
   ]
  },
  {
   "cell_type": "code",
   "execution_count": 6,
   "metadata": {},
   "outputs": [],
   "source": [
    "def find_files(PATH):\n",
    "    \"\"\"\n",
    "    Finds all the files in a particular directory. Return only .csv files.\n",
    "    \"\"\"\n",
    "    files = []\n",
    "    for r, d, f in os.walk(PATH):\n",
    "        for file in f:\n",
    "            if '.wav' in file:\n",
    "                files.append(os.path.join(r, file).replace(\"\\\\\",\"/\"))\n",
    "    return files"
   ]
  },
  {
   "cell_type": "code",
   "execution_count": 7,
   "metadata": {},
   "outputs": [],
   "source": [
    "music_files = find_files(folder_root_Hypothesis_1)"
   ]
  },
  {
   "cell_type": "code",
   "execution_count": 8,
   "metadata": {},
   "outputs": [
    {
     "name": "stdout",
     "output_type": "stream",
     "text": [
      "Time it took to read data from files of length  7  =  0.141  seconds.\n"
     ]
    }
   ],
   "source": [
    "data = read_all(music_files)"
   ]
  },
  {
   "cell_type": "code",
   "execution_count": 18,
   "metadata": {},
   "outputs": [],
   "source": [
    "def frequency_sepectrum(sf, x):\n",
    "    \"\"\"\n",
    "    Derive frequency spectrum of a signal from time domain\n",
    "    :param x: signal in the time domain\n",
    "    :param sf: sampling frequency\n",
    "    :returns frequencies and their content distribution\n",
    "    \"\"\"\n",
    "    x = x - np.average(x)  # zero-centering\n",
    "\n",
    "    n = len(x)\n",
    "    k = arange(n)\n",
    "    tarr = n / float(sf)\n",
    "    frqarr = k / float(tarr)  # two sides frequency range\n",
    "\n",
    "    frqarr = frqarr[range(n // 2)]  # one side frequency range\n",
    "\n",
    "    x = fft(x) / n  # fft computing and normalization\n",
    "    x = x[range(n // 2)]\n",
    "\n",
    "    return frqarr, abs(x)"
   ]
  },
  {
   "cell_type": "code",
   "execution_count": 21,
   "metadata": {},
   "outputs": [],
   "source": [
    "def plot(sample_rate, signal, state=False):\n",
    "    \"\"\"\n",
    "    Method responsible for converting from time domain to frequency\n",
    "    via the discrete fourier analysis function created in frequency_sepectrum().\n",
    "    Option to form a plot of the resultant frequency domain graph with its frequency content distribution.\n",
    "    Returns:\n",
    "    1. Y: The frequencies.\n",
    "    2. frq: The content distribution.\n",
    "    \"\"\"\n",
    "    frq, Y = frequency_sepectrum(sample_rate, signal)\n",
    "    frq = frq\n",
    "    if(state == True):\n",
    "        plt.plot(frq, Y)\n",
    "        plt.title(\"Frequency (Hz) vs. Occurence\")\n",
    "        plt.xlabel(\"Frequency (Hz)\")\n",
    "        plt.ylabel(\"Occurence (Count)\")\n",
    "    return Y, frq"
   ]
  },
  {
   "cell_type": "code",
   "execution_count": 65,
   "metadata": {},
   "outputs": [
    {
     "data": {
      "image/png": "[encoded data removed]",
      "text/plain": [
       "<Figure size 432x288 with 1 Axes>"
      ]
     },
     "metadata": {
      "needs_background": "light"
     },
     "output_type": "display_data"
    }
   ],
   "source": [
    "occurence_0, frequencies_0 = plot(data[0][0],data[0][1], True)"
   ]
  },
  {
   "cell_type": "code",
   "execution_count": 66,
   "metadata": {},
   "outputs": [
    {
     "data": {
      "text/plain": [
       "(9706, 49.93459781838387, 791.5312547988312)"
      ]
     },
     "execution_count": 66,
     "metadata": {},
     "output_type": "execute_result"
    }
   ],
   "source": [
    "occurance_0.argmax(), frequencies_0[9706], occurance_0[occurance_0.argmax()] ## The 50Hz is the fundamental frequency."
   ]
  },
  {
   "cell_type": "code",
   "execution_count": 67,
   "metadata": {},
   "outputs": [
    {
     "data": {
      "image/png": "[encoded data removed]",
      "text/plain": [
       "<Figure size 432x288 with 1 Axes>"
      ]
     },
     "metadata": {
      "needs_background": "light"
     },
     "output_type": "display_data"
    }
   ],
   "source": [
    "occurance_1, frequencies_1 = plot(data[1][0], data[1][1], True)"
   ]
  },
  {
   "cell_type": "code",
   "execution_count": 69,
   "metadata": {},
   "outputs": [
    {
     "data": {
      "text/plain": [
       "(14949, 57.37453943777293, 478.4702272066255)"
      ]
     },
     "execution_count": 69,
     "metadata": {},
     "output_type": "execute_result"
    }
   ],
   "source": [
    "occurance_1.argmax(), frequencies_1[occurance_1.argmax()], occurance_1[occurance_1.argmax()]"
   ]
  },
  {
   "cell_type": "code",
   "execution_count": 70,
   "metadata": {},
   "outputs": [
    {
     "data": {
      "text/plain": [
       "['../../Music/hypothesis_1/Becky Hill - Sunrise In The East.wav',\n",
       " '../../Music/hypothesis_1/Cashmere-CatQuit-ft.-Ariana-GrandeLyrics-_Official-Audio_.wav',\n",
       " '../../Music/hypothesis_1/Daya - Insomnia (Lyrics Lyric Video).wav',\n",
       " '../../Music/hypothesis_1/Dynoro & Gigi DAgostino - In My Mind.wav',\n",
       " '../../Music/hypothesis_1/Maroon-5-Maps-_Lyric-Video_.wav',\n",
       " '../../Music/hypothesis_1/Nick-Jonas-_-Nicki-Minaj-Bom-Bidi-Bom-_Lyrics_-_Fifty-Shades-Darker_-HD.wav',\n",
       " '../../Music/hypothesis_1/Thinking out Loud.wav']"
      ]
     },
     "execution_count": 70,
     "metadata": {},
     "output_type": "execute_result"
    }
   ],
   "source": [
    "music_files"
   ]
  },
  {
   "cell_type": "code",
   "execution_count": null,
   "metadata": {},
   "outputs": [],
   "source": []
  }
 ],
 "metadata": {
  "kernelspec": {
   "display_name": "Python 3",
   "language": "python",
   "name": "python3"
  },
  "language_info": {
   "codemirror_mode": {
    "name": "ipython",
    "version": 3
   },
   "file_extension": ".py",
   "mimetype": "text/x-python",
   "name": "python",
   "nbconvert_exporter": "python",
   "pygments_lexer": "ipython3",
   "version": "3.7.3"
  }
 },
 "nbformat": 4,
 "nbformat_minor": 2
}
