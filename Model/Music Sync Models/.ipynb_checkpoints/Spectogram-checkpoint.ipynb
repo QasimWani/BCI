{
 "cells": [
  {
   "cell_type": "code",
   "execution_count": 30,
   "metadata": {},
   "outputs": [],
   "source": [
    "from scipy import fft, arange, signal\n",
    "from scipy.special import logit, expit\n",
    "import numpy as np\n",
    "import matplotlib.pyplot as plt\n",
    "from scipy.io import wavfile\n",
    "import os\n",
    "import csv\n",
    "import pandas as pd\n",
    "from ttictoc import TicToc\n",
    "#----------------------\n",
    "from sklearn.metrics import accuracy_score, confusion_matrix, precision_score\n",
    "from sklearn.ensemble import RandomForestClassifier\n",
    "from sklearn import svm, tree\n",
    "import xgboost\n",
    "from sklearn.model_selection import train_test_split\n",
    "#---------------------RF HP-f(x) & CV---------------\n",
    "from sklearn.model_selection import RandomizedSearchCV, GridSearchCV\n",
    "from sklearn.model_selection import cross_val_score"
   ]
  },
  {
   "cell_type": "code",
   "execution_count": 2,
   "metadata": {},
   "outputs": [],
   "source": [
    "folder_root_Hypothesis_1 = \"../../Music/hypothesis_1/\"\n",
    "folder_root_Hypothesis_2 = \"../../Music/hypothesis_2/\""
   ]
  },
  {
   "cell_type": "code",
   "execution_count": 3,
   "metadata": {},
   "outputs": [],
   "source": [
    "def read_file(path):\n",
    "    \"\"\"\n",
    "    Reads the audio .wav file and returns the sample rate and data contents of the file.\n",
    "    \"\"\"\n",
    "    sr, signal = wavfile.read(path)\n",
    "    return sr, signal[:,0]"
   ]
  },
  {
   "cell_type": "code",
   "execution_count": 4,
   "metadata": {},
   "outputs": [],
   "source": [
    "def read_all(files):\n",
    "    \"\"\"Branch audio file extrapolation. Uses read_file() method.\"\"\"\n",
    "    ret = []\n",
    "    t = TicToc()\n",
    "    t.tic();\n",
    "    for fl in files:\n",
    "        ret.append(read_file(fl))\n",
    "    t.toc();\n",
    "    print(\"Time it took to read data from files of length \", len(files), \" = \", round(t.elapsed, 3), \" seconds.\")\n",
    "    return np.array(ret)"
   ]
  },
  {
   "cell_type": "code",
   "execution_count": 5,
   "metadata": {},
   "outputs": [],
   "source": [
    "def find_files(PATH, ext):\n",
    "    \"\"\"\n",
    "    Finds all the files in a particular directory. Return only .csv files.\n",
    "    \"\"\"\n",
    "    files = []\n",
    "    for r, d, f in os.walk(PATH):\n",
    "        for file in f:\n",
    "            if ext in file:\n",
    "                files.append(os.path.join(r, file).replace(\"\\\\\",\"/\"))\n",
    "    return files"
   ]
  },
  {
   "cell_type": "code",
   "execution_count": 6,
   "metadata": {},
   "outputs": [],
   "source": [
    "music_files = find_files(folder_root_Hypothesis_1, \".wav\")"
   ]
  },
  {
   "cell_type": "code",
   "execution_count": 7,
   "metadata": {},
   "outputs": [
    {
     "name": "stdout",
     "output_type": "stream",
     "text": [
      "Time it took to read data from files of length  7  =  0.284  seconds.\n"
     ]
    }
   ],
   "source": [
    "data = read_all(music_files)"
   ]
  },
  {
   "cell_type": "code",
   "execution_count": 8,
   "metadata": {},
   "outputs": [],
   "source": [
    "def frequency_sepectrum(sf, x):\n",
    "    \"\"\"\n",
    "    Convertion of Audio from time domain to frequency domain using Fast Fourier Algorithm.\n",
    "    Parameters:\n",
    "    1. sf : sampling frequency (usually 44.1 KHz)\n",
    "    2. x : time domain signals.\n",
    "    Returns:\n",
    "    1. Sampling rate.\n",
    "    2. Frequency distribution (Nyquist maintained)\n",
    "    \"\"\"\n",
    "    x = x - np.average(x)  # biasing.\n",
    "\n",
    "    n = len(x)\n",
    "    k = arange(n)\n",
    "    tarr = n / float(sf)\n",
    "    frqarr = k / float(tarr)  # two sides frequency range\n",
    "\n",
    "    frqarr = frqarr[range(n // 2)]  # one side frequency range\n",
    "\n",
    "    x = fft(x) / n  # fft computing and normalization\n",
    "    x = x[range(n // 2)]\n",
    "\n",
    "    return frqarr, abs(x)"
   ]
  },
  {
   "cell_type": "code",
   "execution_count": 9,
   "metadata": {},
   "outputs": [],
   "source": [
    "def plot(sample_rate, signal, state=False):\n",
    "    \"\"\"\n",
    "    Method responsible for converting from time domain to frequency\n",
    "    via the discrete fourier analysis function created in frequency_sepectrum().\n",
    "    Option to form a plot of the resultant frequency domain graph with its frequency content distribution.\n",
    "    Returns:\n",
    "    1. Y: The frequencies.\n",
    "    2. frq: The content distribution.\n",
    "    \"\"\"\n",
    "    frq, Y = frequency_sepectrum(sample_rate, signal)\n",
    "    frq = frq\n",
    "    if(state == True):\n",
    "        plt.plot(frq, Y)\n",
    "        plt.title(\"Frequency (Hz) vs. Magnitude\")\n",
    "        plt.xlabel(\"Frequency (Hz)\")\n",
    "        plt.ylabel(\"Magnitude\")\n",
    "    return Y, frq"
   ]
  },
  {
   "cell_type": "code",
   "execution_count": 10,
   "metadata": {},
   "outputs": [
    {
     "data": {
      "image/png": "[encoded data removed]",
      "text/plain": [
       "<Figure size 432x288 with 1 Axes>"
      ]
     },
     "metadata": {
      "needs_background": "light"
     },
     "output_type": "display_data"
    }
   ],
   "source": [
    "magnitude_0, frequencies_0 = plot(data[0][0],data[0][1], True) #Specgram"
   ]
  },
  {
   "cell_type": "code",
   "execution_count": 50,
   "metadata": {},
   "outputs": [],
   "source": [
    "f, t, Sxx = signal.spectrogram(data[2][1], fs=data[2][0]) #Spectogram"
   ]
  },
  {
   "cell_type": "code",
   "execution_count": 51,
   "metadata": {},
   "outputs": [
    {
     "data": {
      "image/png": "[encoded data removed]",
      "text/plain": [
       "<Figure size 432x288 with 1 Axes>"
      ]
     },
     "metadata": {
      "needs_background": "light"
     },
     "output_type": "display_data"
    }
   ],
   "source": [
    "plt.pcolormesh(t, f, Sxx)\n",
    "plt.ylabel('Frequency [Hz]')\n",
    "plt.xlabel('Time [sec]')\n",
    "plt.ylim(top=5000)\n",
    "plt.show()"
   ]
  },
  {
   "cell_type": "code",
   "execution_count": null,
   "metadata": {},
   "outputs": [],
   "source": []
  },
  {
   "cell_type": "code",
   "execution_count": null,
   "metadata": {},
   "outputs": [],
   "source": []
  }
 ],
 "metadata": {
  "kernelspec": {
   "display_name": "Python 3",
   "language": "python",
   "name": "python3"
  },
  "language_info": {
   "codemirror_mode": {
    "name": "ipython",
    "version": 3
   },
   "file_extension": ".py",
   "mimetype": "text/x-python",
   "name": "python",
   "nbconvert_exporter": "python",
   "pygments_lexer": "ipython3",
   "version": "3.7.3"
  }
 },
 "nbformat": 4,
 "nbformat_minor": 2
}
