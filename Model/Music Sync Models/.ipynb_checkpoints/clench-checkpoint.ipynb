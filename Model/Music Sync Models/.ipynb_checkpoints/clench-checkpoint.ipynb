{
 "cells": [
  {
   "cell_type": "code",
   "execution_count": 461,
   "metadata": {},
   "outputs": [],
   "source": [
    "#Calculates the number of Clenches in individual .csv file of EEG data caused by fluctuations in Electric Potential."
   ]
  },
  {
   "cell_type": "code",
   "execution_count": 489,
   "metadata": {},
   "outputs": [],
   "source": [
    "from scipy import fft, arange, signal\n",
    "from scipy.special import logit, expit\n",
    "import numpy as np\n",
    "import matplotlib.pyplot as plt\n",
    "from scipy.io import wavfile\n",
    "import os\n",
    "import csv\n",
    "import pandas as pd\n",
    "from ttictoc import TicToc\n",
    "#----------------------\n",
    "from sklearn.metrics import accuracy_score, confusion_matrix, precision_score\n",
    "from sklearn.ensemble import RandomForestClassifier\n",
    "from sklearn import svm, tree\n",
    "import xgboost\n",
    "from sklearn.model_selection import train_test_split\n",
    "#---------------------RF HP-f(x) & CV---------------\n",
    "from sklearn.model_selection import RandomizedSearchCV, GridSearchCV\n",
    "from sklearn.model_selection import cross_val_score"
   ]
  },
  {
   "cell_type": "code",
   "execution_count": 490,
   "metadata": {},
   "outputs": [],
   "source": [
    "EEG_FOLDER = \"../../data/Clench/Official_Tests\""
   ]
  },
  {
   "cell_type": "code",
   "execution_count": 491,
   "metadata": {},
   "outputs": [],
   "source": [
    "def read_file(path):\n",
    "    \"\"\"\n",
    "    Reads the audio .wav file and returns the sample rate and data contents of the file.\n",
    "    \"\"\"\n",
    "    sr, signal = wavfile.read(path)\n",
    "    return sr, signal[:,0]"
   ]
  },
  {
   "cell_type": "code",
   "execution_count": 492,
   "metadata": {},
   "outputs": [],
   "source": [
    "def read_all(files):\n",
    "    \"\"\"Branch audio file extrapolation. Uses read_file() method.\"\"\"\n",
    "    ret = []\n",
    "    t = TicToc()\n",
    "    t.tic();\n",
    "    for fl in files:\n",
    "        ret.append(read_file(fl))\n",
    "    t.toc();\n",
    "    print(\"Time it took to read data from files of length \", len(files), \" = \", round(t.elapsed, 3), \" seconds.\")\n",
    "    return np.array(ret)"
   ]
  },
  {
   "cell_type": "code",
   "execution_count": 493,
   "metadata": {},
   "outputs": [],
   "source": [
    "def find_files(PATH, ext):\n",
    "    \"\"\"\n",
    "    Finds all the files in a particular directory. Return only .csv files.\n",
    "    \"\"\"\n",
    "    files = []\n",
    "    for r, d, f in os.walk(PATH):\n",
    "        for file in f:\n",
    "            if ext in file:\n",
    "                files.append(os.path.join(r, file).replace(\"\\\\\",\"/\"))\n",
    "    return files"
   ]
  },
  {
   "cell_type": "code",
   "execution_count": 494,
   "metadata": {},
   "outputs": [],
   "source": [
    "files = find_files(EEG_FOLDER, \".csv\")"
   ]
  },
  {
   "cell_type": "code",
   "execution_count": 495,
   "metadata": {},
   "outputs": [],
   "source": [
    "def remove_meta_data(PATH):\n",
    "    \"\"\"\n",
    "    Return:\n",
    "    1. Changes in Electric potential based on Unix timestamp from\n",
    "        the 5 channels of the Emotiv headset. 2 channels from the Frontal Lobe, \n",
    "        1 channel from the parietal lobe, and 2 from temporal lobe.\n",
    "    2. Pandas Dataframe of the data reflected from (1).\n",
    "    \"\"\"\n",
    "    reader = csv.reader(open(PATH, \"rt\"), delimiter='\\t')\n",
    "    i = 0\n",
    "    one_file_data = []\n",
    "    for line in reader:\n",
    "        if(i > 0):\n",
    "            one_file_data.append(line)\n",
    "        i += 1\n",
    "    one_file_data = np.array(one_file_data)\n",
    "    columns = one_file_data[0][0].split(\",\")[3:8]\n",
    "    row_data = []\n",
    "    for rows in one_file_data[1:]:\n",
    "        dtx = rows[0].split(\",\")[3:8]\n",
    "        cont = []\n",
    "        for x in dtx:\n",
    "            cont.append(float(x))\n",
    "        row_data.append(cont)\n",
    "    dataframe = pd.DataFrame(row_data, columns=columns)\n",
    "    return np.array(row_data), dataframe"
   ]
  },
  {
   "cell_type": "code",
   "execution_count": 496,
   "metadata": {},
   "outputs": [],
   "source": [
    "def data_DF_dir(list_PATH):\n",
    "    \"\"\"\n",
    "    Returns all the data from a given set of path files and its associated pandas dataframe object.\n",
    "    \"\"\"\n",
    "    raw_data = []\n",
    "    dataframes = []\n",
    "    for file in list_PATH:\n",
    "        rd, dfob = remove_meta_data(file)\n",
    "        raw_data.append(rd)\n",
    "        dataframes.append(dfob)\n",
    "    return raw_data, dataframes"
   ]
  },
  {
   "cell_type": "code",
   "execution_count": 497,
   "metadata": {},
   "outputs": [],
   "source": [
    "bci_data, bci_df = data_DF_dir(files)"
   ]
  },
  {
   "cell_type": "code",
   "execution_count": 498,
   "metadata": {},
   "outputs": [
    {
     "data": {
      "text/plain": [
       "['../../data/Clench/Official_Tests/1_test_31.12.19_16.36.16.bp.csv',\n",
       " '../../data/Clench/Official_Tests/2_test_31.12.19_16.36.41.bp.csv',\n",
       " '../../data/Clench/Official_Tests/3_official_test_31.12.19_16.43.47.bp.csv',\n",
       " '../../data/Clench/Official_Tests/4_test_31.12.19_16.44.52.bp.csv',\n",
       " '../../data/Clench/Official_Tests/5_test_31.12.19_16.45.34.bp.csv']"
      ]
     },
     "execution_count": 498,
     "metadata": {},
     "output_type": "execute_result"
    }
   ],
   "source": [
    "files"
   ]
  },
  {
   "cell_type": "code",
   "execution_count": 499,
   "metadata": {},
   "outputs": [],
   "source": [
    "friendly_name = [x.split(\"/\")[-1].split(\"_\")[0] for x in files]"
   ]
  },
  {
   "cell_type": "code",
   "execution_count": 500,
   "metadata": {},
   "outputs": [],
   "source": [
    "def count_peaks_validation(peaks, x, threshold_vertical):\n",
    "    count = 0\n",
    "    for states in peaks:\n",
    "        if(states > threshold_vertical):\n",
    "            count += 1\n",
    "    plt.plot(x)\n",
    "    plt.xlabel(\"Time (sample_rate (128) per second expansion)\")\n",
    "    plt.ylabel(\"Amplitude\")\n",
    "    plt.title(\"Time Domain Chart of Peak count (One-Sided f(x))\", y=1.08)\n",
    "    return count"
   ]
  },
  {
   "cell_type": "code",
   "execution_count": 501,
   "metadata": {},
   "outputs": [],
   "source": [
    "def ease(index, distance, start_index, threshold_vertical, height, width):\n",
    "    dataCV = []\n",
    "    for i in range(0, 5):\n",
    "        x = bci_data[index].T[i][start_index:]\n",
    "        x = abs(x - np.average(x))  # biasing.\n",
    "        peaks, props = signal.find_peaks(x, distance=distance, height=height, width=width)\n",
    "        count = count_peaks_validation(peaks, x, threshold_vertical)\n",
    "        dataCV.append(count)\n",
    "    count = round(np.array(dataCV).mean())\n",
    "    return int(friendly_name[index]), count"
   ]
  },
  {
   "cell_type": "code",
   "execution_count": 502,
   "metadata": {},
   "outputs": [
    {
     "data": {
      "text/plain": [
       "'1'"
      ]
     },
     "execution_count": 502,
     "metadata": {},
     "output_type": "execute_result"
    }
   ],
   "source": [
    "friendly_name[0]"
   ]
  },
  {
   "cell_type": "code",
   "execution_count": null,
   "metadata": {},
   "outputs": [],
   "source": []
  },
  {
   "cell_type": "code",
   "execution_count": 523,
   "metadata": {},
   "outputs": [
    {
     "name": "stdout",
     "output_type": "stream",
     "text": [
      "21 * 34  =  714\n"
     ]
    }
   ],
   "source": [
    "def decode_brain_wave():\n",
    "    count = []\n",
    "for i in range(len(friendly_name)):\n",
    "    p,t = ease(i, 249, 309, 50, 200, 1)\n",
    "    count.append(t)\n",
    "opA = ''\n",
    "opB = ''\n",
    "operation = ['+','-','*','/']\n",
    "result = 0\n",
    "\n",
    "check = False\n",
    "for x in count:\n",
    "    x = int(x)\n",
    "    if(x < 10):\n",
    "        if(check == True):\n",
    "            opB += str(x)\n",
    "        else:\n",
    "            opA += str(x)\n",
    "    else:\n",
    "        operation = operation[int(x%10)]\n",
    "        check = True\n",
    "opA = int(opA)\n",
    "opB = int(opB)\n",
    "\n",
    "result = opA / opB\n",
    "if(operation == '+'):\n",
    "    result = opA + opB\n",
    "elif(operation == '-'):\n",
    "    result = opA - opB\n",
    "elif(operation == '*'):\n",
    "    result = opA * opB\n",
    "\n",
    "print(opA, operation, opB, \" = \", result)"
   ]
  },
  {
   "cell_type": "code",
   "execution_count": 506,
   "metadata": {},
   "outputs": [
    {
     "data": {
      "text/plain": [
       "['1', '2', '3', '4', '5']"
      ]
     },
     "execution_count": 506,
     "metadata": {},
     "output_type": "execute_result"
    }
   ],
   "source": [
    "friendly_name"
   ]
  },
  {
   "cell_type": "code",
   "execution_count": 519,
   "metadata": {},
   "outputs": [
    {
     "data": {
      "text/plain": [
       "[2.0, 1.0, 12.0, 3.0, 4.0]"
      ]
     },
     "execution_count": 519,
     "metadata": {},
     "output_type": "execute_result"
    }
   ],
   "source": [
    "count"
   ]
  },
  {
   "cell_type": "code",
   "execution_count": 478,
   "metadata": {},
   "outputs": [
    {
     "data": {
      "text/plain": [
       "(3, 12.0)"
      ]
     },
     "execution_count": 478,
     "metadata": {},
     "output_type": "execute_result"
    },
    {
     "data": {
      "image/png": "[encoded data removed]",
      "text/plain": [
       "<Figure size 432x288 with 1 Axes>"
      ]
     },
     "metadata": {
      "needs_background": "light"
     },
     "output_type": "display_data"
    }
   ],
   "source": [
    "ease(2, 249, 309, 50, 200, 1)"
   ]
  },
  {
   "cell_type": "code",
   "execution_count": 87,
   "metadata": {},
   "outputs": [],
   "source": [
    "def validation(distance, start_index, threshold_vertical, cv_width, CV=False):\n",
    "    \n",
    "    validation_score = 0\n",
    "    samples_correct = []\n",
    "    samples_wrong = []\n",
    "    \n",
    "    for index in range(len(friendly_name)):\n",
    "        test, pred = ease(index, distance, start_index, threshold_vertical, cv_width)\n",
    "        if(test == pred):\n",
    "            validation_score += 1\n",
    "            samples_correct.append(friendly_name[index])\n",
    "        else:\n",
    "            samples_wrong.append([friendly_name[index], pred])\n",
    "    \n",
    "    if(CV == False):\n",
    "        print(\"Final Result :\\n\\nSamples Correct: \", str(validation_score), \"\\nSamples Incorrect : \", str(len(samples_wrong)), \"\\n\")\n",
    "        if(len(samples_wrong) > 0):\n",
    "            for wr in range(len(samples_wrong)):\n",
    "                print(\"Incorrect Sample #\", str(wr+1), \": \", str(samples_wrong[wr][0]), \"\\tPredicted : \", str(samples_wrong[wr][1]))\n",
    "    return validation_score, samples_correct, samples_wrong"
   ]
  },
  {
   "cell_type": "code",
   "execution_count": 45,
   "metadata": {
    "scrolled": true
   },
   "outputs": [
    {
     "name": "stdout",
     "output_type": "stream",
     "text": [
      "\n",
      "\n",
      "\n",
      "Highest score recorded at : 12 \t Index [distance] at :  250 \tStart Index : 250\n",
      "Fluctuation from Highest Point at :  255 \tScore :  11\n"
     ]
    },
    {
     "ename": "KeyboardInterrupt",
     "evalue": "",
     "output_type": "error",
     "traceback": [
      "\u001b[1;31m---------------------------------------------------------------------------\u001b[0m",
      "\u001b[1;31mKeyboardInterrupt\u001b[0m                         Traceback (most recent call last)",
      "\u001b[1;32m<ipython-input-45-cca278b8a5a1>\u001b[0m in \u001b[0;36m<module>\u001b[1;34m\u001b[0m\n\u001b[0;32m     11\u001b[0m         \u001b[0mcontrol\u001b[0m \u001b[1;33m=\u001b[0m \u001b[0mcv\u001b[0m\u001b[1;33m\u001b[0m\u001b[1;33m\u001b[0m\u001b[0m\n\u001b[0;32m     12\u001b[0m         \u001b[1;32mfor\u001b[0m \u001b[0mt_iv\u001b[0m \u001b[1;32min\u001b[0m \u001b[0mrange\u001b[0m\u001b[1;33m(\u001b[0m\u001b[1;36m500\u001b[0m\u001b[1;33m,\u001b[0m \u001b[1;36m510\u001b[0m\u001b[1;33m)\u001b[0m\u001b[1;33m:\u001b[0m\u001b[1;33m\u001b[0m\u001b[1;33m\u001b[0m\u001b[0m\n\u001b[1;32m---> 13\u001b[1;33m             \u001b[0msc\u001b[0m\u001b[1;33m,\u001b[0m\u001b[0m_\u001b[0m\u001b[1;33m,\u001b[0m\u001b[0m_\u001b[0m \u001b[1;33m=\u001b[0m \u001b[0mvalidation\u001b[0m\u001b[1;33m(\u001b[0m\u001b[0mcontrol\u001b[0m\u001b[1;33m,\u001b[0m \u001b[0msid\u001b[0m\u001b[1;33m,\u001b[0m \u001b[0mt_iv\u001b[0m\u001b[1;33m,\u001b[0m \u001b[1;32mTrue\u001b[0m\u001b[1;33m)\u001b[0m\u001b[1;33m\u001b[0m\u001b[1;33m\u001b[0m\u001b[0m\n\u001b[0m\u001b[0;32m     14\u001b[0m             \u001b[1;32mif\u001b[0m\u001b[1;33m(\u001b[0m\u001b[0msc\u001b[0m \u001b[1;33m>\u001b[0m \u001b[0mhighest\u001b[0m\u001b[1;33m)\u001b[0m\u001b[1;33m:\u001b[0m\u001b[1;33m\u001b[0m\u001b[1;33m\u001b[0m\u001b[0m\n\u001b[0;32m     15\u001b[0m                 \u001b[0mhighest\u001b[0m \u001b[1;33m=\u001b[0m \u001b[0msc\u001b[0m\u001b[1;33m\u001b[0m\u001b[1;33m\u001b[0m\u001b[0m\n",
      "\u001b[1;32m<ipython-input-40-de27f1f22371>\u001b[0m in \u001b[0;36mvalidation\u001b[1;34m(distance, start_index, threshold_vertical, CV)\u001b[0m\n\u001b[0;32m      6\u001b[0m \u001b[1;33m\u001b[0m\u001b[0m\n\u001b[0;32m      7\u001b[0m     \u001b[1;32mfor\u001b[0m \u001b[0mindex\u001b[0m \u001b[1;32min\u001b[0m \u001b[0mrange\u001b[0m\u001b[1;33m(\u001b[0m\u001b[0mlen\u001b[0m\u001b[1;33m(\u001b[0m\u001b[0mfriendly_name\u001b[0m\u001b[1;33m)\u001b[0m\u001b[1;33m)\u001b[0m\u001b[1;33m:\u001b[0m\u001b[1;33m\u001b[0m\u001b[1;33m\u001b[0m\u001b[0m\n\u001b[1;32m----> 8\u001b[1;33m         \u001b[0mtest\u001b[0m\u001b[1;33m,\u001b[0m \u001b[0mpred\u001b[0m \u001b[1;33m=\u001b[0m \u001b[0mease\u001b[0m\u001b[1;33m(\u001b[0m\u001b[0mindex\u001b[0m\u001b[1;33m,\u001b[0m \u001b[0mdistance\u001b[0m\u001b[1;33m,\u001b[0m \u001b[0mstart_index\u001b[0m\u001b[1;33m,\u001b[0m \u001b[0mthreshold_vertical\u001b[0m\u001b[1;33m)\u001b[0m\u001b[1;33m\u001b[0m\u001b[1;33m\u001b[0m\u001b[0m\n\u001b[0m\u001b[0;32m      9\u001b[0m         \u001b[1;32mif\u001b[0m\u001b[1;33m(\u001b[0m\u001b[0mtest\u001b[0m \u001b[1;33m==\u001b[0m \u001b[0mpred\u001b[0m\u001b[1;33m)\u001b[0m\u001b[1;33m:\u001b[0m\u001b[1;33m\u001b[0m\u001b[1;33m\u001b[0m\u001b[0m\n\u001b[0;32m     10\u001b[0m             \u001b[0mvalidation_score\u001b[0m \u001b[1;33m+=\u001b[0m \u001b[1;36m1\u001b[0m\u001b[1;33m\u001b[0m\u001b[1;33m\u001b[0m\u001b[0m\n",
      "\u001b[1;32m<ipython-input-25-d42c43f97ff5>\u001b[0m in \u001b[0;36mease\u001b[1;34m(index, distance, start_index, threshold_vertical)\u001b[0m\n\u001b[0;32m      4\u001b[0m         \u001b[0mx\u001b[0m \u001b[1;33m=\u001b[0m \u001b[0mbci_data\u001b[0m\u001b[1;33m[\u001b[0m\u001b[0mindex\u001b[0m\u001b[1;33m]\u001b[0m\u001b[1;33m.\u001b[0m\u001b[0mT\u001b[0m\u001b[1;33m[\u001b[0m\u001b[0mi\u001b[0m\u001b[1;33m]\u001b[0m\u001b[1;33m[\u001b[0m\u001b[0mstart_index\u001b[0m\u001b[1;33m:\u001b[0m\u001b[1;33m]\u001b[0m\u001b[1;33m\u001b[0m\u001b[1;33m\u001b[0m\u001b[0m\n\u001b[0;32m      5\u001b[0m         \u001b[0mx\u001b[0m \u001b[1;33m=\u001b[0m \u001b[0mabs\u001b[0m\u001b[1;33m(\u001b[0m\u001b[0mx\u001b[0m \u001b[1;33m-\u001b[0m \u001b[0mnp\u001b[0m\u001b[1;33m.\u001b[0m\u001b[0maverage\u001b[0m\u001b[1;33m(\u001b[0m\u001b[0mx\u001b[0m\u001b[1;33m)\u001b[0m\u001b[1;33m)\u001b[0m  \u001b[1;31m# biasing.\u001b[0m\u001b[1;33m\u001b[0m\u001b[1;33m\u001b[0m\u001b[0m\n\u001b[1;32m----> 6\u001b[1;33m         \u001b[0mpeaks\u001b[0m\u001b[1;33m,\u001b[0m \u001b[0mprops\u001b[0m \u001b[1;33m=\u001b[0m \u001b[0msignal\u001b[0m\u001b[1;33m.\u001b[0m\u001b[0mfind_peaks\u001b[0m\u001b[1;33m(\u001b[0m\u001b[0mx\u001b[0m\u001b[1;33m,\u001b[0m \u001b[0mdistance\u001b[0m\u001b[1;33m=\u001b[0m\u001b[0mdistance\u001b[0m\u001b[1;33m)\u001b[0m\u001b[1;33m\u001b[0m\u001b[1;33m\u001b[0m\u001b[0m\n\u001b[0m\u001b[0;32m      7\u001b[0m         \u001b[0mcount\u001b[0m \u001b[1;33m=\u001b[0m \u001b[0mcount_peaks_validation\u001b[0m\u001b[1;33m(\u001b[0m\u001b[0mpeaks\u001b[0m\u001b[1;33m,\u001b[0m \u001b[0mx\u001b[0m\u001b[1;33m,\u001b[0m \u001b[0mthreshold_vertical\u001b[0m\u001b[1;33m)\u001b[0m\u001b[1;33m\u001b[0m\u001b[1;33m\u001b[0m\u001b[0m\n\u001b[0;32m      8\u001b[0m         \u001b[0mdataCV\u001b[0m\u001b[1;33m.\u001b[0m\u001b[0mappend\u001b[0m\u001b[1;33m(\u001b[0m\u001b[0mcount\u001b[0m\u001b[1;33m)\u001b[0m\u001b[1;33m\u001b[0m\u001b[1;33m\u001b[0m\u001b[0m\n",
      "\u001b[1;32m~\\Anaconda3\\lib\\site-packages\\scipy\\signal\\_peak_finding.py\u001b[0m in \u001b[0;36mfind_peaks\u001b[1;34m(x, height, threshold, distance, prominence, width, wlen, rel_height, plateau_size)\u001b[0m\n\u001b[0;32m    937\u001b[0m         \u001b[1;32mraise\u001b[0m \u001b[0mValueError\u001b[0m\u001b[1;33m(\u001b[0m\u001b[1;34m'`distance` must be greater or equal to 1'\u001b[0m\u001b[1;33m)\u001b[0m\u001b[1;33m\u001b[0m\u001b[1;33m\u001b[0m\u001b[0m\n\u001b[0;32m    938\u001b[0m \u001b[1;33m\u001b[0m\u001b[0m\n\u001b[1;32m--> 939\u001b[1;33m     \u001b[0mpeaks\u001b[0m\u001b[1;33m,\u001b[0m \u001b[0mleft_edges\u001b[0m\u001b[1;33m,\u001b[0m \u001b[0mright_edges\u001b[0m \u001b[1;33m=\u001b[0m \u001b[0m_local_maxima_1d\u001b[0m\u001b[1;33m(\u001b[0m\u001b[0mx\u001b[0m\u001b[1;33m)\u001b[0m\u001b[1;33m\u001b[0m\u001b[1;33m\u001b[0m\u001b[0m\n\u001b[0m\u001b[0;32m    940\u001b[0m     \u001b[0mproperties\u001b[0m \u001b[1;33m=\u001b[0m \u001b[1;33m{\u001b[0m\u001b[1;33m}\u001b[0m\u001b[1;33m\u001b[0m\u001b[1;33m\u001b[0m\u001b[0m\n\u001b[0;32m    941\u001b[0m \u001b[1;33m\u001b[0m\u001b[0m\n",
      "\u001b[1;31mKeyboardInterrupt\u001b[0m: "
     ]
    }
   ],
   "source": [
    "high = []\n",
    "start_index = 0\n",
    "for sid in range(250, 260):\n",
    "    highest = 0\n",
    "    high_index = 0\n",
    "    count_first_off = False\n",
    "    fluc_point = 0\n",
    "    threshold_vertical = 0\n",
    "    print(\"\\n\\n\")\n",
    "    for cv in range(250, 400):\n",
    "        control = cv\n",
    "        for t_iv in range(500, 510):\n",
    "            sc,_,_ = validation(control, sid, t_iv, True)\n",
    "            if(sc > highest):\n",
    "                highest = sc\n",
    "                high_index = control\n",
    "                start_index = sid\n",
    "                if(highest >= 11):\n",
    "                    print(\"Highest score recorded at :\", highest, \"\\t Index [distance] at : \", control, \"\\tStart Index :\", sid)\n",
    "            elif(sc < highest and highest >= 11 and count_first_off == False):\n",
    "                print(\"Fluctuation from Highest Point at : \", control, \"\\tScore : \", sc)\n",
    "                count_first_off = True\n",
    "                fluc_point = control\n",
    "            \n",
    "    high.append((highest, high_index, fluc_point, sid, t_iv))"
   ]
  },
  {
   "cell_type": "code",
   "execution_count": 16,
   "metadata": {},
   "outputs": [
    {
     "data": {
      "text/plain": [
       "[(12, 249, 255, 250),\n",
       " (12, 249, 255, 251),\n",
       " (12, 249, 255, 252),\n",
       " (12, 249, 255, 253),\n",
       " (12, 249, 255, 254),\n",
       " (12, 223, 225, 255),\n",
       " (12, 223, 225, 256),\n",
       " (12, 223, 225, 257),\n",
       " (12, 223, 225, 258),\n",
       " (13, 249, 250, 259)]"
      ]
     },
     "execution_count": 16,
     "metadata": {},
     "output_type": "execute_result"
    }
   ],
   "source": [
    "high"
   ]
  },
  {
   "cell_type": "markdown",
   "metadata": {},
   "source": [
    "## Start Point:\n",
    ">Highest score recorded at : 11 \t Index [distance] at :  215 \tStart Index : 259\n",
    ">\n",
    ">Highest score recorded at : 12 \t Index [distance] at :  223 \tStart Index : 259\n",
    ">\n",
    ">Highest score recorded at : 13 \t Index [distance] at :  249 \tStart Index : 259\n",
    ">\n",
    ">Fluctuation from Highest Point at :  250 \tScore :  12\n",
    ">\n",
    ">DATA : (13, 249, 250, 259)"
   ]
  },
  {
   "cell_type": "markdown",
   "metadata": {},
   "source": [
    "## End Point:\n",
    "\n",
    "> Highest score recorded at : 11 \t Index !distance at :  213 \tStart Index : 359\n",
    "> \n",
    "> Highest score recorded at : 12 \t Index !distance at :  214 \tStart Index : 359\n",
    ">\n",
    "> Highest score recorded at : 13 \t Index !distance at :  249 \tStart Index : 359\n",
    ">\n",
    "> Fluctuation from Highest Point at :  255 \tScore :  12\n",
    ">\n",
    "> DATA : (13, 249, 255, 359)"
   ]
  },
  {
   "cell_type": "markdown",
   "metadata": {},
   "source": [
    "### Therefore, Average :\n",
    "> horizontal_distance : 259\n",
    ">\n",
    "> start_index : 309"
   ]
  },
  {
   "cell_type": "markdown",
   "metadata": {},
   "source": [
    "### Validation"
   ]
  },
  {
   "cell_type": "code",
   "execution_count": 103,
   "metadata": {
    "scrolled": true
   },
   "outputs": [
    {
     "name": "stdout",
     "output_type": "stream",
     "text": [
      "12 <<<<< VALUE >>>>> 0.6000000000000001 <<<< INDEX\n",
      "12 <<<<< VALUE >>>>> 0.7000000000000001 <<<< INDEX\n",
      "12 <<<<< VALUE >>>>> 0.8 <<<< INDEX\n",
      "12 <<<<< VALUE >>>>> 0.9 <<<< INDEX\n",
      "12 <<<<< VALUE >>>>> 1.0 <<<< INDEX\n",
      "12 <<<<< VALUE >>>>> 1.1 <<<< INDEX\n",
      "12 <<<<< VALUE >>>>> 1.2 <<<< INDEX\n",
      "12 <<<<< VALUE >>>>> 1.3 <<<< INDEX\n",
      "12 <<<<< VALUE >>>>> 1.4 <<<< INDEX\n",
      "12 <<<<< VALUE >>>>> 1.5 <<<< INDEX\n",
      "12 <<<<< VALUE >>>>> 1.6 <<<< INDEX\n",
      "12 <<<<< VALUE >>>>> 1.7000000000000002 <<<< INDEX\n",
      "12 <<<<< VALUE >>>>> 1.8 <<<< INDEX\n",
      "12 <<<<< VALUE >>>>> 1.9 <<<< INDEX\n",
      "12 <<<<< VALUE >>>>> 2.0 <<<< INDEX\n",
      "12 <<<<< VALUE >>>>> 2.1 <<<< INDEX\n",
      "12 <<<<< VALUE >>>>> 2.2 <<<< INDEX\n",
      "12 <<<<< VALUE >>>>> 2.3 <<<< INDEX\n",
      "12 <<<<< VALUE >>>>> 2.4 <<<< INDEX\n",
      "12 <<<<< VALUE >>>>> 2.5 <<<< INDEX\n",
      "12 <<<<< VALUE >>>>> 2.6 <<<< INDEX\n",
      "12 <<<<< VALUE >>>>> 2.7 <<<< INDEX\n",
      "12 <<<<< VALUE >>>>> 2.8 <<<< INDEX\n",
      "12 <<<<< VALUE >>>>> 2.9 <<<< INDEX\n",
      "12 <<<<< VALUE >>>>> 3.0 <<<< INDEX\n",
      "12 <<<<< VALUE >>>>> 3.1 <<<< INDEX\n",
      "12 <<<<< VALUE >>>>> 3.2 <<<< INDEX\n",
      "12 <<<<< VALUE >>>>> 3.3 <<<< INDEX\n",
      "12 <<<<< VALUE >>>>> 3.4 <<<< INDEX\n",
      "12 <<<<< VALUE >>>>> 3.5 <<<< INDEX\n",
      "12 <<<<< VALUE >>>>> 3.6 <<<< INDEX\n",
      "12 <<<<< VALUE >>>>> 3.7 <<<< INDEX\n",
      "12 <<<<< VALUE >>>>> 3.8 <<<< INDEX\n",
      "12 <<<<< VALUE >>>>> 3.9 <<<< INDEX\n",
      "12 <<<<< VALUE >>>>> 4.0 <<<< INDEX\n",
      "12 <<<<< VALUE >>>>> 4.1 <<<< INDEX\n",
      "12 <<<<< VALUE >>>>> 4.2 <<<< INDEX\n",
      "12 <<<<< VALUE >>>>> 4.3 <<<< INDEX\n",
      "12 <<<<< VALUE >>>>> 4.4 <<<< INDEX\n",
      "12 <<<<< VALUE >>>>> 4.5 <<<< INDEX\n",
      "12 <<<<< VALUE >>>>> 4.6 <<<< INDEX\n",
      "12 <<<<< VALUE >>>>> 4.7 <<<< INDEX\n",
      "12 <<<<< VALUE >>>>> 4.8 <<<< INDEX\n",
      "12 <<<<< VALUE >>>>> 4.9 <<<< INDEX\n",
      "12 <<<<< VALUE >>>>> 5.0 <<<< INDEX\n",
      "12 <<<<< VALUE >>>>> 5.1 <<<< INDEX\n",
      "12 <<<<< VALUE >>>>> 5.2 <<<< INDEX\n",
      "12 <<<<< VALUE >>>>> 5.3 <<<< INDEX\n",
      "12 <<<<< VALUE >>>>> 5.4 <<<< INDEX\n",
      "12 <<<<< VALUE >>>>> 5.5 <<<< INDEX\n",
      "12 <<<<< VALUE >>>>> 5.6 <<<< INDEX\n",
      "12 <<<<< VALUE >>>>> 5.7 <<<< INDEX\n",
      "12 <<<<< VALUE >>>>> 5.8 <<<< INDEX\n",
      "12 <<<<< VALUE >>>>> 5.9 <<<< INDEX\n",
      "12 <<<<< VALUE >>>>> 6.0 <<<< INDEX\n",
      "12 <<<<< VALUE >>>>> 6.1 <<<< INDEX\n",
      "12 <<<<< VALUE >>>>> 6.2 <<<< INDEX\n",
      "12 <<<<< VALUE >>>>> 6.3 <<<< INDEX\n",
      "12 <<<<< VALUE >>>>> 6.4 <<<< INDEX\n",
      "12 <<<<< VALUE >>>>> 6.5 <<<< INDEX\n",
      "12 <<<<< VALUE >>>>> 6.6 <<<< INDEX\n",
      "12 <<<<< VALUE >>>>> 6.7 <<<< INDEX\n",
      "12 <<<<< VALUE >>>>> 6.8 <<<< INDEX\n",
      "12 <<<<< VALUE >>>>> 6.9 <<<< INDEX\n",
      "12 <<<<< VALUE >>>>> 7.0 <<<< INDEX\n",
      "12 <<<<< VALUE >>>>> 7.1 <<<< INDEX\n",
      "12 <<<<< VALUE >>>>> 7.2 <<<< INDEX\n",
      "12 <<<<< VALUE >>>>> 7.3 <<<< INDEX\n",
      "12 <<<<< VALUE >>>>> 7.4 <<<< INDEX\n",
      "12 <<<<< VALUE >>>>> 7.5 <<<< INDEX\n",
      "12 <<<<< VALUE >>>>> 7.6 <<<< INDEX\n",
      "12 <<<<< VALUE >>>>> 7.7 <<<< INDEX\n",
      "12 <<<<< VALUE >>>>> 7.8 <<<< INDEX\n",
      "12 <<<<< VALUE >>>>> 7.9 <<<< INDEX\n",
      "12 <<<<< VALUE >>>>> 8.0 <<<< INDEX\n",
      "12 <<<<< VALUE >>>>> 8.1 <<<< INDEX\n",
      "12 <<<<< VALUE >>>>> 8.2 <<<< INDEX\n",
      "12 <<<<< VALUE >>>>> 8.3 <<<< INDEX\n",
      "12 <<<<< VALUE >>>>> 8.4 <<<< INDEX\n",
      "12 <<<<< VALUE >>>>> 8.5 <<<< INDEX\n",
      "12 <<<<< VALUE >>>>> 8.6 <<<< INDEX\n",
      "12 <<<<< VALUE >>>>> 8.7 <<<< INDEX\n",
      "12 <<<<< VALUE >>>>> 8.8 <<<< INDEX\n",
      "12 <<<<< VALUE >>>>> 8.9 <<<< INDEX\n",
      "12 <<<<< VALUE >>>>> 9.0 <<<< INDEX\n",
      "12 <<<<< VALUE >>>>> 9.1 <<<< INDEX\n",
      "12 <<<<< VALUE >>>>> 9.2 <<<< INDEX\n",
      "12 <<<<< VALUE >>>>> 9.3 <<<< INDEX\n",
      "12 <<<<< VALUE >>>>> 9.4 <<<< INDEX\n",
      "12 <<<<< VALUE >>>>> 9.5 <<<< INDEX\n",
      "12 <<<<< VALUE >>>>> 9.6 <<<< INDEX\n",
      "12 <<<<< VALUE >>>>> 9.7 <<<< INDEX\n",
      "12 <<<<< VALUE >>>>> 10.3 <<<< INDEX\n",
      "12 <<<<< VALUE >>>>> 10.4 <<<< INDEX\n",
      "12 <<<<< VALUE >>>>> 10.5 <<<< INDEX\n",
      "12 <<<<< VALUE >>>>> 10.6 <<<< INDEX\n",
      "12 <<<<< VALUE >>>>> 10.7 <<<< INDEX\n",
      "12 <<<<< VALUE >>>>> 10.8 <<<< INDEX\n",
      "12 <<<<< VALUE >>>>> 10.9 <<<< INDEX\n",
      "12 <<<<< VALUE >>>>> 11.0 <<<< INDEX\n",
      "12 <<<<< VALUE >>>>> 11.1 <<<< INDEX\n",
      "12 <<<<< VALUE >>>>> 11.2 <<<< INDEX\n",
      "12 <<<<< VALUE >>>>> 11.3 <<<< INDEX\n",
      "12 <<<<< VALUE >>>>> 11.4 <<<< INDEX\n",
      "12 <<<<< VALUE >>>>> 11.5 <<<< INDEX\n",
      "12 <<<<< VALUE >>>>> 11.6 <<<< INDEX\n",
      "12 <<<<< VALUE >>>>> 11.7 <<<< INDEX\n",
      "12 <<<<< VALUE >>>>> 12.0 <<<< INDEX\n",
      "12 <<<<< VALUE >>>>> 12.1 <<<< INDEX\n",
      "12 <<<<< VALUE >>>>> 12.2 <<<< INDEX\n",
      "12 <<<<< VALUE >>>>> 12.3 <<<< INDEX\n",
      "11 <<<<< VALUE >>>>> 13.4 <<<< INDEX\n",
      "11 <<<<< VALUE >>>>> 13.5 <<<< INDEX\n",
      "11 <<<<< VALUE >>>>> 13.6 <<<< INDEX\n",
      "11 <<<<< VALUE >>>>> 13.7 <<<< INDEX\n",
      "11 <<<<< VALUE >>>>> 13.8 <<<< INDEX\n",
      "11 <<<<< VALUE >>>>> 13.9 <<<< INDEX\n",
      "11 <<<<< VALUE >>>>> 14.0 <<<< INDEX\n",
      "11 <<<<< VALUE >>>>> 14.1 <<<< INDEX\n",
      "11 <<<<< VALUE >>>>> 14.2 <<<< INDEX\n",
      "11 <<<<< VALUE >>>>> 14.3 <<<< INDEX\n",
      "11 <<<<< VALUE >>>>> 14.4 <<<< INDEX\n",
      "11 <<<<< VALUE >>>>> 14.5 <<<< INDEX\n",
      "11 <<<<< VALUE >>>>> 14.6 <<<< INDEX\n",
      "11 <<<<< VALUE >>>>> 14.7 <<<< INDEX\n",
      "11 <<<<< VALUE >>>>> 14.8 <<<< INDEX\n",
      "11 <<<<< VALUE >>>>> 14.9 <<<< INDEX\n",
      "11 <<<<< VALUE >>>>> 15.0 <<<< INDEX\n",
      "11 <<<<< VALUE >>>>> 15.1 <<<< INDEX\n",
      "11 <<<<< VALUE >>>>> 15.2 <<<< INDEX\n",
      "11 <<<<< VALUE >>>>> 15.3 <<<< INDEX\n",
      "11 <<<<< VALUE >>>>> 15.4 <<<< INDEX\n",
      "11 <<<<< VALUE >>>>> 15.5 <<<< INDEX\n",
      "11 <<<<< VALUE >>>>> 15.6 <<<< INDEX\n",
      "11 <<<<< VALUE >>>>> 15.7 <<<< INDEX\n",
      "11 <<<<< VALUE >>>>> 15.8 <<<< INDEX\n",
      "11 <<<<< VALUE >>>>> 15.9 <<<< INDEX\n",
      "11 <<<<< VALUE >>>>> 16.0 <<<< INDEX\n",
      "11 <<<<< VALUE >>>>> 16.1 <<<< INDEX\n",
      "11 <<<<< VALUE >>>>> 16.2 <<<< INDEX\n",
      "11 <<<<< VALUE >>>>> 16.3 <<<< INDEX\n",
      "11 <<<<< VALUE >>>>> 16.4 <<<< INDEX\n",
      "11 <<<<< VALUE >>>>> 16.5 <<<< INDEX\n",
      "11 <<<<< VALUE >>>>> 16.6 <<<< INDEX\n",
      "11 <<<<< VALUE >>>>> 16.7 <<<< INDEX\n",
      "11 <<<<< VALUE >>>>> 16.8 <<<< INDEX\n",
      "11 <<<<< VALUE >>>>> 16.9 <<<< INDEX\n",
      "11 <<<<< VALUE >>>>> 17.0 <<<< INDEX\n",
      "11 <<<<< VALUE >>>>> 17.1 <<<< INDEX\n",
      "11 <<<<< VALUE >>>>> 17.2 <<<< INDEX\n",
      "11 <<<<< VALUE >>>>> 17.3 <<<< INDEX\n",
      "11 <<<<< VALUE >>>>> 17.4 <<<< INDEX\n",
      "11 <<<<< VALUE >>>>> 17.5 <<<< INDEX\n",
      "11 <<<<< VALUE >>>>> 17.6 <<<< INDEX\n",
      "11 <<<<< VALUE >>>>> 17.7 <<<< INDEX\n",
      "11 <<<<< VALUE >>>>> 17.8 <<<< INDEX\n",
      "11 <<<<< VALUE >>>>> 17.9 <<<< INDEX\n",
      "11 <<<<< VALUE >>>>> 18.0 <<<< INDEX\n",
      "11 <<<<< VALUE >>>>> 18.1 <<<< INDEX\n",
      "11 <<<<< VALUE >>>>> 18.2 <<<< INDEX\n",
      "11 <<<<< VALUE >>>>> 18.3 <<<< INDEX\n",
      "11 <<<<< VALUE >>>>> 18.4 <<<< INDEX\n",
      "11 <<<<< VALUE >>>>> 18.5 <<<< INDEX\n",
      "11 <<<<< VALUE >>>>> 18.6 <<<< INDEX\n",
      "11 <<<<< VALUE >>>>> 18.7 <<<< INDEX\n",
      "11 <<<<< VALUE >>>>> 18.8 <<<< INDEX\n",
      "11 <<<<< VALUE >>>>> 18.9 <<<< INDEX\n",
      "11 <<<<< VALUE >>>>> 19.0 <<<< INDEX\n",
      "11 <<<<< VALUE >>>>> 19.1 <<<< INDEX\n",
      "11 <<<<< VALUE >>>>> 19.2 <<<< INDEX\n",
      "11 <<<<< VALUE >>>>> 19.3 <<<< INDEX\n",
      "11 <<<<< VALUE >>>>> 19.4 <<<< INDEX\n",
      "11 <<<<< VALUE >>>>> 19.5 <<<< INDEX\n",
      "11 <<<<< VALUE >>>>> 19.6 <<<< INDEX\n",
      "11 <<<<< VALUE >>>>> 19.7 <<<< INDEX\n",
      "11 <<<<< VALUE >>>>> 19.8 <<<< INDEX\n",
      "11 <<<<< VALUE >>>>> 19.9 <<<< INDEX\n",
      "11 <<<<< VALUE >>>>> 20.0 <<<< INDEX\n",
      "12 <<<<< VALUE >>>>> 20.1 <<<< INDEX\n",
      "12 <<<<< VALUE >>>>> 20.2 <<<< INDEX\n",
      "12 <<<<< VALUE >>>>> 20.3 <<<< INDEX\n",
      "12 <<<<< VALUE >>>>> 20.4 <<<< INDEX\n",
      "12 <<<<< VALUE >>>>> 20.5 <<<< INDEX\n",
      "12 <<<<< VALUE >>>>> 20.6 <<<< INDEX\n",
      "12 <<<<< VALUE >>>>> 20.7 <<<< INDEX\n",
      "12 <<<<< VALUE >>>>> 20.8 <<<< INDEX\n",
      "12 <<<<< VALUE >>>>> 20.9 <<<< INDEX\n",
      "12 <<<<< VALUE >>>>> 21.0 <<<< INDEX\n",
      "12 <<<<< VALUE >>>>> 21.1 <<<< INDEX\n",
      "12 <<<<< VALUE >>>>> 21.2 <<<< INDEX\n",
      "12 <<<<< VALUE >>>>> 21.3 <<<< INDEX\n",
      "12 <<<<< VALUE >>>>> 21.4 <<<< INDEX\n",
      "12 <<<<< VALUE >>>>> 21.5 <<<< INDEX\n",
      "11 <<<<< VALUE >>>>> 21.6 <<<< INDEX\n",
      "11 <<<<< VALUE >>>>> 21.7 <<<< INDEX\n",
      "11 <<<<< VALUE >>>>> 21.8 <<<< INDEX\n",
      "11 <<<<< VALUE >>>>> 21.9 <<<< INDEX\n",
      "11 <<<<< VALUE >>>>> 22.0 <<<< INDEX\n",
      "11 <<<<< VALUE >>>>> 22.1 <<<< INDEX\n",
      "11 <<<<< VALUE >>>>> 22.2 <<<< INDEX\n",
      "11 <<<<< VALUE >>>>> 22.3 <<<< INDEX\n",
      "11 <<<<< VALUE >>>>> 22.4 <<<< INDEX\n",
      "11 <<<<< VALUE >>>>> 22.5 <<<< INDEX\n",
      "11 <<<<< VALUE >>>>> 22.6 <<<< INDEX\n",
      "11 <<<<< VALUE >>>>> 22.7 <<<< INDEX\n",
      "11 <<<<< VALUE >>>>> 22.8 <<<< INDEX\n",
      "11 <<<<< VALUE >>>>> 22.9 <<<< INDEX\n",
      "11 <<<<< VALUE >>>>> 23.0 <<<< INDEX\n",
      "11 <<<<< VALUE >>>>> 23.1 <<<< INDEX\n",
      "11 <<<<< VALUE >>>>> 23.2 <<<< INDEX\n",
      "11 <<<<< VALUE >>>>> 23.3 <<<< INDEX\n",
      "11 <<<<< VALUE >>>>> 23.4 <<<< INDEX\n",
      "11 <<<<< VALUE >>>>> 23.5 <<<< INDEX\n",
      "11 <<<<< VALUE >>>>> 23.6 <<<< INDEX\n",
      "11 <<<<< VALUE >>>>> 23.7 <<<< INDEX\n",
      "11 <<<<< VALUE >>>>> 23.8 <<<< INDEX\n",
      "11 <<<<< VALUE >>>>> 23.9 <<<< INDEX\n",
      "11 <<<<< VALUE >>>>> 24.0 <<<< INDEX\n",
      "11 <<<<< VALUE >>>>> 24.1 <<<< INDEX\n",
      "11 <<<<< VALUE >>>>> 24.2 <<<< INDEX\n",
      "11 <<<<< VALUE >>>>> 24.3 <<<< INDEX\n",
      "11 <<<<< VALUE >>>>> 24.4 <<<< INDEX\n",
      "11 <<<<< VALUE >>>>> 24.5 <<<< INDEX\n",
      "11 <<<<< VALUE >>>>> 24.6 <<<< INDEX\n",
      "11 <<<<< VALUE >>>>> 24.7 <<<< INDEX\n"
     ]
    },
    {
     "name": "stdout",
     "output_type": "stream",
     "text": [
      "11 <<<<< VALUE >>>>> 24.8 <<<< INDEX\n",
      "11 <<<<< VALUE >>>>> 24.9 <<<< INDEX\n",
      "11 <<<<< VALUE >>>>> 25.0 <<<< INDEX\n",
      "11 <<<<< VALUE >>>>> 25.1 <<<< INDEX\n",
      "11 <<<<< VALUE >>>>> 25.2 <<<< INDEX\n",
      "11 <<<<< VALUE >>>>> 25.3 <<<< INDEX\n",
      "11 <<<<< VALUE >>>>> 25.4 <<<< INDEX\n",
      "11 <<<<< VALUE >>>>> 25.5 <<<< INDEX\n",
      "11 <<<<< VALUE >>>>> 25.6 <<<< INDEX\n",
      "11 <<<<< VALUE >>>>> 25.7 <<<< INDEX\n",
      "11 <<<<< VALUE >>>>> 25.8 <<<< INDEX\n",
      "11 <<<<< VALUE >>>>> 25.9 <<<< INDEX\n",
      "11 <<<<< VALUE >>>>> 26.0 <<<< INDEX\n",
      "11 <<<<< VALUE >>>>> 26.1 <<<< INDEX\n",
      "12 <<<<< VALUE >>>>> 26.2 <<<< INDEX\n",
      "12 <<<<< VALUE >>>>> 26.3 <<<< INDEX\n",
      "12 <<<<< VALUE >>>>> 26.4 <<<< INDEX\n",
      "12 <<<<< VALUE >>>>> 26.5 <<<< INDEX\n",
      "12 <<<<< VALUE >>>>> 26.6 <<<< INDEX\n",
      "12 <<<<< VALUE >>>>> 26.7 <<<< INDEX\n",
      "12 <<<<< VALUE >>>>> 26.8 <<<< INDEX\n",
      "12 <<<<< VALUE >>>>> 26.9 <<<< INDEX\n",
      "12 <<<<< VALUE >>>>> 27.0 <<<< INDEX\n",
      "12 <<<<< VALUE >>>>> 27.1 <<<< INDEX\n",
      "12 <<<<< VALUE >>>>> 27.2 <<<< INDEX\n",
      "12 <<<<< VALUE >>>>> 27.3 <<<< INDEX\n",
      "12 <<<<< VALUE >>>>> 27.4 <<<< INDEX\n",
      "12 <<<<< VALUE >>>>> 27.5 <<<< INDEX\n",
      "12 <<<<< VALUE >>>>> 27.6 <<<< INDEX\n",
      "11 <<<<< VALUE >>>>> 27.7 <<<< INDEX\n",
      "11 <<<<< VALUE >>>>> 27.8 <<<< INDEX\n",
      "11 <<<<< VALUE >>>>> 27.9 <<<< INDEX\n",
      "11 <<<<< VALUE >>>>> 28.0 <<<< INDEX\n",
      "11 <<<<< VALUE >>>>> 28.1 <<<< INDEX\n",
      "11 <<<<< VALUE >>>>> 28.2 <<<< INDEX\n",
      "10 <<<<< VALUE >>>>> 28.3 <<<< INDEX\n",
      "10 <<<<< VALUE >>>>> 28.4 <<<< INDEX\n",
      "10 <<<<< VALUE >>>>> 28.5 <<<< INDEX\n",
      "10 <<<<< VALUE >>>>> 28.6 <<<< INDEX\n",
      "10 <<<<< VALUE >>>>> 28.7 <<<< INDEX\n",
      "10 <<<<< VALUE >>>>> 28.8 <<<< INDEX\n",
      "10 <<<<< VALUE >>>>> 28.9 <<<< INDEX\n",
      "10 <<<<< VALUE >>>>> 29.0 <<<< INDEX\n",
      "10 <<<<< VALUE >>>>> 29.1 <<<< INDEX\n",
      "10 <<<<< VALUE >>>>> 29.2 <<<< INDEX\n",
      "9 <<<<< VALUE >>>>> 29.3 <<<< INDEX\n",
      "9 <<<<< VALUE >>>>> 29.4 <<<< INDEX\n",
      "9 <<<<< VALUE >>>>> 29.5 <<<< INDEX\n",
      "9 <<<<< VALUE >>>>> 29.6 <<<< INDEX\n",
      "9 <<<<< VALUE >>>>> 29.7 <<<< INDEX\n",
      "10 <<<<< VALUE >>>>> 29.8 <<<< INDEX\n",
      "10 <<<<< VALUE >>>>> 29.9 <<<< INDEX\n",
      "10 <<<<< VALUE >>>>> 30.0 <<<< INDEX\n",
      "10 <<<<< VALUE >>>>> 30.1 <<<< INDEX\n",
      "10 <<<<< VALUE >>>>> 30.2 <<<< INDEX\n",
      "10 <<<<< VALUE >>>>> 30.3 <<<< INDEX\n",
      "10 <<<<< VALUE >>>>> 30.4 <<<< INDEX\n",
      "10 <<<<< VALUE >>>>> 30.5 <<<< INDEX\n",
      "10 <<<<< VALUE >>>>> 30.6 <<<< INDEX\n",
      "10 <<<<< VALUE >>>>> 30.7 <<<< INDEX\n",
      "10 <<<<< VALUE >>>>> 30.8 <<<< INDEX\n",
      "10 <<<<< VALUE >>>>> 30.9 <<<< INDEX\n",
      "10 <<<<< VALUE >>>>> 31.0 <<<< INDEX\n",
      "10 <<<<< VALUE >>>>> 31.1 <<<< INDEX\n",
      "10 <<<<< VALUE >>>>> 31.2 <<<< INDEX\n",
      "10 <<<<< VALUE >>>>> 31.3 <<<< INDEX\n",
      "10 <<<<< VALUE >>>>> 31.4 <<<< INDEX\n",
      "10 <<<<< VALUE >>>>> 31.5 <<<< INDEX\n",
      "10 <<<<< VALUE >>>>> 31.6 <<<< INDEX\n",
      "10 <<<<< VALUE >>>>> 31.7 <<<< INDEX\n",
      "9 <<<<< VALUE >>>>> 31.8 <<<< INDEX\n",
      "9 <<<<< VALUE >>>>> 31.9 <<<< INDEX\n",
      "9 <<<<< VALUE >>>>> 32.0 <<<< INDEX\n",
      "9 <<<<< VALUE >>>>> 32.1 <<<< INDEX\n",
      "9 <<<<< VALUE >>>>> 32.2 <<<< INDEX\n",
      "9 <<<<< VALUE >>>>> 32.3 <<<< INDEX\n",
      "9 <<<<< VALUE >>>>> 32.4 <<<< INDEX\n",
      "9 <<<<< VALUE >>>>> 32.5 <<<< INDEX\n",
      "9 <<<<< VALUE >>>>> 32.6 <<<< INDEX\n",
      "9 <<<<< VALUE >>>>> 32.7 <<<< INDEX\n",
      "9 <<<<< VALUE >>>>> 32.8 <<<< INDEX\n",
      "9 <<<<< VALUE >>>>> 32.9 <<<< INDEX\n",
      "9 <<<<< VALUE >>>>> 33.0 <<<< INDEX\n",
      "9 <<<<< VALUE >>>>> 33.1 <<<< INDEX\n",
      "9 <<<<< VALUE >>>>> 33.2 <<<< INDEX\n",
      "9 <<<<< VALUE >>>>> 33.3 <<<< INDEX\n",
      "9 <<<<< VALUE >>>>> 33.4 <<<< INDEX\n",
      "9 <<<<< VALUE >>>>> 33.5 <<<< INDEX\n",
      "9 <<<<< VALUE >>>>> 33.6 <<<< INDEX\n",
      "9 <<<<< VALUE >>>>> 33.7 <<<< INDEX\n",
      "9 <<<<< VALUE >>>>> 33.8 <<<< INDEX\n",
      "9 <<<<< VALUE >>>>> 33.9 <<<< INDEX\n",
      "9 <<<<< VALUE >>>>> 34.0 <<<< INDEX\n",
      "9 <<<<< VALUE >>>>> 34.1 <<<< INDEX\n",
      "9 <<<<< VALUE >>>>> 34.2 <<<< INDEX\n",
      "9 <<<<< VALUE >>>>> 34.3 <<<< INDEX\n",
      "9 <<<<< VALUE >>>>> 34.4 <<<< INDEX\n",
      "9 <<<<< VALUE >>>>> 34.5 <<<< INDEX\n",
      "9 <<<<< VALUE >>>>> 34.6 <<<< INDEX\n",
      "9 <<<<< VALUE >>>>> 34.7 <<<< INDEX\n",
      "9 <<<<< VALUE >>>>> 34.8 <<<< INDEX\n",
      "8 <<<<< VALUE >>>>> 34.9 <<<< INDEX\n",
      "8 <<<<< VALUE >>>>> 35.0 <<<< INDEX\n",
      "8 <<<<< VALUE >>>>> 35.1 <<<< INDEX\n",
      "8 <<<<< VALUE >>>>> 35.2 <<<< INDEX\n",
      "8 <<<<< VALUE >>>>> 35.3 <<<< INDEX\n",
      "7 <<<<< VALUE >>>>> 35.4 <<<< INDEX\n",
      "7 <<<<< VALUE >>>>> 35.5 <<<< INDEX\n",
      "7 <<<<< VALUE >>>>> 35.6 <<<< INDEX\n",
      "7 <<<<< VALUE >>>>> 35.7 <<<< INDEX\n",
      "7 <<<<< VALUE >>>>> 35.8 <<<< INDEX\n",
      "6 <<<<< VALUE >>>>> 35.9 <<<< INDEX\n",
      "6 <<<<< VALUE >>>>> 36.0 <<<< INDEX\n",
      "6 <<<<< VALUE >>>>> 36.1 <<<< INDEX\n",
      "6 <<<<< VALUE >>>>> 36.2 <<<< INDEX\n",
      "6 <<<<< VALUE >>>>> 36.3 <<<< INDEX\n",
      "6 <<<<< VALUE >>>>> 36.4 <<<< INDEX\n",
      "5 <<<<< VALUE >>>>> 36.5 <<<< INDEX\n",
      "5 <<<<< VALUE >>>>> 36.6 <<<< INDEX\n",
      "5 <<<<< VALUE >>>>> 36.7 <<<< INDEX\n",
      "5 <<<<< VALUE >>>>> 36.8 <<<< INDEX\n",
      "5 <<<<< VALUE >>>>> 36.9 <<<< INDEX\n",
      "4 <<<<< VALUE >>>>> 37.0 <<<< INDEX\n",
      "4 <<<<< VALUE >>>>> 37.1 <<<< INDEX\n",
      "4 <<<<< VALUE >>>>> 37.2 <<<< INDEX\n",
      "4 <<<<< VALUE >>>>> 37.3 <<<< INDEX\n",
      "4 <<<<< VALUE >>>>> 37.4 <<<< INDEX\n",
      "4 <<<<< VALUE >>>>> 37.5 <<<< INDEX\n",
      "4 <<<<< VALUE >>>>> 37.6 <<<< INDEX\n",
      "4 <<<<< VALUE >>>>> 37.7 <<<< INDEX\n",
      "4 <<<<< VALUE >>>>> 37.8 <<<< INDEX\n",
      "4 <<<<< VALUE >>>>> 37.9 <<<< INDEX\n",
      "4 <<<<< VALUE >>>>> 38.0 <<<< INDEX\n",
      "4 <<<<< VALUE >>>>> 38.1 <<<< INDEX\n",
      "4 <<<<< VALUE >>>>> 38.2 <<<< INDEX\n",
      "4 <<<<< VALUE >>>>> 38.3 <<<< INDEX\n",
      "4 <<<<< VALUE >>>>> 38.4 <<<< INDEX\n",
      "3 <<<<< VALUE >>>>> 38.5 <<<< INDEX\n",
      "3 <<<<< VALUE >>>>> 38.6 <<<< INDEX\n",
      "3 <<<<< VALUE >>>>> 38.7 <<<< INDEX\n",
      "3 <<<<< VALUE >>>>> 38.8 <<<< INDEX\n",
      "3 <<<<< VALUE >>>>> 38.9 <<<< INDEX\n",
      "3 <<<<< VALUE >>>>> 39.0 <<<< INDEX\n",
      "3 <<<<< VALUE >>>>> 39.1 <<<< INDEX\n",
      "3 <<<<< VALUE >>>>> 39.2 <<<< INDEX\n",
      "3 <<<<< VALUE >>>>> 39.3 <<<< INDEX\n",
      "3 <<<<< VALUE >>>>> 39.4 <<<< INDEX\n",
      "3 <<<<< VALUE >>>>> 39.5 <<<< INDEX\n",
      "3 <<<<< VALUE >>>>> 39.6 <<<< INDEX\n",
      "3 <<<<< VALUE >>>>> 39.7 <<<< INDEX\n",
      "3 <<<<< VALUE >>>>> 39.8 <<<< INDEX\n",
      "3 <<<<< VALUE >>>>> 39.9 <<<< INDEX\n"
     ]
    }
   ],
   "source": [
    "for x in range(0, 40):\n",
    "    for y in range(0, 10):\n",
    "        control = x + 0.1*y\n",
    "        v,c,w = validation(249, 309, 450, control, True)\n",
    "        if(v < 13):\n",
    "            print(v, \"<<<<< VALUE >>>>>\", control, \"<<<< INDEX\")\n",
    "    "
   ]
  },
  {
   "cell_type": "code",
   "execution_count": 100,
   "metadata": {},
   "outputs": [
    {
     "name": "stdout",
     "output_type": "stream",
     "text": [
      "Final Result :\n",
      "\n",
      "Samples Correct:  12 \n",
      "Samples Incorrect :  3 \n",
      "\n",
      "Incorrect Sample # 1 :  002 \tPredicted :  3.0\n",
      "Incorrect Sample # 2 :  003 \tPredicted :  2.0\n",
      "Incorrect Sample # 3 :  011 \tPredicted :  14.0\n"
     ]
    }
   ],
   "source": [
    "v,c,w = validation(249, 309, 500, 14)"
   ]
  },
  {
   "cell_type": "code",
   "execution_count": 433,
   "metadata": {},
   "outputs": [],
   "source": [
    "### Let's Test the following:\n",
    "\n",
    "# + = 10\n",
    "# - = 11\n",
    "# x = 12\n",
    "# % = 13\n",
    "\n",
    "# 21 x 34\n",
    "\n",
    "# 1. 2\n",
    "# 2. 1\n",
    "\n",
    "# 3. X <-- 12\n",
    "\n",
    "# 4. 3 \n",
    "# 5. 4"
   ]
  },
  {
   "cell_type": "code",
   "execution_count": null,
   "metadata": {},
   "outputs": [],
   "source": []
  }
 ],
 "metadata": {
  "kernelspec": {
   "display_name": "Python 3",
   "language": "python",
   "name": "python3"
  },
  "language_info": {
   "codemirror_mode": {
    "name": "ipython",
    "version": 3
   },
   "file_extension": ".py",
   "mimetype": "text/x-python",
   "name": "python",
   "nbconvert_exporter": "python",
   "pygments_lexer": "ipython3",
   "version": "3.7.3"
  }
 },
 "nbformat": 4,
 "nbformat_minor": 2
}
