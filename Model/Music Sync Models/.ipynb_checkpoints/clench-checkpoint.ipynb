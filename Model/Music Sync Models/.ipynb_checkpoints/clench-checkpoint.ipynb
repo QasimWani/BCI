{
 "cells": [
  {
   "cell_type": "code",
   "execution_count": 1,
   "metadata": {},
   "outputs": [],
   "source": [
    "#Calculates the number of Clenches in individual .csv file of EEG data caused by fluctuations in Electric Potential."
   ]
  },
  {
   "cell_type": "code",
   "execution_count": 2,
   "metadata": {},
   "outputs": [],
   "source": [
    "from scipy import fft, arange, signal\n",
    "from scipy.special import logit, expit\n",
    "import numpy as np\n",
    "import matplotlib.pyplot as plt\n",
    "from scipy.io import wavfile\n",
    "import os\n",
    "import csv\n",
    "import pandas as pd\n",
    "from ttictoc import TicToc\n",
    "#----------------------\n",
    "from sklearn.metrics import accuracy_score, confusion_matrix, precision_score\n",
    "from sklearn.ensemble import RandomForestClassifier\n",
    "from sklearn import svm, tree\n",
    "import xgboost\n",
    "from sklearn.model_selection import train_test_split\n",
    "#---------------------RF HP-f(x) & CV---------------\n",
    "from sklearn.model_selection import RandomizedSearchCV, GridSearchCV\n",
    "from sklearn.model_selection import cross_val_score"
   ]
  },
  {
   "cell_type": "code",
   "execution_count": 3,
   "metadata": {},
   "outputs": [],
   "source": [
    "EEG_FOLDER = \"../../data/Clench/\""
   ]
  },
  {
   "cell_type": "code",
   "execution_count": 4,
   "metadata": {},
   "outputs": [],
   "source": [
    "def read_file(path):\n",
    "    \"\"\"\n",
    "    Reads the audio .wav file and returns the sample rate and data contents of the file.\n",
    "    \"\"\"\n",
    "    sr, signal = wavfile.read(path)\n",
    "    return sr, signal[:,0]"
   ]
  },
  {
   "cell_type": "code",
   "execution_count": 5,
   "metadata": {},
   "outputs": [],
   "source": [
    "def read_all(files):\n",
    "    \"\"\"Branch audio file extrapolation. Uses read_file() method.\"\"\"\n",
    "    ret = []\n",
    "    t = TicToc()\n",
    "    t.tic();\n",
    "    for fl in files:\n",
    "        ret.append(read_file(fl))\n",
    "    t.toc();\n",
    "    print(\"Time it took to read data from files of length \", len(files), \" = \", round(t.elapsed, 3), \" seconds.\")\n",
    "    return np.array(ret)"
   ]
  },
  {
   "cell_type": "code",
   "execution_count": 6,
   "metadata": {},
   "outputs": [],
   "source": [
    "def find_files(PATH, ext):\n",
    "    \"\"\"\n",
    "    Finds all the files in a particular directory. Return only .csv files.\n",
    "    \"\"\"\n",
    "    files = []\n",
    "    for r, d, f in os.walk(PATH):\n",
    "        for file in f:\n",
    "            if ext in file:\n",
    "                files.append(os.path.join(r, file).replace(\"\\\\\",\"/\"))\n",
    "    return files"
   ]
  },
  {
   "cell_type": "code",
   "execution_count": 7,
   "metadata": {},
   "outputs": [],
   "source": [
    "files = find_files(EEG_FOLDER, \".csv\")"
   ]
  },
  {
   "cell_type": "code",
   "execution_count": 8,
   "metadata": {},
   "outputs": [],
   "source": [
    "def remove_meta_data(PATH):\n",
    "    \"\"\"\n",
    "    Return:\n",
    "    1. Changes in Electric potential based on Unix timestamp from\n",
    "        the 5 channels of the Emotiv headset. 2 channels from the Frontal Lobe, \n",
    "        1 channel from the parietal lobe, and 2 from temporal lobe.\n",
    "    2. Pandas Dataframe of the data reflected from (1).\n",
    "    \"\"\"\n",
    "    reader = csv.reader(open(PATH, \"rt\"), delimiter='\\t')\n",
    "    i = 0\n",
    "    one_file_data = []\n",
    "    for line in reader:\n",
    "        if(i > 0):\n",
    "            one_file_data.append(line)\n",
    "        i += 1\n",
    "    one_file_data = np.array(one_file_data)\n",
    "    columns = one_file_data[0][0].split(\",\")[3:8]\n",
    "    row_data = []\n",
    "    for rows in one_file_data[1:]:\n",
    "        dtx = rows[0].split(\",\")[3:8]\n",
    "        cont = []\n",
    "        for x in dtx:\n",
    "            cont.append(float(x))\n",
    "        row_data.append(cont)\n",
    "    dataframe = pd.DataFrame(row_data, columns=columns)\n",
    "    return np.array(row_data), dataframe"
   ]
  },
  {
   "cell_type": "code",
   "execution_count": 9,
   "metadata": {},
   "outputs": [],
   "source": [
    "def data_DF_dir(list_PATH):\n",
    "    \"\"\"\n",
    "    Returns all the data from a given set of path files and its associated pandas dataframe object.\n",
    "    \"\"\"\n",
    "    raw_data = []\n",
    "    dataframes = []\n",
    "    for file in list_PATH:\n",
    "        rd, dfob = remove_meta_data(file)\n",
    "        raw_data.append(rd)\n",
    "        dataframes.append(dfob)\n",
    "    return raw_data, dataframes"
   ]
  },
  {
   "cell_type": "code",
   "execution_count": 10,
   "metadata": {},
   "outputs": [],
   "source": [
    "bci_data, bci_df = data_DF_dir(files)"
   ]
  },
  {
   "cell_type": "code",
   "execution_count": 11,
   "metadata": {},
   "outputs": [],
   "source": [
    "friendly_name = [x.split(\"/\")[4].split(\"_\")[0] for x in files]"
   ]
  },
  {
   "cell_type": "code",
   "execution_count": 22,
   "metadata": {},
   "outputs": [],
   "source": [
    "def count_peaks_validation(peaks, x):\n",
    "    count = 0\n",
    "    for states in peaks:\n",
    "        if(states > 500):\n",
    "            count += 1\n",
    "    plt.plot(x)\n",
    "    plt.xlabel(\"Time (sample_rate (128) per second expansion)\")\n",
    "    plt.ylabel(\"Amplitude\")\n",
    "    plt.title(\"Time Domain Chart of Peak count (One-Sided f(x))\", y=1.08)\n",
    "    return count"
   ]
  },
  {
   "cell_type": "code",
   "execution_count": 13,
   "metadata": {},
   "outputs": [],
   "source": [
    "def ease(index, distance, start_index):\n",
    "    dataCV = []\n",
    "    for i in range(0, 5):\n",
    "        x = bci_data[index].T[i][start_index:]\n",
    "        x = abs(x - np.average(x))  # biasing.\n",
    "        peaks, props = signal.find_peaks(x, distance=distance)\n",
    "        count = count_peaks_validation(peaks, x)\n",
    "        dataCV.append(count)\n",
    "    count = round(np.array(dataCV).mean())\n",
    "    return int(friendly_name[index]), count"
   ]
  },
  {
   "cell_type": "code",
   "execution_count": 14,
   "metadata": {},
   "outputs": [],
   "source": [
    "def validation(distance, start_index, CV=False):\n",
    "    \n",
    "    validation_score = 0\n",
    "    samples_correct = []\n",
    "    samples_wrong = []\n",
    "    \n",
    "    for index in range(len(friendly_name)):\n",
    "        test, pred = ease(index, distance, start_index)\n",
    "        if(test == pred):\n",
    "            validation_score += 1\n",
    "            samples_correct.append(friendly_name[index])\n",
    "        else:\n",
    "            samples_wrong.append([friendly_name[index], pred])\n",
    "    \n",
    "    if(CV == False):\n",
    "        print(\"Final Result :\\n\\nSamples Correct: \", str(validation_score), \"\\nSamples Incorrect : \", str(len(samples_wrong)), \"\\n\")\n",
    "        if(len(samples_wrong) > 0):\n",
    "            for wr in range(len(samples_wrong)):\n",
    "                print(\"Incorrect Sample #\", str(wr+1), \": \", str(samples_wrong[wr][0]), \"\\tPredicted : \", str(samples_wrong[wr][1]))\n",
    "    return validation_score, samples_correct, samples_wrong"
   ]
  },
  {
   "cell_type": "code",
   "execution_count": 15,
   "metadata": {
    "scrolled": true
   },
   "outputs": [
    {
     "name": "stdout",
     "output_type": "stream",
     "text": [
      "\n",
      "\n",
      "\n",
      "Highest score recorded at : 11 \t Index [distance] at :  217 \tStart Index : 250\n",
      "Highest score recorded at : 12 \t Index [distance] at :  249 \tStart Index : 250\n",
      "Fluctuation from Highest Point at :  255 \tScore :  11\n",
      "\n",
      "\n",
      "\n",
      "Highest score recorded at : 11 \t Index [distance] at :  217 \tStart Index : 251\n",
      "Highest score recorded at : 12 \t Index [distance] at :  249 \tStart Index : 251\n",
      "Fluctuation from Highest Point at :  255 \tScore :  11\n",
      "\n",
      "\n",
      "\n",
      "Highest score recorded at : 11 \t Index [distance] at :  217 \tStart Index : 252\n",
      "Highest score recorded at : 12 \t Index [distance] at :  249 \tStart Index : 252\n",
      "Fluctuation from Highest Point at :  255 \tScore :  11\n",
      "\n",
      "\n",
      "\n",
      "Highest score recorded at : 11 \t Index [distance] at :  217 \tStart Index : 253\n",
      "Highest score recorded at : 12 \t Index [distance] at :  249 \tStart Index : 253\n",
      "Fluctuation from Highest Point at :  255 \tScore :  11\n",
      "\n",
      "\n",
      "\n",
      "Highest score recorded at : 11 \t Index [distance] at :  217 \tStart Index : 254\n",
      "Highest score recorded at : 12 \t Index [distance] at :  249 \tStart Index : 254\n",
      "Fluctuation from Highest Point at :  255 \tScore :  11\n",
      "\n",
      "\n",
      "\n",
      "Highest score recorded at : 11 \t Index [distance] at :  215 \tStart Index : 255\n",
      "Highest score recorded at : 12 \t Index [distance] at :  223 \tStart Index : 255\n",
      "Fluctuation from Highest Point at :  225 \tScore :  11\n",
      "\n",
      "\n",
      "\n",
      "Highest score recorded at : 11 \t Index [distance] at :  215 \tStart Index : 256\n",
      "Highest score recorded at : 12 \t Index [distance] at :  223 \tStart Index : 256\n",
      "Fluctuation from Highest Point at :  225 \tScore :  11\n",
      "\n",
      "\n",
      "\n",
      "Highest score recorded at : 11 \t Index [distance] at :  215 \tStart Index : 257\n",
      "Highest score recorded at : 12 \t Index [distance] at :  223 \tStart Index : 257\n",
      "Fluctuation from Highest Point at :  225 \tScore :  11\n",
      "\n",
      "\n",
      "\n",
      "Highest score recorded at : 11 \t Index [distance] at :  215 \tStart Index : 258\n",
      "Highest score recorded at : 12 \t Index [distance] at :  223 \tStart Index : 258\n",
      "Fluctuation from Highest Point at :  225 \tScore :  11\n",
      "\n",
      "\n",
      "\n",
      "Highest score recorded at : 11 \t Index [distance] at :  215 \tStart Index : 259\n",
      "Highest score recorded at : 12 \t Index [distance] at :  223 \tStart Index : 259\n",
      "Highest score recorded at : 13 \t Index [distance] at :  249 \tStart Index : 259\n",
      "Fluctuation from Highest Point at :  250 \tScore :  12\n"
     ]
    }
   ],
   "source": [
    "high = []\n",
    "start_index = 0\n",
    "for sid in range(250, 260):\n",
    "    highest = 0\n",
    "    high_index = 0\n",
    "    count_first_off = False\n",
    "    fluc_point = 0\n",
    "    print(\"\\n\\n\")\n",
    "    for cv in range(200, 400):\n",
    "        control = cv\n",
    "        sc,_,_ = validation(control, sid, True)\n",
    "        if(sc > highest):\n",
    "            highest = sc\n",
    "            high_index = control\n",
    "            start_index = sid\n",
    "            if(highest >= 11):\n",
    "                print(\"Highest score recorded at :\", highest, \"\\t Index [distance] at : \", control, \"\\tStart Index :\", sid)\n",
    "        elif(sc < highest and highest >= 11 and count_first_off == False):\n",
    "            print(\"Fluctuation from Highest Point at : \", control, \"\\tScore : \", sc)\n",
    "            count_first_off = True\n",
    "            fluc_point = control\n",
    "    high.append((highest, high_index, fluc_point, sid))"
   ]
  },
  {
   "cell_type": "code",
   "execution_count": 16,
   "metadata": {},
   "outputs": [
    {
     "data": {
      "text/plain": [
       "[(12, 249, 255, 250),\n",
       " (12, 249, 255, 251),\n",
       " (12, 249, 255, 252),\n",
       " (12, 249, 255, 253),\n",
       " (12, 249, 255, 254),\n",
       " (12, 223, 225, 255),\n",
       " (12, 223, 225, 256),\n",
       " (12, 223, 225, 257),\n",
       " (12, 223, 225, 258),\n",
       " (13, 249, 250, 259)]"
      ]
     },
     "execution_count": 16,
     "metadata": {},
     "output_type": "execute_result"
    }
   ],
   "source": [
    "high"
   ]
  },
  {
   "cell_type": "code",
   "execution_count": null,
   "metadata": {},
   "outputs": [],
   "source": []
  },
  {
   "cell_type": "markdown",
   "metadata": {},
   "source": [
    "## Start Point:\n",
    ">Highest score recorded at : 11 \t Index [distance] at :  215 \tStart Index : 259\n",
    ">\n",
    ">Highest score recorded at : 12 \t Index [distance] at :  223 \tStart Index : 259\n",
    ">\n",
    ">Highest score recorded at : 13 \t Index [distance] at :  249 \tStart Index : 259\n",
    ">\n",
    ">Fluctuation from Highest Point at :  250 \tScore :  12\n",
    ">\n",
    ">DATA : (13, 249, 250, 259)"
   ]
  },
  {
   "cell_type": "markdown",
   "metadata": {},
   "source": [
    "## End Point:\n",
    "\n",
    "> Highest score recorded at : 11 \t Index !distance at :  213 \tStart Index : 359\n",
    "> \n",
    "> Highest score recorded at : 12 \t Index !distance at :  214 \tStart Index : 359\n",
    ">\n",
    "> Highest score recorded at : 13 \t Index !distance at :  249 \tStart Index : 359\n",
    ">\n",
    "> Fluctuation from Highest Point at :  255 \tScore :  12\n",
    ">\n",
    "> DATA : (13, 249, 255, 359)"
   ]
  },
  {
   "cell_type": "markdown",
   "metadata": {},
   "source": [
    "### Therefore, Average :\n",
    "> horizontal_distance : 259\n",
    ">\n",
    "> start_index : 309"
   ]
  },
  {
   "cell_type": "markdown",
   "metadata": {},
   "source": [
    "### Validation"
   ]
  },
  {
   "cell_type": "code",
   "execution_count": 23,
   "metadata": {},
   "outputs": [
    {
     "name": "stdout",
     "output_type": "stream",
     "text": [
      "Final Result :\n",
      "\n",
      "Samples Correct:  13 \n",
      "Samples Incorrect :  2 \n",
      "\n",
      "Incorrect Sample # 1 :  002 \tPredicted :  3.0\n",
      "Incorrect Sample # 2 :  011 \tPredicted :  14.0\n"
     ]
    },
    {
     "data": {
      "image/png": "[encoded data removed]",
      "text/plain": [
       "<Figure size 432x288 with 1 Axes>"
      ]
     },
     "metadata": {
      "needs_background": "light"
     },
     "output_type": "display_data"
    }
   ],
   "source": [
    "v,c,w = validation(249, 309)"
   ]
  },
  {
   "cell_type": "code",
   "execution_count": null,
   "metadata": {},
   "outputs": [],
   "source": []
  }
 ],
 "metadata": {
  "kernelspec": {
   "display_name": "Python 3",
   "language": "python",
   "name": "python3"
  },
  "language_info": {
   "codemirror_mode": {
    "name": "ipython",
    "version": 3
   },
   "file_extension": ".py",
   "mimetype": "text/x-python",
   "name": "python",
   "nbconvert_exporter": "python",
   "pygments_lexer": "ipython3",
   "version": "3.7.3"
  }
 },
 "nbformat": 4,
 "nbformat_minor": 2
}
