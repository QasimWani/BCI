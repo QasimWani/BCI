{
 "cells": [
  {
   "cell_type": "code",
   "execution_count": 1,
   "metadata": {},
   "outputs": [],
   "source": [
    "### The purpose of this program is to synthesize music files based on their frequencies.\n",
    "### Steps:\n",
    "#--> 1. Use Fast Fourier Transformation to convert music from time domain to frequency domain.\n",
    "#--> 2. Make sure no aliasing takes place (obvious since .wav file samples at 44Khz, Nyquist frequency maintained)\n",
    "#--> 3. Generate Spectograms.\n",
    "#--> 4. ML to generate similarity calculations. {Jaccard, Cosine, Euclidean, Manhattan, Dynamic TimeWrap}"
   ]
  },
  {
   "cell_type": "code",
   "execution_count": 29,
   "metadata": {},
   "outputs": [],
   "source": [
    "from scipy import fft, arange, signal\n",
    "from scipy.special import logit, expit\n",
    "import numpy as np\n",
    "import matplotlib.pyplot as plt\n",
    "from scipy.io import wavfile\n",
    "import os\n",
    "import csv\n",
    "import pandas as pd\n",
    "from ttictoc import TicToc"
   ]
  },
  {
   "cell_type": "code",
   "execution_count": 3,
   "metadata": {},
   "outputs": [],
   "source": [
    "folder_root_Hypothesis_1 = \"../../Music/hypothesis_1/\"\n",
    "folder_root_Hypothesis_2 = \"../../Music/hypothesis_2/\""
   ]
  },
  {
   "cell_type": "code",
   "execution_count": 4,
   "metadata": {},
   "outputs": [],
   "source": [
    "def read_file(path):\n",
    "    \"\"\"\n",
    "    Reads the audio .wav file and returns the sample rate and data contents of the file.\n",
    "    \"\"\"\n",
    "    sr, signal = wavfile.read(path)\n",
    "    return sr, signal[:,0]"
   ]
  },
  {
   "cell_type": "code",
   "execution_count": 5,
   "metadata": {},
   "outputs": [],
   "source": [
    "def read_all(files):\n",
    "    \"\"\"Branch audio file extrapolation. Uses read_file() method.\"\"\"\n",
    "    ret = []\n",
    "    t = TicToc()\n",
    "    t.tic();\n",
    "    for fl in files:\n",
    "        ret.append(read_file(fl))\n",
    "    t.toc();\n",
    "    print(\"Time it took to read data from files of length \", len(files), \" = \", round(t.elapsed, 3), \" seconds.\")\n",
    "    return np.array(ret)"
   ]
  },
  {
   "cell_type": "code",
   "execution_count": 6,
   "metadata": {},
   "outputs": [],
   "source": [
    "def find_files(PATH, ext):\n",
    "    \"\"\"\n",
    "    Finds all the files in a particular directory. Return only .csv files.\n",
    "    \"\"\"\n",
    "    files = []\n",
    "    for r, d, f in os.walk(PATH):\n",
    "        for file in f:\n",
    "            if ext in file:\n",
    "                files.append(os.path.join(r, file).replace(\"\\\\\",\"/\"))\n",
    "    return files"
   ]
  },
  {
   "cell_type": "code",
   "execution_count": 7,
   "metadata": {},
   "outputs": [],
   "source": [
    "music_files = find_files(folder_root_Hypothesis_1, \".wav\")"
   ]
  },
  {
   "cell_type": "code",
   "execution_count": 8,
   "metadata": {},
   "outputs": [
    {
     "name": "stdout",
     "output_type": "stream",
     "text": [
      "Time it took to read data from files of length  7  =  0.298  seconds.\n"
     ]
    }
   ],
   "source": [
    "data = read_all(music_files)"
   ]
  },
  {
   "cell_type": "code",
   "execution_count": 9,
   "metadata": {},
   "outputs": [],
   "source": [
    "def frequency_sepectrum(sf, x):\n",
    "    \"\"\"\n",
    "    Convertion of Audio from time domain to frequency domain using Fast Fourier Algorithm.\n",
    "    Parameters:\n",
    "    1. sf : sampling frequency (usually 44.1 KHz)\n",
    "    2. x : time domain signals.\n",
    "    Returns:\n",
    "    1. Sampling rate.\n",
    "    2. Frequency distribution (Nyquist maintained)\n",
    "    \"\"\"\n",
    "    x = x - np.average(x)  # biasing.\n",
    "\n",
    "    n = len(x)\n",
    "    k = arange(n)\n",
    "    tarr = n / float(sf)\n",
    "    frqarr = k / float(tarr)  # two sides frequency range\n",
    "\n",
    "    frqarr = frqarr[range(n // 2)]  # one side frequency range\n",
    "\n",
    "    x = fft(x) / n  # fft computing and normalization\n",
    "    x = x[range(n // 2)]\n",
    "\n",
    "    return frqarr, abs(x)"
   ]
  },
  {
   "cell_type": "code",
   "execution_count": 10,
   "metadata": {},
   "outputs": [],
   "source": [
    "def plot(sample_rate, signal, state=False):\n",
    "    \"\"\"\n",
    "    Method responsible for converting from time domain to frequency\n",
    "    via the discrete fourier analysis function created in frequency_sepectrum().\n",
    "    Option to form a plot of the resultant frequency domain graph with its frequency content distribution.\n",
    "    Returns:\n",
    "    1. Y: The frequencies.\n",
    "    2. frq: The content distribution.\n",
    "    \"\"\"\n",
    "    frq, Y = frequency_sepectrum(sample_rate, signal)\n",
    "    frq = frq\n",
    "    if(state == True):\n",
    "        plt.plot(frq, Y)\n",
    "        plt.title(\"Frequency (Hz) vs. Occurence\")\n",
    "        plt.xlabel(\"Frequency (Hz)\")\n",
    "        plt.ylabel(\"Occurence (Count)\")\n",
    "    return Y, frq"
   ]
  },
  {
   "cell_type": "code",
   "execution_count": 11,
   "metadata": {},
   "outputs": [
    {
     "data": {
      "image/png": "[encoded data removed]",
      "text/plain": [
       "<Figure size 432x288 with 1 Axes>"
      ]
     },
     "metadata": {
      "needs_background": "light"
     },
     "output_type": "display_data"
    }
   ],
   "source": [
    "occurence_0, frequencies_0 = plot(data[0][0],data[0][1], True)"
   ]
  },
  {
   "cell_type": "code",
   "execution_count": 12,
   "metadata": {},
   "outputs": [
    {
     "data": {
      "text/plain": [
       "(9706, 49.93459781838387, 791.5312547988312)"
      ]
     },
     "execution_count": 12,
     "metadata": {},
     "output_type": "execute_result"
    }
   ],
   "source": [
    "occurence_0.argmax(), frequencies_0[9706], occurence_0[occurence_0.argmax()] ## The 50Hz is the fundamental frequency."
   ]
  },
  {
   "cell_type": "code",
   "execution_count": 13,
   "metadata": {},
   "outputs": [
    {
     "data": {
      "image/png": "[encoded data removed]",
      "text/plain": [
       "<Figure size 432x288 with 1 Axes>"
      ]
     },
     "metadata": {
      "needs_background": "light"
     },
     "output_type": "display_data"
    }
   ],
   "source": [
    "occurence_1, frequencies_1 = plot(data[1][0], data[1][1], True)"
   ]
  },
  {
   "cell_type": "code",
   "execution_count": 14,
   "metadata": {},
   "outputs": [
    {
     "data": {
      "text/plain": [
       "(14949, 57.37453943777293, 478.4702272066255)"
      ]
     },
     "execution_count": 14,
     "metadata": {},
     "output_type": "execute_result"
    }
   ],
   "source": [
    "occurence_1.argmax(), frequencies_1[occurence_1.argmax()], occurence_1[occurence_1.argmax()] #Fundamental frequency"
   ]
  },
  {
   "cell_type": "code",
   "execution_count": 15,
   "metadata": {},
   "outputs": [
    {
     "data": {
      "text/plain": [
       "['../../Music/hypothesis_1/Becky Hill - Sunrise In The East.wav',\n",
       " '../../Music/hypothesis_1/Cashmere-CatQuit-ft.-Ariana-GrandeLyrics-_Official-Audio_.wav',\n",
       " '../../Music/hypothesis_1/Daya - Insomnia (Lyrics Lyric Video).wav',\n",
       " '../../Music/hypothesis_1/Dynoro & Gigi DAgostino - In My Mind.wav',\n",
       " '../../Music/hypothesis_1/Maroon-5-Maps-_Lyric-Video_.wav',\n",
       " '../../Music/hypothesis_1/Nick-Jonas-_-Nicki-Minaj-Bom-Bidi-Bom-_Lyrics_-_Fifty-Shades-Darker_-HD.wav',\n",
       " '../../Music/hypothesis_1/Thinking out Loud.wav']"
      ]
     },
     "execution_count": 15,
     "metadata": {},
     "output_type": "execute_result"
    }
   ],
   "source": [
    "music_files"
   ]
  },
  {
   "cell_type": "code",
   "execution_count": 16,
   "metadata": {},
   "outputs": [
    {
     "data": {
      "image/png": "[encoded data removed]",
      "text/plain": [
       "<Figure size 432x288 with 1 Axes>"
      ]
     },
     "metadata": {
      "needs_background": "light"
     },
     "output_type": "display_data"
    }
   ],
   "source": [
    "occurence_2, frequencies_2 = plot(data[2][0], data[2][1], True)"
   ]
  },
  {
   "cell_type": "code",
   "execution_count": 17,
   "metadata": {},
   "outputs": [
    {
     "data": {
      "text/plain": [
       "(9473, 53.30128641704801, 1090.1268777065009)"
      ]
     },
     "execution_count": 17,
     "metadata": {},
     "output_type": "execute_result"
    }
   ],
   "source": [
    "occurence_2.argmax(), frequencies_2[occurence_2.argmax()], occurence_2[occurence_2.argmax()] #Fundamental Frequency"
   ]
  },
  {
   "cell_type": "code",
   "execution_count": 18,
   "metadata": {},
   "outputs": [
    {
     "data": {
      "text/plain": [
       "(2.0, 106.60257283409602, 161.64260441587894)"
      ]
     },
     "execution_count": 18,
     "metadata": {},
     "output_type": "execute_result"
    }
   ],
   "source": [
    "frequencies_2[9473*2] / frequencies_2[occurence_2.argmax()],frequencies_2[9473*2], occurence_2[18946] # Second Harmonic"
   ]
  },
  {
   "cell_type": "code",
   "execution_count": 19,
   "metadata": {},
   "outputs": [
    {
     "data": {
      "text/plain": [
       "(3.0, 159.90385925114404, 55.24600306177962)"
      ]
     },
     "execution_count": 19,
     "metadata": {},
     "output_type": "execute_result"
    }
   ],
   "source": [
    "frequencies_2[9473*3] /frequencies_2[occurence_2.argmax()], frequencies_2[9473*3], occurence_2[28419] # Third Harmonic"
   ]
  },
  {
   "cell_type": "markdown",
   "metadata": {},
   "source": [
    "## Part 2. Discrete Foureir Transformation of EEG Data on Same Music files to check for similarities"
   ]
  },
  {
   "cell_type": "code",
   "execution_count": 155,
   "metadata": {},
   "outputs": [],
   "source": [
    "folder_data = \"../../data/Music/\""
   ]
  },
  {
   "cell_type": "code",
   "execution_count": 156,
   "metadata": {},
   "outputs": [],
   "source": [
    "brain_music_files = find_files(folder_data, \".csv\")"
   ]
  },
  {
   "cell_type": "code",
   "execution_count": 157,
   "metadata": {},
   "outputs": [],
   "source": [
    "def remove_meta_data(PATH):\n",
    "    \"\"\"\n",
    "    Return:\n",
    "    1. Changes in Electric potential based on Unix timestamp from\n",
    "        the 5 channels of the Emotiv headset. 2 channels from the Frontal Lobe, \n",
    "        1 channel from the parietal lobe, and 2 from temporal lobe.\n",
    "    2. Pandas Dataframe of the data reflected from (1).\n",
    "    \"\"\"\n",
    "    reader = csv.reader(open(PATH, \"rt\"), delimiter='\\t')\n",
    "    i = 0\n",
    "    one_file_data = []\n",
    "    for line in reader:\n",
    "        if(i > 0):\n",
    "            one_file_data.append(line)\n",
    "        i += 1\n",
    "    one_file_data = np.array(one_file_data)\n",
    "    columns = one_file_data[0][0].split(\",\")[3:8]\n",
    "    row_data = []\n",
    "    for rows in one_file_data[1:]:\n",
    "        dtx = rows[0].split(\",\")[3:8]\n",
    "        cont = []\n",
    "        for x in dtx:\n",
    "            cont.append(float(x))\n",
    "        row_data.append(cont)\n",
    "    dataframe = pd.DataFrame(row_data, columns=columns)\n",
    "    return np.array(row_data), dataframe"
   ]
  },
  {
   "cell_type": "code",
   "execution_count": 162,
   "metadata": {},
   "outputs": [],
   "source": [
    "def data_DF_dir(list_PATH):\n",
    "    \"\"\"\n",
    "    Returns all the data from a given set of path files and its associated pandas dataframe object.\n",
    "    \"\"\"\n",
    "    raw_data = []\n",
    "    dataframes = []\n",
    "    for file in list_PATH:\n",
    "        rd, dfob = remove_meta_data(file)\n",
    "        raw_data.append(rd)\n",
    "        dataframes.append(dfob)\n",
    "    return raw_data, dataframes"
   ]
  },
  {
   "cell_type": "code",
   "execution_count": 163,
   "metadata": {},
   "outputs": [],
   "source": [
    "brain_data, brain_df = data_DF_dir(brain_music_files)"
   ]
  },
  {
   "cell_type": "code",
   "execution_count": null,
   "metadata": {},
   "outputs": [],
   "source": []
  },
  {
   "cell_type": "code",
   "execution_count": 167,
   "metadata": {},
   "outputs": [
    {
     "data": {
      "text/plain": [
       "163.40625"
      ]
     },
     "execution_count": 167,
     "metadata": {},
     "output_type": "execute_result"
    }
   ],
   "source": [
    "brain_data[0].shape[0]/128 ## Seconds of Brain Data ~2:43 min."
   ]
  },
  {
   "cell_type": "code",
   "execution_count": 62,
   "metadata": {},
   "outputs": [],
   "source": [
    "EEG_SAMPLE_RATE = 128 #Emotiv channel sampling rate"
   ]
  },
  {
   "cell_type": "code",
   "execution_count": 169,
   "metadata": {},
   "outputs": [
    {
     "data": {
      "text/plain": [
       "array([[4224.102539, 4266.666504, 4143.589844, 4121.538574, 4185.128418],\n",
       "       [4243.589844, 4285.128418, 4174.358887, 4142.563965, 4216.410156],\n",
       "       [4252.307617, 4298.974121, 4170.256348, 4144.102539, 4226.153809],\n",
       "       ...,\n",
       "       [4893.333496, 4295.897461, 4211.794922, 4146.666504, 4252.307617],\n",
       "       [4867.179688, 4271.282227, 4195.384766, 4135.897461, 4243.589844],\n",
       "       [4834.871582, 4241.025879, 4168.717773, 4108.205078, 4212.820313]])"
      ]
     },
     "execution_count": 169,
     "metadata": {},
     "output_type": "execute_result"
    }
   ],
   "source": [
    "brain_data[0]"
   ]
  },
  {
   "cell_type": "code",
   "execution_count": 170,
   "metadata": {},
   "outputs": [],
   "source": [
    "def channel_ind_data(data):\n",
    "    \"\"\"Retrieves data from each individual channel and splits it into an np.array()\"\"\"\n",
    "    data = data.T\n",
    "    br_d = []\n",
    "    for x in data:\n",
    "        channels = []\n",
    "        for y in x:\n",
    "            channels.append(y)\n",
    "        br_d.append(np.array(channels))\n",
    "    return np.array(br_d)"
   ]
  },
  {
   "cell_type": "code",
   "execution_count": 171,
   "metadata": {},
   "outputs": [],
   "source": [
    "EEG_data = channel_ind_data(brain_data[0])"
   ]
  },
  {
   "cell_type": "code",
   "execution_count": null,
   "metadata": {},
   "outputs": [],
   "source": []
  },
  {
   "cell_type": "code",
   "execution_count": 332,
   "metadata": {},
   "outputs": [
    {
     "data": {
      "image/png": "[encoded data removed]",
      "text/plain": [
       "<Figure size 432x288 with 1 Axes>"
      ]
     },
     "metadata": {
      "needs_background": "light"
     },
     "output_type": "display_data"
    }
   ],
   "source": [
    "EEG_occ, EEG_freq = plot(EEG_SAMPLE_RATE, EEG_data[1], True)"
   ]
  },
  {
   "cell_type": "code",
   "execution_count": 333,
   "metadata": {},
   "outputs": [
    {
     "data": {
      "text/plain": [
       "(20, 0.12239433926180913, 11.306934467632438)"
      ]
     },
     "execution_count": 333,
     "metadata": {},
     "output_type": "execute_result"
    }
   ],
   "source": [
    "EEG_occ.argmax(), EEG_freq[EEG_occ.argmax()], EEG_occ[EEG_occ.argmax()] #Fundamental Frequency"
   ]
  },
  {
   "cell_type": "code",
   "execution_count": 334,
   "metadata": {},
   "outputs": [],
   "source": [
    "### Sunrise In the East Maximum Spectral Frequency noted : ~0.1-0.25 Hz"
   ]
  },
  {
   "cell_type": "code",
   "execution_count": 335,
   "metadata": {},
   "outputs": [],
   "source": [
    "EEG_data_quit = channel_ind_data(brain_data[1])"
   ]
  },
  {
   "cell_type": "code",
   "execution_count": 336,
   "metadata": {},
   "outputs": [
    {
     "data": {
      "image/png": "[encoded data removed]",
      "text/plain": [
       "<Figure size 432x288 with 1 Axes>"
      ]
     },
     "metadata": {
      "needs_background": "light"
     },
     "output_type": "display_data"
    }
   ],
   "source": [
    "EEG_occ_quit, EEG_freq_quit = plot(EEG_SAMPLE_RATE, EEG_data_quit[1], True)"
   ]
  },
  {
   "cell_type": "code",
   "execution_count": 337,
   "metadata": {},
   "outputs": [
    {
     "data": {
      "text/plain": [
       "(1, 0.003903629155230253, 9.075726819657138)"
      ]
     },
     "execution_count": 337,
     "metadata": {},
     "output_type": "execute_result"
    }
   ],
   "source": [
    "EEG_occ_quit.argmax(), EEG_freq_quit[EEG_occ_quit.argmax()], EEG_occ_quit[EEG_occ_quit.argmax()] #Fundamental Frequency"
   ]
  },
  {
   "cell_type": "code",
   "execution_count": 338,
   "metadata": {},
   "outputs": [
    {
     "name": "stdout",
     "output_type": "stream",
     "text": [
      "Quit / Sunrise in the East :  1.1489937226779863 \n",
      "Sunrise in the East / Quit :  0.8703267739960119\n"
     ]
    }
   ],
   "source": [
    "quit = 57.37453943777293\n",
    "sunrise = 49.93459781838387\n",
    "print(\"Quit / Sunrise in the East : \", str(quit/sunrise), \"\\nSunrise in the East / Quit : \", str(sunrise/quit))"
   ]
  },
  {
   "cell_type": "code",
   "execution_count": 339,
   "metadata": {},
   "outputs": [],
   "source": [
    "a0 = quit/EEG_freq_quit[EEG_occ_quit.argmax()]"
   ]
  },
  {
   "cell_type": "code",
   "execution_count": 340,
   "metadata": {},
   "outputs": [],
   "source": [
    "a1 = sunrise/ EEG_freq[EEG_occ.argmax()]"
   ]
  },
  {
   "cell_type": "code",
   "execution_count": 330,
   "metadata": {},
   "outputs": [
    {
     "data": {
      "text/plain": [
       "(216.14328448581966, 543.9750249840192, 0.39734045601113666, 2.516733408017159)"
      ]
     },
     "execution_count": 330,
     "metadata": {},
     "output_type": "execute_result"
    }
   ],
   "source": [
    "a0,a1,a0/a1,a1/a0 ### Channel 1 Results"
   ]
  },
  {
   "cell_type": "code",
   "execution_count": 320,
   "metadata": {},
   "outputs": [
    {
     "data": {
      "text/plain": [
       "(14697.743345035737,\n",
       " 407.9812687380145,\n",
       " 36.02553467834305,\n",
       " 0.027758089059012787)"
      ]
     },
     "execution_count": 320,
     "metadata": {},
     "output_type": "execute_result"
    }
   ],
   "source": [
    "a0,a1,a0/a1,a1/a0 ### Channel 2 Results"
   ]
  },
  {
   "cell_type": "code",
   "execution_count": 309,
   "metadata": {},
   "outputs": [
    {
     "data": {
      "text/plain": [
       "(524.9194051798478, 543.9750249840192, 0.9649696788841892, 1.036301991536477)"
      ]
     },
     "execution_count": 309,
     "metadata": {},
     "output_type": "execute_result"
    }
   ],
   "source": [
    "a0,a1,a0/a1,a1/a0 ### Channel 3 Results"
   ]
  },
  {
   "cell_type": "code",
   "execution_count": 297,
   "metadata": {},
   "outputs": [
    {
     "data": {
      "text/plain": [
       "(219.36930365724982, 543.9750249840192, 0.4032709105784671, 2.479722622605142)"
      ]
     },
     "execution_count": 297,
     "metadata": {},
     "output_type": "execute_result"
    }
   ],
   "source": [
    "a0,a1,a0/a1,a1/a0 ### Channel 4 Results"
   ]
  },
  {
   "cell_type": "code",
   "execution_count": 281,
   "metadata": {},
   "outputs": [
    {
     "data": {
      "text/plain": [
       "(459.30447953236677, 199.0152530429339, 2.307885815331352, 0.4332969999455655)"
      ]
     },
     "execution_count": 281,
     "metadata": {},
     "output_type": "execute_result"
    }
   ],
   "source": [
    "a0,a1,a0/a1,a1/a0 ### Channel 5 Results"
   ]
  },
  {
   "cell_type": "code",
   "execution_count": 341,
   "metadata": {},
   "outputs": [
    {
     "data": {
      "text/plain": [
       "0.03664585651651839"
      ]
     },
     "execution_count": 341,
     "metadata": {},
     "output_type": "execute_result"
    }
   ],
   "source": [
    "(quit*EEG_freq_quit[EEG_occ_quit.argmax()])/(sunrise*EEG_freq[EEG_occ.argmax()])"
   ]
  },
  {
   "cell_type": "code",
   "execution_count": null,
   "metadata": {},
   "outputs": [],
   "source": []
  }
 ],
 "metadata": {
  "kernelspec": {
   "display_name": "Python 3",
   "language": "python",
   "name": "python3"
  },
  "language_info": {
   "codemirror_mode": {
    "name": "ipython",
    "version": 3
   },
   "file_extension": ".py",
   "mimetype": "text/x-python",
   "name": "python",
   "nbconvert_exporter": "python",
   "pygments_lexer": "ipython3",
   "version": "3.7.3"
  }
 },
 "nbformat": 4,
 "nbformat_minor": 2
}
